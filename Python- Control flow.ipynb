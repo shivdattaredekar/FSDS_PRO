{
 "cells": [
  {
   "cell_type": "code",
   "execution_count": 3,
   "id": "7497fb73-c272-49ef-80e7-1c2755eb93d1",
   "metadata": {},
   "outputs": [
    {
     "name": "stdin",
     "output_type": "stream",
     "text": [
      "Enter a number 23\n"
     ]
    },
    {
     "name": "stdout",
     "output_type": "stream",
     "text": [
      "The number is positive\n"
     ]
    }
   ],
   "source": [
    "#Write a Python program to check if a given number is positive or negative.\n",
    "\n",
    "num=int(input('Enter a number'))\n",
    "\n",
    "if num>=0:\n",
    "    print(\"The number is positive\")\n",
    "else:\n",
    "    print(\"The number is negative\")"
   ]
  },
  {
   "cell_type": "code",
   "execution_count": 5,
   "id": "52337d27-b013-47a4-b0c9-76d98756301a",
   "metadata": {},
   "outputs": [
    {
     "name": "stdin",
     "output_type": "stream",
     "text": [
      "Enter age 19\n"
     ]
    },
    {
     "name": "stdout",
     "output_type": "stream",
     "text": [
      "Person can vote\n"
     ]
    }
   ],
   "source": [
    "#Create a program that determines if a person is eligible to vote based on their age\n",
    "\n",
    "Age=int(input('Enter age'))\n",
    "\n",
    "if Age>18:\n",
    "    print(\"Person can vote\")\n",
    "else:\n",
    "    print(\"Person cannot vote\")"
   ]
  },
  {
   "cell_type": "code",
   "execution_count": 9,
   "id": "1ce538be-8d58-45ae-93da-b1a75b191924",
   "metadata": {},
   "outputs": [
    {
     "name": "stdin",
     "output_type": "stream",
     "text": [
      "Enter number1 12\n",
      "Enter number2 11\n"
     ]
    },
    {
     "name": "stdout",
     "output_type": "stream",
     "text": [
      "12 is bigger\n"
     ]
    }
   ],
   "source": [
    "#Develop a program to find the maximum of two numbers using if-else statements.\n",
    "\n",
    "num1=int(input('Enter number1'))\n",
    "\n",
    "num2=int(input('Enter number2'))\n",
    "\n",
    "if num1>num2:\n",
    "    print(f\"{num1} is bigger\")\n",
    "elif num1==num2:\n",
    "    print(\"both are equal\")\n",
    "else :\n",
    "    print(f\"{num2} is bigger\")"
   ]
  },
  {
   "cell_type": "code",
   "execution_count": 38,
   "id": "43dee56d-2852-4a09-9835-2c4922e12e16",
   "metadata": {},
   "outputs": [
    {
     "name": "stdin",
     "output_type": "stream",
     "text": [
      "Enter a year 1900\n"
     ]
    },
    {
     "name": "stdout",
     "output_type": "stream",
     "text": [
      "1900 is not a Leap year\n"
     ]
    }
   ],
   "source": [
    "#Write a Python script to classify a given year as a leap year or not.\n",
    "\n",
    "year=int(input(\"Enter a year\"))\n",
    "\n",
    "if (year%4==0 and year%100!=0) or (year%400==0):\n",
    "    print(f'{year} is a Leap year')\n",
    "        \n",
    "else:\n",
    "    print(f'{year} is not a Leap year')\n",
    "    "
   ]
  },
  {
   "cell_type": "code",
   "execution_count": 42,
   "id": "036e03b7-6ed4-4859-b91c-8ee634d885f9",
   "metadata": {},
   "outputs": [
    {
     "name": "stdin",
     "output_type": "stream",
     "text": [
      "Enter a char S\n"
     ]
    },
    {
     "name": "stdout",
     "output_type": "stream",
     "text": [
      "S is a consonant\n"
     ]
    }
   ],
   "source": [
    "#Create a program that checks whether a character is a vowel or a consonant.\n",
    "\n",
    "char=str(input('Enter a char'))\n",
    "\n",
    "if char.lower() in ('a','e','i','o','u'):\n",
    "    print(f'{char} is a vowel')\n",
    "    \n",
    "else:\n",
    "    print(f'{char} is a consonant')\n"
   ]
  },
  {
   "cell_type": "code",
   "execution_count": 45,
   "id": "6abfba5a-ba3c-4a9f-a563-ff2e0aaa8de9",
   "metadata": {},
   "outputs": [
    {
     "name": "stdin",
     "output_type": "stream",
     "text": [
      "Enter a number 22222\n"
     ]
    },
    {
     "name": "stdout",
     "output_type": "stream",
     "text": [
      "22222 is a Even\n"
     ]
    }
   ],
   "source": [
    "# Implement a program to determine whether a given number is even or odd.\n",
    "\n",
    "num=int(input('Enter a number'))\n",
    "\n",
    "if num%2==0 :\n",
    "    print(f'{num} is a Even')\n",
    "    \n",
    "else:\n",
    "    print(f'{num} is a Odd')\n"
   ]
  },
  {
   "cell_type": "code",
   "execution_count": 47,
   "id": "0f51dbe6-1236-415d-92ea-aeb5e9420f32",
   "metadata": {},
   "outputs": [
    {
     "name": "stdin",
     "output_type": "stream",
     "text": [
      "Enter a number -23\n"
     ]
    },
    {
     "name": "stdout",
     "output_type": "stream",
     "text": [
      "23\n"
     ]
    }
   ],
   "source": [
    "#Write a Python function to calculate the absolute value of a number without using the `abs()` funct\n",
    "\n",
    "num=int(input('Enter a number'))\n",
    "\n",
    "if num<0:\n",
    "    print(num*(-1))\n",
    "else:\n",
    "    print(num)\n",
    "    "
   ]
  },
  {
   "cell_type": "code",
   "execution_count": null,
   "id": "fd67cb53-35c1-4972-8c9e-4f133282c13f",
   "metadata": {},
   "outputs": [],
   "source": []
  },
  {
   "cell_type": "code",
   "execution_count": 17,
   "id": "99ae6fcd-8c0d-4615-8853-07a7178b46d5",
   "metadata": {},
   "outputs": [
    {
     "name": "stdin",
     "output_type": "stream",
     "text": [
      "Enter number1 30\n",
      "Enter number2 20\n",
      "Enter number3 10\n"
     ]
    },
    {
     "name": "stdout",
     "output_type": "stream",
     "text": [
      "30 is the largest\n"
     ]
    }
   ],
   "source": [
    "# Develop a program that determines the largest of three given numbers using if-else statements.\n",
    "\n",
    "num1=int(input('Enter number1'))\n",
    "\n",
    "num2=int(input('Enter number2'))\n",
    "\n",
    "num3=int(input('Enter number3'))\n",
    "\n",
    "if num1 >= num2 and num1 >= num3:\n",
    "    print(f\"{num1} is the largest\")\n",
    "else:\n",
    "    if num2 >= num1 and num2 >= num3:\n",
    "        print(f\"{num2} is the largest\")\n",
    "    else:\n",
    "        print(f\"{num3} is the largest\")"
   ]
  },
  {
   "cell_type": "code",
   "execution_count": 7,
   "id": "056c7f7f-865a-40fc-ac47-354ce9342d15",
   "metadata": {},
   "outputs": [
    {
     "name": "stdin",
     "output_type": "stream",
     "text": [
      "Enter a number 232\n"
     ]
    },
    {
     "name": "stdout",
     "output_type": "stream",
     "text": [
      "232 is palindrome\n"
     ]
    }
   ],
   "source": [
    "#Create a program that checks if a given string is a palindrome.\n",
    "\n",
    "num=str(input('Enter a number'))\n",
    "\n",
    "if num==num[::-1]:\n",
    "    print(f'{int(num)} is palindrome')\n",
    "else:\n",
    "    print(f'{int(num)} is not a palindrome')\n",
    "\n",
    "\n"
   ]
  },
  {
   "cell_type": "code",
   "execution_count": 55,
   "id": "41e32ffb-2ee0-4f18-bb88-0667e5dbbd05",
   "metadata": {},
   "outputs": [
    {
     "name": "stdin",
     "output_type": "stream",
     "text": [
      "enter score 51\n"
     ]
    },
    {
     "name": "stdout",
     "output_type": "stream",
     "text": [
      "Second class\n"
     ]
    }
   ],
   "source": [
    "#Write a Python program to calculate the grade based on a student's score\n",
    "\n",
    "score=int(input(\"enter score\"))\n",
    "\n",
    "if score>=70:\n",
    "    print('First class')\n",
    "    \n",
    "elif score>=50 and score<70:\n",
    "    print('Second class')\n",
    "    \n",
    "else :\n",
    "    print('Third class')"
   ]
  },
  {
   "cell_type": "code",
   "execution_count": null,
   "id": "a3f65103-24b7-4a17-aeff-5327f7adf164",
   "metadata": {},
   "outputs": [],
   "source": []
  },
  {
   "cell_type": "code",
   "execution_count": null,
   "id": "ac00d619-5ccb-44cd-89b0-cb78f3f16ce3",
   "metadata": {},
   "outputs": [],
   "source": [
    "## Write a program to find the largest among three numbers using nested if-else statements.\n",
    "\n",
    "num1=int(input('Enter number1'))\n",
    "\n",
    "num2=int(input('Enter number2'))\n",
    "\n",
    "num3=int(input('Enter number3'))\n",
    "\n",
    "if num1 >= num2:\n",
    "    if num1 >= num3:\n",
    "        largest = num1\n",
    "    else:\n",
    "        largest = num3\n",
    "else:\n",
    "    if num2 >= num3:\n",
    "        largest = num2\n",
    "    else:\n",
    "        largest = num3\n",
    "        \n",
    "print(largest)"
   ]
  },
  {
   "cell_type": "code",
   "execution_count": 11,
   "id": "1bb95365-3889-4766-9bcb-1d7d78ba6e9e",
   "metadata": {},
   "outputs": [
    {
     "name": "stdin",
     "output_type": "stream",
     "text": [
      "Enter length1 11\n",
      "Enter length2 11\n",
      "Enter length3 11\n"
     ]
    },
    {
     "name": "stdout",
     "output_type": "stream",
     "text": [
      "it is an equilateral triangle\n"
     ]
    }
   ],
   "source": [
    "#Implement a program to determine if a triangle is equilateral, isosceles, or scalene.\n",
    "length1=int(input('Enter length1'))\n",
    "length2=int(input('Enter length2'))\n",
    "length3=int(input('Enter length3'))\n",
    "\n",
    "if (length1==length2==length3) :\n",
    "    print('it is an equilateral triangle')\n",
    "else:\n",
    "    if(length1!=length2==length3) or  (length1==length2!=length3) or (length2!=length1==length3):\n",
    "        print('it is an isosceles triangle')\n",
    "    else:\n",
    "        print('it is a scalene triangle')\n",
    "\n"
   ]
  },
  {
   "cell_type": "code",
   "execution_count": 16,
   "id": "b777ecab-7788-4697-a4f9-b7fb03d3dfa3",
   "metadata": {},
   "outputs": [
    {
     "name": "stdin",
     "output_type": "stream",
     "text": [
      "enter a year 1984\n"
     ]
    },
    {
     "name": "stdout",
     "output_type": "stream",
     "text": [
      "its a leap year\n",
      "its not a century year\n"
     ]
    }
   ],
   "source": [
    "# Develop a program that checks if a year is a leap year and also if it is a century year.\n",
    "\n",
    "year=int(input('enter a year'))\n",
    "\n",
    "if (year%4==0 and year%100!=0) or (year%400==0):\n",
    "    print('its a leap year')\n",
    "else:\n",
    "    print('its not a leap year')\n",
    "    \n",
    "if year%100==0:\n",
    "    print('its a century year')\n",
    "else:\n",
    "    print('its not a century year')\n",
    "\n",
    "\n"
   ]
  },
  {
   "cell_type": "code",
   "execution_count": 3,
   "id": "3a92c5ea-b4ff-412c-b8d6-f8e5e2d44bff",
   "metadata": {},
   "outputs": [
    {
     "name": "stdin",
     "output_type": "stream",
     "text": [
      "enter a num 0\n"
     ]
    },
    {
     "name": "stdout",
     "output_type": "stream",
     "text": [
      "0 is zero\n"
     ]
    }
   ],
   "source": [
    "#Write a Python script to determine if a number is positive, negative, or zero\n",
    "\n",
    "num=int(input('enter a num'))\n",
    "\n",
    "if num>0:\n",
    "    print(f'{num} is positive number')\n",
    "elif num<0:\n",
    "    print(f'{num} is negative number')\n",
    "else:\n",
    "    print(f'{num} is zero')\n",
    "    "
   ]
  },
  {
   "cell_type": "code",
   "execution_count": 9,
   "id": "0bc61da8-f87c-4fdf-a4f4-333628ac9ba6",
   "metadata": {},
   "outputs": [
    {
     "name": "stdin",
     "output_type": "stream",
     "text": [
      "enter a num 19\n"
     ]
    },
    {
     "name": "stdout",
     "output_type": "stream",
     "text": [
      "Person is a teenager\n"
     ]
    }
   ],
   "source": [
    "# Create a program to check if a person is a teenager (between 13 and 19 years old)\n",
    "\n",
    "age=int(input('enter a num'))\n",
    "\n",
    "if (age>=13) and (age<=19) :\n",
    "    print('Person is a teenager')\n",
    "else :\n",
    "    print('Person is not a teenager')\n",
    "\n"
   ]
  },
  {
   "cell_type": "code",
   "execution_count": 4,
   "id": "263c89da-46c8-42fa-8bfa-814b8abf160c",
   "metadata": {},
   "outputs": [
    {
     "name": "stdin",
     "output_type": "stream",
     "text": [
      "Enter angle1 23\n"
     ]
    },
    {
     "name": "stdout",
     "output_type": "stream",
     "text": [
      "Acute Angle\n"
     ]
    }
   ],
   "source": [
    "# Develop a program that determines the type of angle based on its measure (acute, obtuse, or right).\n",
    "\n",
    "angle=int(input('Enter angle1'))\n",
    "\n",
    "if angle < 90:\n",
    "    print(\"Acute Angle\")\n",
    "elif angle == 90:\n",
    "    print(\"Right Angle\")\n",
    "else :\n",
    "    print(\"Obtuse Angle\")\n",
    "    \n",
    "       \n"
   ]
  },
  {
   "cell_type": "code",
   "execution_count": null,
   "id": "b63ee163-d6dd-4d47-8f46-8f26ee23fd56",
   "metadata": {},
   "outputs": [],
   "source": [
    "# Write a Python program to calculate the roots of a quadratic equation\n",
    "\n"
   ]
  },
  {
   "cell_type": "code",
   "execution_count": 6,
   "id": "1ff590bf-80f7-46d6-8de5-a9893edd373a",
   "metadata": {},
   "outputs": [
    {
     "name": "stdin",
     "output_type": "stream",
     "text": [
      "Enter day 8\n"
     ]
    },
    {
     "name": "stdout",
     "output_type": "stream",
     "text": [
      "Invalid day\n"
     ]
    }
   ],
   "source": [
    "# Implement a program to determine the day of the week based on a user-provided number (1 for Monday etc)\n",
    "\n",
    "day=int(input('Enter day'))\n",
    "\n",
    "if day==1:\n",
    "    print('its a Monday')\n",
    "elif day==2:\n",
    "    print('its a Tuesday')\n",
    "elif day==3:\n",
    "    print('its a Wednesday')\n",
    "elif day==4:\n",
    "    print('its a Thursday')\n",
    "elif day==5:\n",
    "    print('its a Friday')\n",
    "elif day==6:\n",
    "    print('its a Saturday')\n",
    "elif day==7:\n",
    "    print('its a Sunday')\n",
    "else:\n",
    "    print('Invalid day')"
   ]
  },
  {
   "cell_type": "code",
   "execution_count": 18,
   "id": "79c058ea-bbcf-4d72-98d0-6650f7e371be",
   "metadata": {},
   "outputs": [
    {
     "name": "stdin",
     "output_type": "stream",
     "text": [
      "enter a year 2104\n"
     ]
    },
    {
     "name": "stdout",
     "output_type": "stream",
     "text": [
      "its a leap year\n",
      "its not evenly divisible by 400\n"
     ]
    }
   ],
   "source": [
    "#Create a program that determines if a year is a leap year and also if it is evenly divisible by 400.\n",
    "\n",
    "year=int(input('enter a year'))\n",
    "\n",
    "if (year%4==0 and year%100!=0) or (year%400==0):\n",
    "    print('its a leap year')\n",
    "else:\n",
    "    print('its not a leap year')\n",
    "\n",
    "if  (year%400==0):\n",
    "    print('its evenly divisible by 400')\n",
    "else:\n",
    "    print('its not evenly divisible by 400')\n"
   ]
  },
  {
   "cell_type": "code",
   "execution_count": 20,
   "id": "79a668a5-1350-4f6b-894e-4b381e6eb1ca",
   "metadata": {},
   "outputs": [
    {
     "name": "stdin",
     "output_type": "stream",
     "text": [
      "Enter a number:  5\n"
     ]
    },
    {
     "name": "stdout",
     "output_type": "stream",
     "text": [
      "5 is a prime number.\n"
     ]
    }
   ],
   "source": [
    "#Develop a program that checks if a given number is prime or not using nested if-else statements\n",
    "\n",
    "num = int(input(\"Enter a number: \"))\n",
    "\n",
    "if num < 2:\n",
    "    print(f\"{num} is not a prime number.\")\n",
    "elif num == 2:\n",
    "    print(f\"{num} is a prime number.\")\n",
    "else:\n",
    "    is_prime = True\n",
    "    for i in range(2, num):\n",
    "        if num % i == 0:\n",
    "            is_prime = False\n",
    "            break\n",
    "    if is_prime:\n",
    "        print(f\"{num} is a prime number.\")\n",
    "    else:\n",
    "        print(f\"{num} is not a prime number.\")\n"
   ]
  },
  {
   "cell_type": "code",
   "execution_count": 21,
   "id": "b04b832f-ca00-4f5d-88b5-6d7061ad88ca",
   "metadata": {},
   "outputs": [
    {
     "name": "stdin",
     "output_type": "stream",
     "text": [
      "Enter the score:  23\n"
     ]
    },
    {
     "name": "stdout",
     "output_type": "stream",
     "text": [
      "The grade for a score of 23 is F.\n"
     ]
    }
   ],
   "source": [
    "#Write a Python program to assign grades based on different ranges of scores using elif statements\n",
    "\n",
    "score = int(input(\"Enter the score: \"))\n",
    "\n",
    "if score >= 90:\n",
    "    grade = 'A'\n",
    "elif score >= 80:\n",
    "    grade = 'B'\n",
    "elif score >= 70:\n",
    "    grade = 'C'\n",
    "elif score >= 60:\n",
    "    grade = 'D'\n",
    "else:\n",
    "    grade = 'F'\n",
    "\n",
    "print(f\"The grade for a score of {score} is {grade}.\")\n",
    "\n",
    "\n"
   ]
  },
  {
   "cell_type": "code",
   "execution_count": 22,
   "id": "57f13363-b482-49a9-a02a-9358869c54ea",
   "metadata": {},
   "outputs": [
    {
     "name": "stdin",
     "output_type": "stream",
     "text": [
      "Enter the first angle measure :  89\n",
      "Enter the second angle measure :  65\n",
      "Enter the third angle measure :  43\n"
     ]
    },
    {
     "name": "stdout",
     "output_type": "stream",
     "text": [
      "it is a Scalene Triangle\n"
     ]
    }
   ],
   "source": [
    "#Implement a program to determine the type of a triangle based on its angles.\n",
    "angle1 = int(input(\"Enter the first angle measure : \"))\n",
    "angle2 = int(input(\"Enter the second angle measure : \"))\n",
    "angle3 = int(input(\"Enter the third angle measure : \"))\n",
    "\n",
    "if angle1 == 60 and angle2 == 60 and angle3 == 60:\n",
    "    triangle_type = \"Equilateral Triangle\"\n",
    "elif angle1 == angle2 or angle2 == angle3 or angle1 == angle3:\n",
    "    triangle_type = \"Isosceles Triangle\"\n",
    "else:\n",
    "    triangle_type = \"Scalene Triangle\"\n",
    "\n",
    "print(f'it is a {triangle_type}')\n"
   ]
  },
  {
   "cell_type": "code",
   "execution_count": 24,
   "id": "6d98ba68-c23a-4cea-ae7c-07d9484d4a80",
   "metadata": {},
   "outputs": [
    {
     "name": "stdin",
     "output_type": "stream",
     "text": [
      "Enter your weight in kg:  23\n",
      "Enter your height in m:  2\n"
     ]
    },
    {
     "name": "stdout",
     "output_type": "stream",
     "text": [
      "with BMI= 5.75, the person is in 'Underweight' category.\n"
     ]
    }
   ],
   "source": [
    "#Develop a program to categorize a given person's BMI into underweight, normal, overweight, or obese using  elif statements\n",
    "\n",
    "weight = float(input(\"Enter your weight in kg: \"))\n",
    "height = float(input(\"Enter your height in m: \"))\n",
    "\n",
    "bmi = weight / (height ** 2)\n",
    "\n",
    "if bmi < 18.5:\n",
    "    category = \"Underweight\"\n",
    "elif 18.5 <= bmi < 24.9:\n",
    "    category = \"Normal Weight\"\n",
    "elif 25 <= bmi < 29.9:\n",
    "    category = \"Overweight\"\n",
    "else:\n",
    "    category = \"Obese\"\n",
    "\n",
    "print(f\"with BMI= {bmi}, the person is in '{category}' category.\")\n",
    "\n",
    "\n"
   ]
  },
  {
   "cell_type": "code",
   "execution_count": 28,
   "id": "c54ff731-b1d0-4368-8298-9b1192df6390",
   "metadata": {},
   "outputs": [
    {
     "name": "stdin",
     "output_type": "stream",
     "text": [
      "Enter a number:  -23\n"
     ]
    },
    {
     "name": "stdout",
     "output_type": "stream",
     "text": [
      "The number -23.0 is Negative.\n"
     ]
    }
   ],
   "source": [
    "#Create a program that determines whether a given number is positive, negative, or zero using elif statements\n",
    "\n",
    "num = float(input(\"Enter a number: \"))\n",
    "\n",
    "if num > 0:\n",
    "    result = \"Positive\"\n",
    "elif num < 0:\n",
    "    result = \"Negative\"\n",
    "else:\n",
    "    result = \"Zero\"\n",
    "\n",
    "print(f\"The number {num} is {result}.\")\n"
   ]
  },
  {
   "cell_type": "code",
   "execution_count": 34,
   "id": "471746a3-7412-4e58-a5d5-727fee7bccab",
   "metadata": {},
   "outputs": [
    {
     "name": "stdin",
     "output_type": "stream",
     "text": [
      "Enter a char: @\n"
     ]
    },
    {
     "name": "stdout",
     "output_type": "stream",
     "text": [
      "its a special char\n"
     ]
    }
   ],
   "source": [
    "#Write a Python script to determine the type of a character (uppercase, lowercase, or special) using elif statements\n",
    "\n",
    "char=str(input('Enter a char:'))\n",
    "\n",
    "if char.islower()==True:\n",
    "         print('its a lowercase')\n",
    "elif char.isupper()==True:\n",
    "         print('its a uppercase')\n",
    "else:\n",
    "         print('its a special char')\n",
    "         \n",
    "\n"
   ]
  },
  {
   "cell_type": "code",
   "execution_count": 38,
   "id": "1a07c653-426d-4a26-9592-78b317acd624",
   "metadata": {},
   "outputs": [
    {
     "name": "stdin",
     "output_type": "stream",
     "text": [
      "Enter the purchase amount:  3333333\n"
     ]
    },
    {
     "name": "stdout",
     "output_type": "stream",
     "text": [
      "Purchase Amount: 3333333.0\n",
      "Discount Rate: 15.0%\n",
      "discounted price: 2833333.05\n"
     ]
    }
   ],
   "source": [
    "#Implement a program to calculate the discounted price based on different purchase amounts using elif statements.\n",
    "\n",
    "purchase_amount = float(input(\"Enter the purchase amount: \"))\n",
    "\n",
    "if purchase_amount < 1000:\n",
    "    discount_rate = 0\n",
    "elif purchase_amount < 5000:\n",
    "    discount_rate = 0.05  \n",
    "elif purchase_amount < 10000:\n",
    "    discount_rate = 0.1  \n",
    "else:\n",
    "    discount_rate = 0.15  \n",
    "\n",
    "Final_amt = purchase_amount * (1 - discount_rate)\n",
    "\n",
    "print(f\"Purchase Amount: {purchase_amount:}\")\n",
    "print(f\"Discount Rate: {discount_rate * 100}%\")\n",
    "print(f\"discounted price: {Final_amt:}\")\n"
   ]
  },
  {
   "cell_type": "code",
   "execution_count": 45,
   "id": "57be8c1d-b86a-490d-9857-ed41ca035599",
   "metadata": {},
   "outputs": [
    {
     "name": "stdin",
     "output_type": "stream",
     "text": [
      "Enter your electricity consumption (kWh):  300\n"
     ]
    },
    {
     "name": "stdout",
     "output_type": "stream",
     "text": [
      "Electricity Bill: 40.0\n"
     ]
    }
   ],
   "source": [
    "#Develop a program to calculate the electricity bill based on different consumption slabs using elif statements\n",
    "\n",
    "consumption = float(input(\"Enter your electricity consumption (kWh): \"))\n",
    "\n",
    "slab1_limit = 100\n",
    "slab1_rate = 0  \n",
    "slab2_limit = 200\n",
    "slab2_rate = 0.10  \n",
    "slab3_rate = 0.20  \n",
    "\n",
    "# Calculate the electricity bill based on consumption\n",
    "if consumption <= slab1_limit:\n",
    "    bill = consumption * slab1_rate\n",
    "elif consumption <= slab2_limit:\n",
    "    bill = (slab1_limit * slab1_rate) + ((consumption - slab1_limit) * slab2_rate)\n",
    "else:\n",
    "    bill = (slab1_limit * slab1_rate) + (200 * slab2_rate) + ((consumption - slab2_limit) * slab3_rate)\n",
    "\n",
    "# Display the electricity bill\n",
    "print(f\"Electricity Bill: {bill}\")\n"
   ]
  },
  {
   "cell_type": "code",
   "execution_count": 48,
   "id": "2b206758-d54b-427c-a83d-b72f113ad679",
   "metadata": {},
   "outputs": [
    {
     "name": "stdin",
     "output_type": "stream",
     "text": [
      "Enter the angle1  90\n",
      "Enter the angle2  90\n",
      "Enter the angle3  90\n",
      "Enter the angle4  90\n",
      "Enter the side1  45\n",
      "Enter the side2  67\n",
      "Enter the side3  76\n",
      "Enter the side4  54\n"
     ]
    },
    {
     "name": "stdout",
     "output_type": "stream",
     "text": [
      "it is a Quadrilateral\n"
     ]
    }
   ],
   "source": [
    "#Create a program to determine the type of quadrilateral based on its angles and sides using elif statements.\n",
    "\n",
    "angle1 = float(input(\"Enter the angle1 \"))\n",
    "angle2 = float(input(\"Enter the angle2 \"))\n",
    "angle3 = float(input(\"Enter the angle3 \"))\n",
    "angle4 = float(input(\"Enter the angle4 \"))\n",
    "side1 = float(input(\"Enter the side1 \"))\n",
    "side2 = float(input(\"Enter the side2 \"))\n",
    "side3 = float(input(\"Enter the side3 \"))\n",
    "side4 = float(input(\"Enter the side4 \"))\n",
    "\n",
    "if angle1 == angle2 == angle3 == angle4 == 90:\n",
    "    if side1 == side2 == side3 == side4:\n",
    "        quadrilateral_type = \"Square\"\n",
    "    elif side1 == side3 and side2 == side4:\n",
    "        quadrilateral_type = \"Rectangle\"\n",
    "    else:\n",
    "        quadrilateral_type = \"Quadrilateral\"\n",
    "elif (angle1 == angle3 and angle2 == angle4) or (angle1 == angle2 and angle3 == angle4):\n",
    "    if side1 == side3 and side2 == side4:\n",
    "        quadrilateral_type = \"Rhombus\"\n",
    "    else:\n",
    "        quadrilateral_type = \"Quadrilateral\"\n",
    "else:\n",
    "    quadrilateral_type = \"Quadrilateral\"\n",
    "\n",
    "print(f'it is a {quadrilateral_type}')\n",
    "\n",
    "\n"
   ]
  },
  {
   "cell_type": "code",
   "execution_count": 49,
   "id": "b09feabb-e069-4c29-aaf3-1815cfb0d59f",
   "metadata": {},
   "outputs": [
    {
     "name": "stdin",
     "output_type": "stream",
     "text": [
      "Enter a month (e.g., January, February):  january\n"
     ]
    },
    {
     "name": "stdout",
     "output_type": "stream",
     "text": [
      "The season for the month of January is Winter.\n"
     ]
    }
   ],
   "source": [
    "# Write a Python script to determine the season based on a user-provided month using elif statements\n",
    "\n",
    "month = input(\"Enter a month (e.g., January, February): \")\n",
    "\n",
    "month = month.lower()\n",
    "\n",
    "if month in [\"december\", \"january\", \"february\",\"november\"]:\n",
    "    season = \"Winter\"\n",
    "elif month in [\"march\", \"april\", \"may\",\"june\"]:\n",
    "    season = \"Summer\"\n",
    "elif month in [\"july\", \"august\",\"September\",\"october\"]:\n",
    "    season = \"Summer\"\n",
    "else:\n",
    "    season = \"Unknown\"\n",
    "\n",
    "print(f\"The season for the month of {month.capitalize()} is {season}.\")\n"
   ]
  },
  {
   "cell_type": "code",
   "execution_count": 50,
   "id": "e992541f-08c6-4b37-aa60-05548dd79bc3",
   "metadata": {},
   "outputs": [
    {
     "name": "stdin",
     "output_type": "stream",
     "text": [
      "Enter a year:  2012\n",
      "Enter a month (1-12):  12\n"
     ]
    },
    {
     "name": "stdout",
     "output_type": "stream",
     "text": [
      "The year 2012 is a Leap Year.\n",
      "The month 12 has 31 days.\n"
     ]
    }
   ],
   "source": [
    "# Implement a program to determine the type of a year (leap or common) and month (30 or 31 days) using elif statements\n",
    "\n",
    "\n",
    "year = int(input(\"Enter a year: \"))\n",
    "\n",
    "month = int(input(\"Enter a month (1-12): \"))\n",
    "\n",
    "if (year % 4 == 0 and year % 100 != 0) or (year % 400 == 0):\n",
    "    year_type = \"Leap Year\"\n",
    "else:\n",
    "    year_type = \"Common Year\"\n",
    "\n",
    "if month in [4, 6, 9, 11]:\n",
    "    days_in_month = 30\n",
    "elif month == 2:\n",
    "    if year_type == \"Leap Year\":\n",
    "        days_in_month = 29\n",
    "    else:\n",
    "        days_in_month = 28\n",
    "else:\n",
    "    days_in_month = 31\n",
    "\n",
    "print(f\"The year {year} is a {year_type}.\")\n",
    "print(f\"The month {month} has {days_in_month} days.\")\n"
   ]
  },
  {
   "cell_type": "code",
   "execution_count": 5,
   "id": "19dbc234-2833-4525-9329-d9cc82f53ea5",
   "metadata": {},
   "outputs": [
    {
     "name": "stdout",
     "output_type": "stream",
     "text": [
      "3 is a positive number\n"
     ]
    }
   ],
   "source": [
    "#Write a Python program that checks if a given number is positive, negative, or zero.\n",
    "\n",
    "def check_sign(num):\n",
    "    \n",
    "    if num > 0 :\n",
    "        print(f'{num} is a positive number')\n",
    "    \n",
    "    elif num < 0 :\n",
    "        print(f'{num} is a negative number')\n",
    "        \n",
    "    else :\n",
    "        print(f'{num} is a zero number')\n",
    "        \n",
    "check_sign(3)"
   ]
  },
  {
   "cell_type": "code",
   "execution_count": 6,
   "id": "b2f39df6-3c4f-44ff-9d00-f4b5b46c4387",
   "metadata": {},
   "outputs": [
    {
     "name": "stdin",
     "output_type": "stream",
     "text": [
      "Enter age 2\n"
     ]
    },
    {
     "name": "stdout",
     "output_type": "stream",
     "text": [
      "Person cannot vote\n"
     ]
    }
   ],
   "source": [
    "#Create a program to determine if a person is eligible to vote based on their age.\n",
    "\n",
    "Age=int(input('Enter age'))\n",
    "\n",
    "if Age>18:\n",
    "    print(\"Person can vote\")\n",
    "else:\n",
    "    print(\"Person cannot vote\")\n"
   ]
  },
  {
   "cell_type": "code",
   "execution_count": 9,
   "id": "7376dd30-c3da-4d65-967b-3986f5956508",
   "metadata": {},
   "outputs": [
    {
     "name": "stdin",
     "output_type": "stream",
     "text": [
      "Enter number1 45\n",
      "Enter number2 45\n"
     ]
    },
    {
     "name": "stdout",
     "output_type": "stream",
     "text": [
      "both are equal\n"
     ]
    }
   ],
   "source": [
    "#Write a program to find the maximum of two given numbers using conditional statements.\n",
    "\n",
    "num1=int(input('Enter number1'))\n",
    "\n",
    "num2=int(input('Enter number2'))\n",
    "\n",
    "if num1>num2:\n",
    "    print(f\"{num1} is bigger\")\n",
    "elif num1==num2:\n",
    "    print(\"both are equal\")\n",
    "else :\n",
    "    print(f\"{num2} is bigger\")\n"
   ]
  },
  {
   "cell_type": "code",
   "execution_count": null,
   "id": "e07a6999-09c8-44f6-a589-0e238abd5811",
   "metadata": {},
   "outputs": [],
   "source": [
    "    \n",
    "#Develop a program that calculates the grade of a student based on their exam score.\n",
    "\n",
    "score=int(input(\"enter score\"))\n",
    "\n",
    "if score>=70:\n",
    "    print('First class')\n",
    "    \n",
    "elif score>=50 and score<70:\n",
    "    print('Second class')\n",
    "    \n",
    "else :\n",
    "    print('Third class')\n",
    "\n"
   ]
  },
  {
   "cell_type": "code",
   "execution_count": null,
   "id": "a2e0e44c-dd79-400f-9c40-2e6860dbf0a9",
   "metadata": {},
   "outputs": [],
   "source": [
    "#Create a program that checks if a year is a leap year or not.\n",
    "year=int(input(\"Enter a year\"))\n",
    "\n",
    "if (year%4==0 and year%100!=0) or (year%400==0):\n",
    "    print(f'{year} is a Leap year')\n",
    "        \n",
    "else:\n",
    "    print(f'{year} is not a Leap year')\n",
    "\n"
   ]
  },
  {
   "cell_type": "code",
   "execution_count": null,
   "id": "9345f556-9d57-4a5e-8ed5-71c4e47b86d9",
   "metadata": {},
   "outputs": [],
   "source": [
    "#Write a program to classify a triangle based on its sides' lengths.\n",
    "length1=int(input('Enter length1'))\n",
    "length2=int(input('Enter length2'))\n",
    "length3=int(input('Enter length3'))\n",
    "\n",
    "if (length1==length2==length3) :\n",
    "    print('it is an equilateral triangle')\n",
    "else:\n",
    "    if(length1!=length2==length3) or  (length1==length2!=length3) or (length2!=length1==length3):\n",
    "        print('it is an isosceles triangle')\n",
    "    else:\n",
    "        print('it is a scalene triangle')\n"
   ]
  },
  {
   "cell_type": "code",
   "execution_count": null,
   "id": "c44dbbfb-8064-4c30-a98c-f8e500ba232b",
   "metadata": {},
   "outputs": [],
   "source": [
    "#Build a program that determines the largest of three given numbers.\n",
    "num1=int(input('Enter number1'))\n",
    "\n",
    "num2=int(input('Enter number2'))\n",
    "\n",
    "num3=int(input('Enter number3'))\n",
    "\n",
    "if num1 >= num2 and num1 >= num3:\n",
    "    print(f\"{num1} is the largest\")\n",
    "else:\n",
    "    if num2 >= num1 and num2 >= num3:\n",
    "        print(f\"{num2} is the largest\")\n",
    "    else:\n",
    "        print(f\"{num3} is the largest\")\n",
    "\n"
   ]
  },
  {
   "cell_type": "code",
   "execution_count": null,
   "id": "1ed9206f-87fc-47f7-b229-5e4ffaa831a1",
   "metadata": {},
   "outputs": [],
   "source": [
    "#Develop a program that checks whether a character is a vowel or a consonant.\n",
    "char=str(input('Enter a char'))\n",
    "\n",
    "if char.lower() in ('a','e','i','o','u'):\n",
    "    print(f'{char} is a vowel')\n",
    "    \n",
    "else:\n",
    "    print(f'{char} is a consonant')\n",
    "    \n"
   ]
  },
  {
   "cell_type": "code",
   "execution_count": null,
   "id": "3ad1786a-2e22-47c1-a384-7c9fdf85770e",
   "metadata": {},
   "outputs": [],
   "source": [
    "#Create a program to calculate the total cost of a shopping cart based on discounts.\n",
    "def calculate_total_cost(cart_items):\n",
    "    total_cost = 0\n",
    "    \n",
    "    for item, price in cart_items.items():\n",
    "        total_cost += price\n",
    "    \n",
    "    discount = 0\n",
    "    if total_cost > 100:  # Apply 10% discount for total cost above $100\n",
    "        discount = total_cost * 0.1\n",
    "    elif total_cost > 50:  # Apply 5% discount for total cost above $50\n",
    "        discount = total_cost * 0.05\n",
    "    \n",
    "    final_cost = total_cost - discount\n",
    "    \n",
    "    return final_cost\n",
    "\n",
    "cart = {\n",
    "    'Item 1': 25,\n",
    "    'Item 2': 35,\n",
    "    'Item 3': 20,\n",
    "    'Item 4': 30\n",
    "}\n",
    "\n",
    "total_cost = calculate_total_cost(cart)\n",
    "\n",
    "print(f\"The total cost of the shopping cart is: ${total_cost:.2f}\")\n",
    "\n",
    "\n"
   ]
  },
  {
   "cell_type": "code",
   "execution_count": null,
   "id": "80b45c95-9f5e-4128-a9ec-c8c6d08925ed",
   "metadata": {},
   "outputs": [],
   "source": [
    "\n",
    "#Write a program that checks if a given number is even or odd.\n",
    "num=int(input('Enter a number'))\n",
    "\n",
    "if num%2==0 :\n",
    "    print(f'{num} is a Even')\n",
    "    \n",
    "else:\n",
    "    print(f'{num} is a Odd')\n"
   ]
  },
  {
   "cell_type": "code",
   "execution_count": 7,
   "id": "84f22bec-1b3b-4a85-874e-286c932401c1",
   "metadata": {},
   "outputs": [
    {
     "name": "stdout",
     "output_type": "stream",
     "text": [
      "The roots of the quadratic equation are: 2.0 and 1.0\n"
     ]
    }
   ],
   "source": [
    "#11. Write a program that calculates the roots of a quadratic equation .\n",
    "\n",
    "def calculate_quadratic_roots(a, b, c):\n",
    "    discriminant = (b ** 2) - (4 * a * c)\n",
    "\n",
    "    if discriminant > 0:\n",
    "        # Real and distinct roots\n",
    "        root1 = (-b + (discriminant ** 0.5)) / (2 * a)\n",
    "        root2 = (-b - (discriminant ** 0.5)) / (2 * a)\n",
    "        return root1, root2\n",
    "    elif discriminant == 0:\n",
    "        # Real and equal roots\n",
    "        root = -b / (2 * a)\n",
    "        return root, root\n",
    "    else:\n",
    "        # Complex roots\n",
    "        real_part = -b / (2 * a)\n",
    "        imaginary_part = ((-discriminant) ** 0.5) / (2 * a)\n",
    "        root1 = complex(real_part, imaginary_part)\n",
    "        root2 = complex(real_part, -imaginary_part)\n",
    "        return root1, root2\n",
    "\n",
    "# Example coefficients of the quadratic equation: ax^2 + bx + c = 0\n",
    "a = 1\n",
    "b = -3\n",
    "c = 2\n",
    "\n",
    "# Calculate the roots\n",
    "root1, root2 = calculate_quadratic_roots(a, b, c)\n",
    "\n",
    "print(f\"The roots of the quadratic equation are: {root1} and {root2}\")\n"
   ]
  },
  {
   "cell_type": "code",
   "execution_count": 8,
   "id": "d2a4a1fb-a61f-40b0-8a66-2be530b7136d",
   "metadata": {},
   "outputs": [
    {
     "name": "stdout",
     "output_type": "stream",
     "text": [
      "Day 3 of the week is: Wednesday\n"
     ]
    }
   ],
   "source": [
    "#12. Create a program that determines the day of the week based on the day number (1-7).\n",
    "\n",
    "def determine_day_of_week(day_number):\n",
    "    days = {\n",
    "        1: 'Monday',\n",
    "        2: 'Tuesday',\n",
    "        3: 'Wednesday',\n",
    "        4: 'Thursday',\n",
    "        5: 'Friday',\n",
    "        6: 'Saturday',\n",
    "        7: 'Sunday'\n",
    "    }\n",
    "    \n",
    "    return days.get(day_number, 'Invalid day number')\n",
    "\n",
    "# Example day number\n",
    "day_number = 3\n",
    "\n",
    "# Determine the day of the week\n",
    "day_of_week = determine_day_of_week(day_number)\n",
    "\n",
    "print(f\"Day {day_number} of the week is: {day_of_week}\")\n"
   ]
  },
  {
   "cell_type": "code",
   "execution_count": 10,
   "id": "fc468e86-581c-4c62-9469-229797fbc407",
   "metadata": {},
   "outputs": [
    {
     "name": "stdout",
     "output_type": "stream",
     "text": [
      "The factorial of 5 is: 120\n"
     ]
    }
   ],
   "source": [
    "#13. Develop a program that calculates the factorial of a given number using recursion.\n",
    "def calculate_factorial(n):\n",
    "    if n == 0 or n == 1:\n",
    "        return 1\n",
    "    else:\n",
    "        return n * calculate_factorial(n - 1)\n",
    "\n",
    "number = 5\n",
    "\n",
    "# Calculate factorial\n",
    "factorial = calculate_factorial(number)\n",
    "\n",
    "print(f\"The factorial of {number} is: {factorial}\")\n"
   ]
  },
  {
   "cell_type": "code",
   "execution_count": 11,
   "id": "2753ff9d-d21e-4aa5-ae96-a36603644cb0",
   "metadata": {},
   "outputs": [
    {
     "name": "stdout",
     "output_type": "stream",
     "text": [
      "The largest number among 10, 25, and 15 is: 25\n"
     ]
    }
   ],
   "source": [
    "#14. Write a program to find the largest among three numbers without using the `max()` function.\n",
    "def find_largest(num1, num2, num3):\n",
    "    if num1 >= num2 and num1 >= num3:\n",
    "        return num1\n",
    "    elif num2 >= num1 and num2 >= num3:\n",
    "        return num2\n",
    "    else:\n",
    "        return num3\n",
    "\n",
    "a = 10\n",
    "b = 25\n",
    "c = 15\n",
    "\n",
    "# Find the largest number\n",
    "largest = find_largest(a, b, c)\n",
    "\n",
    "print(f\"The largest number among {a}, {b}, and {c} is: {largest}\")\n"
   ]
  },
  {
   "cell_type": "code",
   "execution_count": 12,
   "id": "0592f039-9e75-4a5e-90c8-260e794deba3",
   "metadata": {},
   "outputs": [
    {
     "name": "stdout",
     "output_type": "stream",
     "text": [
      "1. Check Balance\n",
      "2. Withdraw Cash\n",
      "3. Deposit Funds\n",
      "4. Quit\n"
     ]
    },
    {
     "name": "stdin",
     "output_type": "stream",
     "text": [
      "Enter your choice (1-4):  1\n"
     ]
    },
    {
     "name": "stdout",
     "output_type": "stream",
     "text": [
      "Checking Balance...\n"
     ]
    }
   ],
   "source": [
    "#15. Create a program that simulates a basic ATM transaction menu.\n",
    "\n",
    "def atm_menu():\n",
    "    print(\"1. Check Balance\")\n",
    "    print(\"2. Withdraw Cash\")\n",
    "    print(\"3. Deposit Funds\")\n",
    "    print(\"4. Quit\")\n",
    "\n",
    "# Display ATM menu\n",
    "atm_menu()\n",
    "\n",
    "# Example: Input from user\n",
    "choice = int(input(\"Enter your choice (1-4): \"))\n",
    "\n",
    "# Process user choice\n",
    "if choice == 1:\n",
    "    print(\"Checking Balance...\")\n",
    "    # Add code for checking balance\n",
    "elif choice == 2:\n",
    "    print(\"Withdrawing Cash...\")\n",
    "    # Add code for withdrawing cash\n",
    "elif choice == 3:\n",
    "    print(\"Depositing Funds...\")\n",
    "    # Add code for depositing funds\n",
    "elif choice == 4:\n",
    "    print(\"Exiting the ATM. Thank you!\")\n",
    "else:\n",
    "    print(\"Invalid choice. Please select a valid option.\")\n",
    "\n",
    "    \n",
    "\n"
   ]
  },
  {
   "cell_type": "code",
   "execution_count": 13,
   "id": "894e6877-9806-4c63-9739-df29efb3815a",
   "metadata": {},
   "outputs": [
    {
     "name": "stdout",
     "output_type": "stream",
     "text": [
      "The string 'radar' is a palindrome.\n"
     ]
    }
   ],
   "source": [
    "#16. Build a program that checks if a given string is a palindrome or not.\n",
    "def is_palindrome(s):\n",
    "    s = s.lower()  \n",
    "    return s == s[::-1]\n",
    "\n",
    "# Example string\n",
    "input_string = \"radar\"\n",
    "\n",
    "# Check if the string is a palindrome\n",
    "if is_palindrome(input_string):\n",
    "    print(f\"The string '{input_string}' is a palindrome.\")\n",
    "else:\n",
    "    print(f\"The string '{input_string}' is not a palindrome.\")\n",
    "\n",
    "\n"
   ]
  },
  {
   "cell_type": "code",
   "execution_count": 14,
   "id": "d449404f-f7e0-4a13-a7c3-9eefad76a319",
   "metadata": {},
   "outputs": [
    {
     "name": "stdout",
     "output_type": "stream",
     "text": [
      "The average of the numbers is: 20.00\n"
     ]
    }
   ],
   "source": [
    "#17. Write a program that calculates the average of a list of numbers, excluding the smallest and largest values.\n",
    "def calculate_average(numbers):\n",
    "    if len(numbers) < 3:\n",
    "        return \"At least three numbers are required.\"\n",
    "\n",
    "    numbers.sort()\n",
    "    trimmed_numbers = numbers[1:-1]\n",
    "    avg = sum(trimmed_numbers) / len(trimmed_numbers)\n",
    "    return avg\n",
    "\n",
    "# Example list of numbers\n",
    "number_list = [12, 15, 20, 25, 30]\n",
    "\n",
    "# Calculate the average (excluding smallest and largest)\n",
    "average = calculate_average(number_list)\n",
    "\n",
    "print(f\"The average of the numbers is: {average:.2f}\")\n"
   ]
  },
  {
   "cell_type": "code",
   "execution_count": 15,
   "id": "1e42dae6-ba25-4fb2-916a-f9e98d8c7a7c",
   "metadata": {},
   "outputs": [
    {
     "name": "stdout",
     "output_type": "stream",
     "text": [
      "25°C is equal to 77.0°F\n"
     ]
    }
   ],
   "source": [
    "#18. Develop a program that converts a given temperature from Celsius to Fahrenheit.\n",
    "def celsius_to_fahrenheit(celsius):\n",
    "    fahrenheit = (celsius * 9/5) + 32\n",
    "    return fahrenheit\n",
    "\n",
    "# Example temperature in Celsius\n",
    "celsius_temp = 25\n",
    "\n",
    "# Convert Celsius to Fahrenheit\n",
    "fahrenheit_temp = celsius_to_fahrenheit(celsius_temp)\n",
    "\n",
    "print(f\"{celsius_temp}°C is equal to {fahrenheit_temp}°F\")"
   ]
  },
  {
   "cell_type": "code",
   "execution_count": 16,
   "id": "87cf6d75-a18f-4408-96fc-a78c7f5e4e17",
   "metadata": {},
   "outputs": [
    {
     "name": "stdout",
     "output_type": "stream",
     "text": [
      "Addition: 10 + 5 = 15\n",
      "Subtraction: 10 - 5 = 5\n",
      "Multiplication: 10 * 5 = 50\n",
      "Division: 10 / 5 = 2.0\n"
     ]
    }
   ],
   "source": [
    "#19. Create a program that simulates a basic calculator for addition, subtraction, multiplication, and division.\n",
    "def add(a, b):\n",
    "    return a + b\n",
    "\n",
    "def subtract(a, b):\n",
    "    return a - b\n",
    "\n",
    "def multiply(a, b):\n",
    "    return a * b\n",
    "\n",
    "def divide(a, b):\n",
    "    if b == 0:\n",
    "        return \"Cannot divide by zero\"\n",
    "    return a / b\n",
    "\n",
    "# Example numbers\n",
    "num1 = 10\n",
    "num2 = 5\n",
    "\n",
    "# Perform operations\n",
    "print(f\"Addition: {num1} + {num2} = {add(num1, num2)}\")\n",
    "print(f\"Subtraction: {num1} - {num2} = {subtract(num1, num2)}\")\n",
    "print(f\"Multiplication: {num1} * {num2} = {multiply(num1, num2)}\")\n",
    "print(f\"Division: {num1} / {num2} = {divide(num1, num2)}\")\n"
   ]
  },
  {
   "cell_type": "code",
   "execution_count": 17,
   "id": "77fa1c7d-52e5-493f-9b0c-4cfbf783d122",
   "metadata": {},
   "outputs": [
    {
     "name": "stdout",
     "output_type": "stream",
     "text": [
      "The root of the cubic equation is: (0.3808148458616475-0.21986355376962813j)\n"
     ]
    }
   ],
   "source": [
    "\n",
    "#20. Write a program that determines the roots of a cubic equation using the Cardano formula\n",
    "\n",
    "def calculate_cubic_roots(a, b, c, d):\n",
    "    p = c / a - (b**2) / (3 * (a**2))\n",
    "    q = (2 * (b**3)) / (27 * (a**3)) - (b * c) / (3 * (a**2)) + d / a\n",
    "    \n",
    "    discriminant = (q**2) / 4 + (p**3) / 27\n",
    "    \n",
    "    if discriminant > 0:\n",
    "        root1 = (-q / 2 + (discriminant)**0.5)**(1 / 3) + (-q / 2 - (discriminant)**0.5)**(1 / 3) - b / (3 * a)\n",
    "        return root1\n",
    "    elif discriminant == 0:\n",
    "        root1 = 2 * (q / 2)**(1 / 3) - b / (3 * a)\n",
    "        return root1\n",
    "    else:\n",
    "        root1 = (-q / 2 + (abs(discriminant))**0.5)**(1 / 3)\n",
    "        root2 = (-q / 2 - (abs(discriminant))**0.5)**(1 / 3)\n",
    "        real_part = -b / (3 * a)\n",
    "        imaginary_part = ((3)**0.5 / 2) * (root1 - root2)\n",
    "        return complex(real_part, imaginary_part)\n",
    "\n",
    "# Example coefficients of the cubic equation: ax^3 + bx^2 + cx + d = 0\n",
    "a = 1\n",
    "b = 0\n",
    "c = -6\n",
    "d = 5\n",
    "\n",
    "# Calculate the roots of the cubic equation\n",
    "root = calculate_cubic_roots(a, b, c, d)\n",
    "\n",
    "print(f\"The root of the cubic equation is: {root}\")\n"
   ]
  },
  {
   "cell_type": "code",
   "execution_count": 9,
   "id": "5200209a-691f-4dde-ac85-bf409572eddd",
   "metadata": {},
   "outputs": [
    {
     "name": "stdin",
     "output_type": "stream",
     "text": [
      "Enter your yearly income 700001\n"
     ]
    },
    {
     "name": "stdout",
     "output_type": "stream",
     "text": [
      "Tax that you have pay on you income is 140000.2\n"
     ]
    }
   ],
   "source": [
    "#21. Create a program that calculates the income tax based on the user's income and tax brackets.\n",
    "\n",
    "income = int(input(\"Enter your yearly income\"))\n",
    "             \n",
    "\n",
    "if income < 500000:\n",
    "    tax = 0\n",
    "             \n",
    "    Taxble_income = (income * (1-tax))\n",
    "             \n",
    "    print(f'Tax that you have pay on you income is {Taxble_income}')\n",
    "             \n",
    "\n",
    "elif  500000 < income <700000:\n",
    "    tax = 0.15\n",
    "             \n",
    "    Taxble_income = (income * (tax))\n",
    "    \n",
    "    print(f'Tax that you have pay on you income is {Taxble_income}')\n",
    "                \n",
    "    \n",
    "             \n",
    "elif   700000 < income <1000000:\n",
    "    tax = 0.20         \n",
    "             \n",
    "    Taxble_income = (income * (tax))\n",
    "    \n",
    "    print(f'Tax that you have pay on you income is {Taxble_income}')\n",
    "             \n",
    "                \n",
    "else :\n",
    "    tax = 0.30         \n",
    "             \n",
    "    Taxble_income = (income * (tax))\n",
    "    \n",
    "    print(f'Tax that you have pay on you income is {Taxble_income}')\n"
   ]
  },
  {
   "cell_type": "code",
   "execution_count": 30,
   "id": "acee4cf0-786e-4519-a14e-30205a311c85",
   "metadata": {},
   "outputs": [
    {
     "name": "stdout",
     "output_type": "stream",
     "text": [
      "Your options: ['rock', 'paper', 'scissors']\n"
     ]
    },
    {
     "name": "stdin",
     "output_type": "stream",
     "text": [
      "Enter your option:  rack\n"
     ]
    },
    {
     "name": "stdout",
     "output_type": "stream",
     "text": [
      "You chose rack\n",
      "Computer chose paper\n",
      "You entered a wrong option\n"
     ]
    }
   ],
   "source": [
    "#22. Write a program that simulates a rock-paper-scissors game against the computer.\n",
    "\n",
    "import random\n",
    "\n",
    "options = ['rock', 'paper', 'scissors']\n",
    "\n",
    "print('Your options:', options)\n",
    "\n",
    "your_choice = input('Enter your option: ')\n",
    "\n",
    "print(f'You chose {your_choice}')\n",
    "\n",
    "computer_choice = random.choice(options)\n",
    "\n",
    "print(f'Computer chose {computer_choice}')\n",
    "\n",
    "if your_choice == computer_choice:\n",
    "    print('Nobody wins')\n",
    "    \n",
    "elif your_choice == 'rock' and computer_choice == 'paper':\n",
    "    print('Computer wins')\n",
    "    \n",
    "elif your_choice == 'rock' and computer_choice == 'scissors':\n",
    "    print('You win')\n",
    "    \n",
    "elif your_choice == 'paper' and computer_choice == 'rock':\n",
    "    print('You win')\n",
    "    \n",
    "elif your_choice == 'paper' and computer_choice == 'scissors':\n",
    "    print('Computer wins')\n",
    "    \n",
    "elif your_choice == 'scissors' and computer_choice == 'paper':\n",
    "    print('You win')\n",
    "    \n",
    "elif your_choice == 'scissors' and computer_choice == 'rock':\n",
    "    print('Computer wins')\n",
    "    \n",
    "else :\n",
    "    print('You entered a wrong option')\n"
   ]
  },
  {
   "cell_type": "code",
   "execution_count": null,
   "id": "2b0e1187-bc3a-4e71-b8e7-2cea10eb955f",
   "metadata": {},
   "outputs": [],
   "source": [
    "\n",
    "# Create a program that implements a simple text-based adventure game with branching scenarios.\n",
    "\n",
    "def game():\n",
    "    print(\"Welcome to the Adventure Game!\")\n",
    "    print(\"You wake up in a mysterious room.\")\n",
    "\n",
    "    choice = input(\"Do you want to 'look around' or 'open the door'?: \").lower()\n",
    "\n",
    "    if choice == 'look around':\n",
    "        print(\"You find a key on the table.\")\n",
    "        print(\"You take the key and open the door.\")\n",
    "        print(\"Congratulations! You escaped!\")\n",
    "    elif choice == 'open the door':\n",
    "        print(\"The door is locked.\")\n",
    "        print(\"You need to find a key to unlock it.\")\n",
    "        print(\"Game over!\")\n",
    "    else:\n",
    "        print(\"Invalid choice. Game over!\")\n",
    "\n",
    "# Start the game\n",
    "game()\n",
    "\n"
   ]
  },
  {
   "cell_type": "code",
   "execution_count": null,
   "id": "1bee7da4-9728-4a3f-9b79-10376293ddf2",
   "metadata": {},
   "outputs": [],
   "source": [
    "#. Build a program that solves a linear equation  for x, considering different cases.\n",
    "\n",
    "y = mx + c\n",
    "\n",
    "def solve_linear_equation(m, c, y):\n",
    "    if m == 0:\n",
    "        \n",
    "        print(\"No effect of input on y, everything depends on base\")\n",
    "        \n",
    "    else:\n",
    "        x = (y - c) / m\n",
    "        print(f\"The solution for x is: x = {x}\")\n",
    "\n",
    "# Input coefficients for the linear equation mx + c = y\n",
    "m = float(input(\"Enter coefficient 'm': \"))\n",
    "c = float(input(\"Enter constant 'c': \"))\n",
    "y = float(input(\"Enter constant 'y': \"))\n",
    "\n",
    "# Solve the linear equation\n",
    "solve_linear_equation(m, c, y)\n"
   ]
  },
  {
   "cell_type": "code",
   "execution_count": 31,
   "id": "8f7e0f47-e3ca-4852-8cf7-ed76a0ed9de3",
   "metadata": {},
   "outputs": [
    {
     "name": "stdout",
     "output_type": "stream",
     "text": [
      "Welcome to the Quiz Game!\n",
      "\n",
      "Question 1: What is the capital of France?\n",
      "A. Madrid\n",
      "B. Paris\n",
      "C. Rome\n",
      "D. Berlin\n"
     ]
    },
    {
     "name": "stdin",
     "output_type": "stream",
     "text": [
      "Enter your answer (A, B, C, or D):  a\n"
     ]
    },
    {
     "name": "stdout",
     "output_type": "stream",
     "text": [
      "Incorrect!\n",
      "\n",
      "Question 2: Which planet is known as the Red Planet?\n",
      "A. Mars\n",
      "B. Venus\n",
      "C. Jupiter\n",
      "D. Saturn\n"
     ]
    },
    {
     "name": "stdin",
     "output_type": "stream",
     "text": [
      "Enter your answer (A, B, C, or D):  a\n"
     ]
    },
    {
     "name": "stdout",
     "output_type": "stream",
     "text": [
      "Correct!\n",
      "\n",
      "Question 3: Who painted the Mona Lisa?\n",
      "A. Vincent van Gogh\n",
      "B. Leonardo da Vinci\n",
      "C. Pablo Picasso\n",
      "D. Michelangelo\n"
     ]
    },
    {
     "name": "stdin",
     "output_type": "stream",
     "text": [
      "Enter your answer (A, B, C, or D):  a\n"
     ]
    },
    {
     "name": "stdout",
     "output_type": "stream",
     "text": [
      "Incorrect!\n",
      "\n",
      "Quiz completed! Your score is: 1/3\n"
     ]
    }
   ],
   "source": [
    "\n",
    "#. Write a program that simulates a basic quiz game with multiple-choice questions and scoring.\n",
    "def quiz_game():\n",
    "    questions = [\n",
    "        {\n",
    "            \"question\": \"What is the capital of France?\",\n",
    "            \"options\": [\"A. Madrid\", \"B. Paris\", \"C. Rome\", \"D. Berlin\"],\n",
    "            \"answer\": \"B\"\n",
    "        },\n",
    "        {\n",
    "            \"question\": \"Which planet is known as the Red Planet?\",\n",
    "            \"options\": [\"A. Mars\", \"B. Venus\", \"C. Jupiter\", \"D. Saturn\"],\n",
    "            \"answer\": \"A\"\n",
    "        },\n",
    "        {\n",
    "            \"question\": \"Who painted the Mona Lisa?\",\n",
    "            \"options\": [\"A. Vincent van Gogh\", \"B. Leonardo da Vinci\", \"C. Pablo Picasso\", \"D. Michelangelo\"],\n",
    "            \"answer\": \"B\"\n",
    "        }\n",
    "    ]\n",
    "\n",
    "    score = 0\n",
    "\n",
    "    print(\"Welcome to the Quiz Game!\\n\")\n",
    "\n",
    "    for idx, question in enumerate(questions, start=1):\n",
    "        print(f\"Question {idx}: {question['question']}\")\n",
    "        for option in question['options']:\n",
    "            print(option)\n",
    "        user_answer = input(\"Enter your answer (A, B, C, or D): \").upper()\n",
    "\n",
    "        if user_answer == question['answer']:\n",
    "            print(\"Correct!\")\n",
    "            score += 1\n",
    "        else:\n",
    "            print(\"Incorrect!\")\n",
    "\n",
    "        print()\n",
    "\n",
    "    print(f\"Quiz completed! Your score is: {score}/{len(questions)}\")\n",
    "\n",
    "# Start the quiz game\n",
    "quiz_game()\n"
   ]
  },
  {
   "cell_type": "code",
   "execution_count": 32,
   "id": "c50f36ce-4855-4800-8798-8339d469abaf",
   "metadata": {},
   "outputs": [
    {
     "name": "stdin",
     "output_type": "stream",
     "text": [
      "Enter a year to check if it's prime:  30003\n"
     ]
    },
    {
     "name": "stdout",
     "output_type": "stream",
     "text": [
      "30003 is not a prime number.\n"
     ]
    }
   ],
   "source": [
    "#. Develop a program that determines whether a given year is a prime number or not.\n",
    "\n",
    "def is_prime(year):\n",
    "    if year <= 1:\n",
    "        return False\n",
    "    for i in range(2, year):\n",
    "        if year % i == 0:\n",
    "            return False\n",
    "    return True\n",
    "\n",
    "# Input the year\n",
    "year = int(input(\"Enter a year to check if it's prime: \"))\n",
    "\n",
    "# Check if the year is prime or not\n",
    "if is_prime(year):\n",
    "    print(f\"{year} is a prime number.\")\n",
    "else:\n",
    "    print(f\"{year} is not a prime number.\")\n"
   ]
  },
  {
   "cell_type": "code",
   "execution_count": 44,
   "id": "a7f77513-8f5c-45cd-933f-5837adb487c0",
   "metadata": {},
   "outputs": [
    {
     "name": "stdin",
     "output_type": "stream",
     "text": [
      "Please enter 3 numbers 23 24 25\n"
     ]
    },
    {
     "name": "stdout",
     "output_type": "stream",
     "text": [
      "[23, 25, 24]\n"
     ]
    }
   ],
   "source": [
    "#. Create a program that sorts three numbers in ascending order using conditional statements.\n",
    "\n",
    "num1, num2, num3 = map(int, (input('Please enter 3 numbers').split()))\n",
    "\n",
    "ascending_order = []\n",
    "\n",
    "if num1 >= num2 >= num3 :\n",
    "    ascending_order = [num1,num2,num3]\n",
    "    \n",
    "elif num1 <= num2 and  num3>=num1 :\n",
    "    ascending_order = [num1,num3,num2]\n",
    "    \n",
    "elif num1 <= num2 and  num3<=num1 :\n",
    "    ascending_order = [num3,num1,num2]\n",
    "        \n",
    "elif num1 >= num2 and  num3<=num1 :\n",
    "    ascending_order = [num3,num2,num1]\n",
    "    \n",
    "elif num1 >= num2 and  num3>=num1 :\n",
    "    ascending_order = [num2,num1,num3]\n",
    "        \n",
    "else :\n",
    "    ascending_order = [num2,num3,num1]\n",
    "    \n",
    "print(ascending_order)\n",
    "    \n"
   ]
  },
  {
   "cell_type": "code",
   "execution_count": null,
   "id": "1ff4b9c7-5c9c-4d55-b0c3-91974d2bebf4",
   "metadata": {},
   "outputs": [],
   "source": []
  },
  {
   "cell_type": "code",
   "execution_count": 3,
   "id": "a46c0d5e-26a8-4613-b7d8-7b8244c06f03",
   "metadata": {},
   "outputs": [
    {
     "name": "stdin",
     "output_type": "stream",
     "text": [
      "Enter your weight in kg 90\n",
      "Enter your height in meter 1.84\n"
     ]
    },
    {
     "name": "stdout",
     "output_type": "stream",
     "text": [
      "You are Over weight\n"
     ]
    }
   ],
   "source": [
    "#. Write a program that calculates the BMI (Body Mass Index) and provides health recommendations based on the user's input\n",
    "\n",
    "weight = float(input(\"Enter your weight in kg\"))\n",
    "\n",
    "height = float(input(\"Enter your height in meter\"))\n",
    "             \n",
    "bmi = weight / (height**2)\n",
    "             \n",
    "if bmi <= 18.5:\n",
    "             print('You are underweight')\n",
    "             \n",
    "elif 18.6 <= bmi <= 24.9:\n",
    "             print('You are Normal weight')\n",
    "             \n",
    "elif 25 <= bmi <= 29.9:\n",
    "             print('You are Over weight')\n",
    "             \n",
    "else :\n",
    "             print('you are Obesity')\n",
    "             \n",
    "             \n",
    "             \n",
    "\n"
   ]
  },
  {
   "cell_type": "code",
   "execution_count": 1,
   "id": "590eb8d4-2532-427e-bbbf-7b9e7df202a1",
   "metadata": {},
   "outputs": [
    {
     "name": "stdout",
     "output_type": "stream",
     "text": [
      "Matrix 1:\n",
      "[1, 2]\n",
      "[3, 4]\n",
      "\n",
      "Matrix 2:\n",
      "[5, 6]\n",
      "[7, 8]\n",
      "\n",
      "Result of matrix addition:\n",
      "[6, 8]\n",
      "[10, 12]\n",
      "\n",
      "Result of matrix subtraction:\n",
      "[-4, -4]\n",
      "[-4, -4]\n"
     ]
    }
   ],
   "source": [
    "#Develop a program that performs matrix addition and subtraction based on user input.\n",
    "\n",
    "matrix1 = [\n",
    "    [1, 2],\n",
    "    [3, 4]\n",
    "]\n",
    "\n",
    "matrix2 = [\n",
    "    [5, 6],\n",
    "    [7, 8]\n",
    "]\n",
    "\n",
    "\n",
    "\n",
    "def matrix_addition(matrix1, matrix2):\n",
    "    result = []\n",
    "    for i in range(len(matrix1)):\n",
    "        row = []\n",
    "        for j in range(len(matrix1[0])):\n",
    "            row.append(matrix1[i][j] + matrix2[i][j])\n",
    "        result.append(row)\n",
    "    return result\n",
    "\n",
    "def matrix_subtraction(matrix1, matrix2):\n",
    "    result = []\n",
    "    for i in range(len(matrix1)):\n",
    "        row = []\n",
    "        for j in range(len(matrix1[0])):\n",
    "            row.append(matrix1[i][j] - matrix2[i][j])\n",
    "        result.append(row)\n",
    "    return result\n",
    "\n",
    "\n",
    "add_result = matrix_addition(matrix1, matrix2)\n",
    "sub_result = matrix_subtraction(matrix1, matrix2)\n",
    "\n",
    "print(\"Matrix 1:\")\n",
    "for row in matrix1:\n",
    "    print(row)\n",
    "\n",
    "print(\"\\nMatrix 2:\")\n",
    "for row in matrix2:\n",
    "    print(row)\n",
    "\n",
    "print(\"\\nResult of matrix addition:\")\n",
    "for row in add_result:\n",
    "    print(row)\n",
    "\n",
    "print(\"\\nResult of matrix subtraction:\")\n",
    "for row in sub_result:\n",
    "    print(row)\n"
   ]
  },
  {
   "cell_type": "code",
   "execution_count": 2,
   "id": "893dc7c6-0839-4d5a-80b9-d437861c0536",
   "metadata": {},
   "outputs": [
    {
     "name": "stdin",
     "output_type": "stream",
     "text": [
      "Enter first number:  23\n",
      "Enter second number:  21\n"
     ]
    },
    {
     "name": "stdout",
     "output_type": "stream",
     "text": [
      "The GCD of 23 and 21 is: 1\n"
     ]
    }
   ],
   "source": [
    "#Write a program that calculates the greatest common divisor (GCD) of two numbers using the Euclidean algorithm.\n",
    "\n",
    "def gcd(a, b):\n",
    "    while b != 0:\n",
    "        a, b = b, a % b\n",
    "    return a\n",
    "\n",
    "# Get user input for two numbers\n",
    "num1 = int(input(\"Enter first number: \"))\n",
    "num2 = int(input(\"Enter second number: \"))\n",
    "\n",
    "# Calculate GCD using Euclidean algorithm\n",
    "result = gcd(num1, num2)\n",
    "\n",
    "# Display the GCD\n",
    "print(f\"The GCD of {num1} and {num2} is: {result}\")\n",
    "\n",
    "\n"
   ]
  },
  {
   "cell_type": "code",
   "execution_count": 3,
   "id": "7cc590e6-3651-496c-b3da-4143d97e5331",
   "metadata": {},
   "outputs": [
    {
     "name": "stdout",
     "output_type": "stream",
     "text": [
      "Result of matrix multiplication:\n",
      "[58, 64]\n",
      "[139, 154]\n"
     ]
    }
   ],
   "source": [
    "# Build a program that performs matrix multiplication using nested loops and conditional statements.\n",
    "\n",
    "def matrix_multiplication(matrix1, matrix2):\n",
    "    rows_m1 = len(matrix1)\n",
    "    cols_m1 = len(matrix1[0])\n",
    "    rows_m2 = len(matrix2)\n",
    "    cols_m2 = len(matrix2[0])\n",
    "\n",
    "    if cols_m1 != rows_m2:\n",
    "        print(\"Matrices cannot be multiplied. Invalid dimensions.\")\n",
    "        return None\n",
    "\n",
    "    result = [[0 for _ in range(cols_m2)] for _ in range(rows_m1)]\n",
    "\n",
    "    for i in range(rows_m1):\n",
    "        for j in range(cols_m2):\n",
    "            for k in range(cols_m1):\n",
    "                result[i][j] += matrix1[i][k] * matrix2[k][j]\n",
    "\n",
    "    return result\n",
    "\n",
    "# Example matrices\n",
    "matrix_a = [\n",
    "    [1, 2, 3],\n",
    "    [4, 5, 6]\n",
    "]\n",
    "\n",
    "matrix_b = [\n",
    "    [7, 8],\n",
    "    [9, 10],\n",
    "    [11, 12]\n",
    "]\n",
    "\n",
    "multiplication_result = matrix_multiplication(matrix_a, matrix_b)\n",
    "\n",
    "if multiplication_result:\n",
    "    print(\"Result of matrix multiplication:\")\n",
    "    for row in multiplication_result:\n",
    "        print(row)\n",
    "\n",
    "\n"
   ]
  },
  {
   "cell_type": "code",
   "execution_count": 4,
   "id": "abb3ad9a-b025-4c97-ae9d-808a8809a40d",
   "metadata": {},
   "outputs": [
    {
     "name": "stdin",
     "output_type": "stream",
     "text": [
      "Enter the number of terms for the Fibonacci sequence:  4\n"
     ]
    },
    {
     "name": "stdout",
     "output_type": "stream",
     "text": [
      "Fibonacci sequence up to term 4:\n",
      "[0, 1, 1, 2]\n"
     ]
    }
   ],
   "source": [
    "#Write a program that generates Fibonacci numbers up to a specified term using iterative methods.\n",
    "\n",
    "def generate_fibonacci(n):\n",
    "    fibonacci_sequence = []\n",
    "    a, b = 0, 1\n",
    "\n",
    "    for _ in range(n):\n",
    "        fibonacci_sequence.append(a)\n",
    "        a, b = b, a + b\n",
    "\n",
    "    return fibonacci_sequence\n",
    "\n",
    "terms = int(input(\"Enter the number of terms for the Fibonacci sequence: \"))\n",
    "\n",
    "if terms <= 0:\n",
    "    print(\"Please enter a positive integer.\")\n",
    "else:\n",
    "    result = generate_fibonacci(terms)\n",
    "    print(f\"Fibonacci sequence up to term {terms}:\")\n",
    "    print(result)\n"
   ]
  },
  {
   "cell_type": "code",
   "execution_count": 5,
   "id": "4e5a3307-3ea1-4324-82bb-c7f5df406c7e",
   "metadata": {},
   "outputs": [
    {
     "name": "stdin",
     "output_type": "stream",
     "text": [
      "Enter the term of the Fibonacci sequence to calculate:  56\n"
     ]
    },
    {
     "name": "stdout",
     "output_type": "stream",
     "text": [
      "The 56th term of the Fibonacci sequence is: 225851433717\n"
     ]
    }
   ],
   "source": [
    "# Develop a program that calculates the nth term of the Fibonacci sequence using memoization.\n",
    "\n",
    "def fibonacci_memoization(n, memo={}):\n",
    "    if n in memo:\n",
    "        return memo[n]\n",
    "    if n <= 2:\n",
    "        return 1\n",
    "\n",
    "    memo[n] = fibonacci_memoization(n - 1, memo) + fibonacci_memoization(n - 2, memo)\n",
    "    return memo[n]\n",
    "\n",
    "term = int(input(\"Enter the term of the Fibonacci sequence to calculate: \"))\n",
    "\n",
    "if term <= 0:\n",
    "    print(\"Please enter a positive integer.\")\n",
    "else:\n",
    "    result = fibonacci_memoization(term)\n",
    "    print(f\"The {term}th term of the Fibonacci sequence is: {result}\")\n"
   ]
  },
  {
   "cell_type": "code",
   "execution_count": 6,
   "id": "f8453a52-f45f-4771-a117-345d2c082394",
   "metadata": {},
   "outputs": [
    {
     "name": "stdin",
     "output_type": "stream",
     "text": [
      "Enter the year (YYYY):  1934\n",
      "Enter the month (1-12):  3\n"
     ]
    },
    {
     "name": "stdout",
     "output_type": "stream",
     "text": [
      "\n",
      "Calendar for March 1934:\n",
      "\n",
      "     March 1934\n",
      "Mo Tu We Th Fr Sa Su\n",
      "          1  2  3  4\n",
      " 5  6  7  8  9 10 11\n",
      "12 13 14 15 16 17 18\n",
      "19 20 21 22 23 24 25\n",
      "26 27 28 29 30 31\n",
      "\n"
     ]
    }
   ],
   "source": [
    "#Create a program that generates a calendar for a given month and year using conditional statements.\n",
    "\n",
    "import calendar\n",
    "\n",
    "year = int(input(\"Enter the year (YYYY): \"))\n",
    "month = int(input(\"Enter the month (1-12): \"))\n",
    "\n",
    "if month < 1 or month > 12:\n",
    "    print(\"Invalid month input. Please enter a month between 1 and 12.\")\n",
    "else:\n",
    "    cal = calendar.month(year, month)\n",
    "    print(f\"\\nCalendar for {calendar.month_name[month]} {year}:\\n\")\n",
    "    print(cal)\n",
    "\n"
   ]
  },
  {
   "cell_type": "code",
   "execution_count": 7,
   "id": "6396a2b5-1d88-41d9-b128-5d7dbd9b0d30",
   "metadata": {},
   "outputs": [
    {
     "name": "stdout",
     "output_type": "stream",
     "text": [
      "Your cards: [11, 5]\n",
      "Dealer's cards: [6, '??']\n"
     ]
    },
    {
     "name": "stdin",
     "output_type": "stream",
     "text": [
      "Do you want to hit or stand? (h/s):  h\n"
     ]
    },
    {
     "name": "stdout",
     "output_type": "stream",
     "text": [
      "Your cards: [11, 5, 10]\n"
     ]
    },
    {
     "name": "stdin",
     "output_type": "stream",
     "text": [
      "Do you want to hit or stand? (h/s):  h\n"
     ]
    },
    {
     "name": "stdout",
     "output_type": "stream",
     "text": [
      "Your cards: [11, 5, 10, 8]\n",
      "Busted! You lose!\n",
      "\n",
      "Your final hand: [11, 5, 10, 8]\n",
      "Dealer's final hand: [6, 7, 9]\n",
      "You busted! Dealer wins.\n"
     ]
    }
   ],
   "source": [
    "#Build a program that simulates a basic text-based blackjack game against the computer.\n",
    "\n",
    "import random\n",
    "\n",
    "# Function to deal cards\n",
    "def deal_card():\n",
    "    cards = [2, 3, 4, 5, 6, 7, 8, 9, 10, 10, 10, 10, 11] * 4\n",
    "    return random.choice(cards)\n",
    "\n",
    "# Function to calculate the total value of cards\n",
    "def calculate_total(cards):\n",
    "    total = sum(cards)\n",
    "    if total > 21 and 11 in cards:\n",
    "        total -= 10\n",
    "    return total\n",
    "\n",
    "# Initialize player and dealer hands\n",
    "player_cards = [deal_card(), deal_card()]\n",
    "dealer_cards = [deal_card(), deal_card()]\n",
    "\n",
    "# Display initial hands\n",
    "print(\"Your cards:\", player_cards)\n",
    "print(\"Dealer's cards:\", [dealer_cards[0], '??'])\n",
    "\n",
    "# Player's turn\n",
    "while True:\n",
    "    player_total = calculate_total(player_cards)\n",
    "    if player_total == 21:\n",
    "        print(\"Blackjack! You win!\")\n",
    "        break\n",
    "    elif player_total > 21:\n",
    "        print(\"Busted! You lose!\")\n",
    "        break\n",
    "\n",
    "    choice = input(\"Do you want to hit or stand? (h/s): \")\n",
    "    if choice.lower() == 'h':\n",
    "        player_cards.append(deal_card())\n",
    "        print(\"Your cards:\", player_cards)\n",
    "    else:\n",
    "        break\n",
    "\n",
    "# Dealer's turn\n",
    "while calculate_total(dealer_cards) < 17:\n",
    "    dealer_cards.append(deal_card())\n",
    "\n",
    "# Display final hands\n",
    "print(\"\\nYour final hand:\", player_cards)\n",
    "print(\"Dealer's final hand:\", dealer_cards)\n",
    "\n",
    "# Determine the winner\n",
    "player_total = calculate_total(player_cards)\n",
    "dealer_total = calculate_total(dealer_cards)\n",
    "\n",
    "if player_total > 21:\n",
    "    print(\"You busted! Dealer wins.\")\n",
    "elif dealer_total > 21:\n",
    "    print(\"Dealer busted! You win.\")\n",
    "elif player_total == dealer_total:\n",
    "    print(\"It's a tie!\")\n",
    "elif player_total > dealer_total:\n",
    "    print(\"You win!\")\n",
    "else:\n",
    "    print(\"Dealer wins.\")\n"
   ]
  },
  {
   "cell_type": "code",
   "execution_count": 8,
   "id": "86f65e72-86d8-4b1b-9ffb-8d69743400f6",
   "metadata": {},
   "outputs": [
    {
     "name": "stdin",
     "output_type": "stream",
     "text": [
      "Enter a number to find its prime factors:  6\n"
     ]
    },
    {
     "name": "stdout",
     "output_type": "stream",
     "text": [
      "The prime factors of 6 are: [2, 3]\n"
     ]
    }
   ],
   "source": [
    "# Write a program that generates the prime factors of a given number using trial division\n",
    "\n",
    "def prime_factors(n):\n",
    "    factors = []\n",
    "    divisor = 2\n",
    "\n",
    "    while n > 1:\n",
    "        while n % divisor == 0:\n",
    "            factors.append(divisor)\n",
    "            n //= divisor\n",
    "        divisor += 1\n",
    "\n",
    "    return factors if factors else [n]  # If the input number itself is prime\n",
    "\n",
    "number = int(input(\"Enter a number to find its prime factors: \"))\n",
    "\n",
    "if number <= 1:\n",
    "    print(\"Please enter a number greater than 1.\")\n",
    "else:\n",
    "    result = prime_factors(number)\n",
    "    print(f\"The prime factors of {number} are: {result}\")\n"
   ]
  }
 ],
 "metadata": {
  "kernelspec": {
   "display_name": "Python 3 (ipykernel)",
   "language": "python",
   "name": "python3"
  },
  "language_info": {
   "codemirror_mode": {
    "name": "ipython",
    "version": 3
   },
   "file_extension": ".py",
   "mimetype": "text/x-python",
   "name": "python",
   "nbconvert_exporter": "python",
   "pygments_lexer": "ipython3",
   "version": "3.10.8"
  }
 },
 "nbformat": 4,
 "nbformat_minor": 5
}
