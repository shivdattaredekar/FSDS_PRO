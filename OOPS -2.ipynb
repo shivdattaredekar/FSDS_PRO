{
 "cells": [
  {
   "cell_type": "code",
   "execution_count": null,
   "id": "731902f3-d9f7-44a7-a305-dba2177beeb9",
   "metadata": {},
   "outputs": [],
   "source": [
    "# What is a constructor in Python? Explain its purpose and usage.\n",
    "\n",
    "#constructor in python is used inside class, and its used to make sure that any method created inside class will run smoothly. \n",
    "#constructor is automatically called when we create any object based on that class. __init__ is one the constructor used widely  \n"
   ]
  },
  {
   "cell_type": "code",
   "execution_count": 8,
   "id": "227f766e-975a-41ff-b279-e71bc331ade1",
   "metadata": {},
   "outputs": [
    {
     "name": "stdout",
     "output_type": "stream",
     "text": [
      "salary of the person is 50000\n",
      "salary of the person is 45000\n"
     ]
    }
   ],
   "source": [
    "# Differentiate between a parameterless constructor and a parameterized constructor in Python.\n",
    "\n",
    "#parameterless constructor:\n",
    "    # here constructor don't except any other arguemnt other than self (pointer)\n",
    "    \n",
    "class myclass():\n",
    "    def __init__(self):\n",
    "        self.salary = 50000\n",
    "    def print_salary(self):\n",
    "        print(f'salary of the person is {self.salary}')\n",
    "        \n",
    "a = myclass()   \n",
    "\n",
    "a.print_salary()\n",
    "\n",
    "\n",
    "#parameter constructor:\n",
    "\n",
    "class myclass():\n",
    "    def __init__(self, salary):\n",
    "        self.salary = salary\n",
    "    def print_salary(self):\n",
    "        print(f'salary of the person is {self.salary}')\n",
    "        \n",
    "a = myclass('45000')\n",
    "\n",
    "a.print_salary()\n"
   ]
  },
  {
   "cell_type": "code",
   "execution_count": null,
   "id": "97deee62-1105-4b3d-8c9a-7ed409ae4094",
   "metadata": {},
   "outputs": [],
   "source": []
  },
  {
   "cell_type": "code",
   "execution_count": null,
   "id": "e80daf76-46ae-40b8-8e75-d2f1f63504db",
   "metadata": {},
   "outputs": [],
   "source": [
    "#How do you define a constructor in a Python class? Provide an example.\n",
    "\n",
    "#constructor in python is used inside class, and its used to make sure that any method created inside class will run smoothly. \n",
    "#constructor is automatically called when we create any object based on that class. __init__ is one the constructor used widely  \n",
    "\n",
    "class myclass():\n",
    "    def __init__(self, salary):\n",
    "        self.salary = salary\n",
    "    def print_salary(self):\n",
    "        print(f'salary of the person is {self.salary}')\n",
    "        \n",
    "a = myclass('45000')\n",
    "\n",
    "a.print_salary()\n",
    "\n"
   ]
  },
  {
   "cell_type": "code",
   "execution_count": 4,
   "id": "63f0e84d-0f53-4c9e-9cc4-a10a293476fe",
   "metadata": {},
   "outputs": [
    {
     "name": "stdout",
     "output_type": "stream",
     "text": [
      "Salary of the person is 30000\n",
      "salary of the person is 45000\n"
     ]
    }
   ],
   "source": [
    "#Explain the `__init__` method in Python and its role in constructors.\n",
    "\n",
    "#Case 1\n",
    "class myclass:\n",
    "    salary = 30000\n",
    "    \n",
    "    def print_salary(self):\n",
    "        print(f'Salary of the person is {self.salary}')\n",
    "\n",
    "a = myclass()\n",
    "a.print_salary()\n",
    "\n",
    "#Case 2\n",
    "class myclass():\n",
    "    def __init__(self, salary):\n",
    "        self.salary = salary\n",
    "    def print_salary(self):\n",
    "        print(f'salary of the person is {self.salary}')\n",
    "        \n",
    "a = myclass('45000')\n",
    "\n",
    "a.print_salary()\n",
    "\n",
    "\n",
    "#the main difference in case 1 and case 2 is that in case 2 we are able to put any salary figure, but in case 1 the salary is fixed \n",
    "#we cannot input any salary of choice in case one and hence to do so we use __init__ in case 2"
   ]
  },
  {
   "cell_type": "code",
   "execution_count": 5,
   "id": "68507854-d7b8-4a72-817f-a8149fc41623",
   "metadata": {},
   "outputs": [
    {
     "name": "stdout",
     "output_type": "stream",
     "text": [
      "Name & age of the person is Shiv & 28\n"
     ]
    }
   ],
   "source": [
    "# In a class named `Person`, create a constructor that initializes the `name` and `age` attributes. Provide an\n",
    "#example of creating an object of this class.\n",
    "\n",
    "class Person():\n",
    "    \n",
    "    def __init__(self, name, age):\n",
    "        self.name = name\n",
    "        self. age = age\n",
    "        \n",
    "    def print_demographics(self):\n",
    "        print(f'Name & age of the person is {self.name} & {self.age}')\n",
    "        \n",
    "shiv = Person('Shiv',28)\n",
    "\n",
    "shiv.print_demographics()\n"
   ]
  },
  {
   "cell_type": "code",
   "execution_count": 1,
   "id": "78942426-88e9-4d53-af69-1a91151506c2",
   "metadata": {},
   "outputs": [
    {
     "name": "stdout",
     "output_type": "stream",
     "text": [
      "Constructor called with value: 42\n"
     ]
    }
   ],
   "source": [
    "# How can you call a constructor explicitly in Python? Give an example.\n",
    "\n",
    "class MyClass:\n",
    "    def __init__(self, value):\n",
    "        self.value = value\n",
    "        print(f\"Constructor called with value: {self.value}\")\n",
    "\n",
    "# Explicitly calling the constructor, although it gets automatically called while creating the object \n",
    "obj = MyClass.__init__(MyClass, 42)\n"
   ]
  },
  {
   "cell_type": "code",
   "execution_count": 2,
   "id": "0ddeacac-ff21-4f27-8908-d76beb3f53b2",
   "metadata": {},
   "outputs": [
    {
     "name": "stdout",
     "output_type": "stream",
     "text": [
      "Constructor called with value: 42\n"
     ]
    }
   ],
   "source": [
    "# What is the significance of the `self` parameter in Python constructors? Explain with an example.\n",
    "\n",
    "#self is the pointer that is used to to indicate that certain function/variable belong to class \n",
    "\n",
    "class Person():\n",
    "    \n",
    "    def __init__(self, name, age):\n",
    "        self.name = name\n",
    "        self. age = age\n",
    "        \n",
    "    def print_demographics(self):\n",
    "        print(f'Name & age of the person is {self.name} & {self.age}') # here self is used to tell function that these values belongs to __init__\n",
    "        \n",
    "shiv = Person('Shiv',28)\n",
    "\n",
    "shiv.print_demographics()\n"
   ]
  },
  {
   "cell_type": "code",
   "execution_count": null,
   "id": "f0148c01-9483-410f-a8f2-cccb940048bf",
   "metadata": {},
   "outputs": [],
   "source": [
    "#Discuss the concept of default constructors in Python. When are they used?\n",
    "\n",
    "# __init__() method within a class, and it can be considered a default constructor because it's automatically called when an object\n",
    "#of the class is created.The __init__() method can be designed in two ways:\n",
    "\n",
    "#Parameterless Constructor & Parameterless Constructor (explained earlier)"
   ]
  },
  {
   "cell_type": "code",
   "execution_count": 5,
   "id": "a32dffa8-d3dc-4f56-a826-329f9ee667b9",
   "metadata": {},
   "outputs": [
    {
     "name": "stdout",
     "output_type": "stream",
     "text": [
      "Area of rectangle is 280\n"
     ]
    }
   ],
   "source": [
    "# Create a Python class called `Rectangle` with a constructor that initializes the `width` and `height`\n",
    "#attributes. Provide a method to calculate the area of the rectangle.\n",
    "\n",
    "class Rectangle():\n",
    "    \n",
    "    def __init__(self, width, height):\n",
    "        self.width = width\n",
    "        self.height = height\n",
    "        \n",
    "    def area(self):\n",
    "        area = self.width * self.height\n",
    "        print(f'Area of rectangle is {area}')\n",
    "        \n",
    "area1 = Rectangle(10,28)\n",
    "\n",
    "area1.area()\n"
   ]
  },
  {
   "cell_type": "code",
   "execution_count": 4,
   "id": "91eb16b6-b1f1-4774-8b1e-9e48661424f0",
   "metadata": {},
   "outputs": [
    {
     "name": "stdout",
     "output_type": "stream",
     "text": [
      "Result: 12\n"
     ]
    },
    {
     "ename": "TypeError",
     "evalue": "MyClass.__init__() missing 1 required positional argument: 'value2'",
     "output_type": "error",
     "traceback": [
      "\u001b[0;31m---------------------------------------------------------------------------\u001b[0m",
      "\u001b[0;31mTypeError\u001b[0m                                 Traceback (most recent call last)",
      "Cell \u001b[0;32mIn[4], line 30\u001b[0m\n\u001b[1;32m     27\u001b[0m         \u001b[38;5;28mself\u001b[39m\u001b[38;5;241m.\u001b[39mvalue2 \u001b[38;5;241m=\u001b[39m value2\n\u001b[1;32m     29\u001b[0m \u001b[38;5;66;03m# Creating an instance of MyClass with two arguments - will result in an error\u001b[39;00m\n\u001b[0;32m---> 30\u001b[0m obj \u001b[38;5;241m=\u001b[39m \u001b[43mMyClass\u001b[49m\u001b[43m(\u001b[49m\u001b[38;5;241;43m10\u001b[39;49m\u001b[43m)\u001b[49m\n",
      "\u001b[0;31mTypeError\u001b[0m: MyClass.__init__() missing 1 required positional argument: 'value2'"
     ]
    }
   ],
   "source": [
    "# What is method overloading, and how is it related to constructors in Python?\n",
    "\n",
    "class Calculator:\n",
    "    def add(self, a, b):\n",
    "        return a + b\n",
    "\n",
    "    \n",
    "    def add(self, a, b, c):\n",
    "        return a + b + c\n",
    "\n",
    "\n",
    "calc = Calculator()\n",
    "\n",
    "# Calling the add method with two arguments - will result in an error\n",
    "result = calc.add(2, 3, 7)\n",
    "print(\"Result:\", result)\n",
    "\n",
    "\n",
    "#with constructor\n",
    "class MyClass:\n",
    "    def __init__(self, value):\n",
    "        self.value = value\n",
    "\n",
    "    # Attempt to define another __init__() method - this will override the previous one\n",
    "    def __init__(self, value1, value2):\n",
    "        self.value1 = value1\n",
    "        self.value2 = value2\n",
    "\n",
    "# Creating an instance of MyClass with 1 argument - will result in an error\n",
    "obj = MyClass(10)\n",
    "\n",
    "# Answer = Method overloading is replacing an existing method with with new method\n"
   ]
  },
  {
   "cell_type": "code",
   "execution_count": 9,
   "id": "ad79b1ad-06cf-4260-b0fd-295ed7e1d94b",
   "metadata": {},
   "outputs": [
    {
     "name": "stdout",
     "output_type": "stream",
     "text": [
      "78 76 79 75 70 74 79 72\n"
     ]
    }
   ],
   "source": [
    "# Explain the use of the `super()` function in Python constructors. Provide an example.\n",
    "\n",
    "class subject_marks():\n",
    "    \n",
    "    def __init__(self, maths, science, english, physics):\n",
    "        self.maths = maths\n",
    "        self.science = science\n",
    "        self.english = english\n",
    "        self.physics = physics\n",
    "        \n",
    "    def print_marks(self):\n",
    "        print(self.maths, self.science, self.english, self.physics)\n",
    "        \n",
    "class mark_HSC(subject_marks):\n",
    "    \n",
    "    def __init__(self, maths, science, english, physics, chemistry, bio, heat_transfer, thermo):\n",
    "        super().__init__(maths, science, english, physics)\n",
    "        self.chemistry = chemistry\n",
    "        self.bio = bio\n",
    "        self.heat_transfer = heat_transfer\n",
    "        self.thermo = thermo\n",
    "        \n",
    "    def print_all_marks(self):\n",
    "        print(self.maths, self.science, self.english, self.physics,self.chemistry, self.bio, self.heat_transfer, self.thermo)\n",
    "        \n",
    "student = mark_HSC(78,76,79,75,70,74,79,72)\n",
    "    \n",
    "student.print_all_marks()\n",
    "\n",
    "# SUPER=> it says subject_marks is the super class of mark_HSC and hence initialize the __init__ constructor of that class        "
   ]
  },
  {
   "cell_type": "code",
   "execution_count": 10,
   "id": "ea7ff3bc-f847-4273-9b53-1c7abc47e79e",
   "metadata": {},
   "outputs": [
    {
     "name": "stdout",
     "output_type": "stream",
     "text": [
      "The 5 Am Club Robin Sharma 1995\n"
     ]
    }
   ],
   "source": [
    "# Create a class called `Book` with a constructor that initializes the `title`, `author`, and `published_year`\n",
    "#attributes. Provide a method to display book details.\n",
    "\n",
    "class Book():\n",
    "    \n",
    "    def __init__(self, title, author, published_year):\n",
    "        self.title = title\n",
    "        self.author = author\n",
    "        self.published_year = published_year\n",
    "        \n",
    "    def print_Book(self):\n",
    "        print(self.title, self.author, self.published_year)\n",
    "        \n",
    "the_5am_club = Book('The 5 Am Club', 'Robin Sharma', 1995)\n",
    "\n",
    "the_5am_club.print_Book()"
   ]
  },
  {
   "cell_type": "code",
   "execution_count": null,
   "id": "083f88fd-952e-4fd3-b2f8-8b770c0f3c4f",
   "metadata": {},
   "outputs": [],
   "source": [
    "# Discuss the differences between constructors and regular methods in Python classes.\n",
    "\n",
    "#Constructors (__init__()): Constructors are special methods in Python classes used for initializing object attributes.\n",
    "    #They are automatically called when an instance of the class is created and are responsible for setting up initial values for object attributes.\n",
    "\n",
    "#Regular Methods: Regular methods perform various operations or tasks using the attributes and functionalities of the class. \n",
    "    #These methods can manipulate object attributes, perform calculations, modify object state, or implement specific functionalities as per the class's design\n"
   ]
  },
  {
   "cell_type": "code",
   "execution_count": null,
   "id": "cb36732a-d158-42ac-bc37-f25f6158caef",
   "metadata": {},
   "outputs": [],
   "source": [
    "# Explain the role of the `self` parameter in instance variable initialization within a constructor.\n",
    "\n",
    "#self parameter is used to bind the attributes to the specific instance of the class. \n",
    "    #It helps differentiate between the instance variables belonging to different objects of the same class. \n",
    "        #Inside the __init__() method,when assigning values to attributes, \n",
    "            #self is used to ensure that the values are associated with the particular instance being created"
   ]
  },
  {
   "cell_type": "code",
   "execution_count": null,
   "id": "566eb48d-19a0-4603-89c1-3280de7ad37f",
   "metadata": {},
   "outputs": [],
   "source": [
    "# How do you prevent a class from having multiple instances by using constructors in Python? Provide an example."
   ]
  },
  {
   "cell_type": "code",
   "execution_count": 14,
   "id": "82f0417c-db84-424d-be87-37770a32a821",
   "metadata": {},
   "outputs": [
    {
     "name": "stdout",
     "output_type": "stream",
     "text": [
      "Marks obtained in subjects: ['maths', 'science', 'english', 'physics']\n"
     ]
    }
   ],
   "source": [
    "# Create a Python class called `Student` with a constructor that takes a list of subjects as a parameter and initializes the `subjects` attribute.\n",
    "\n",
    "class Student:\n",
    "    def __init__(self, subjects):\n",
    "        self.subjects = subjects\n",
    "\n",
    "    def print_marks(self):\n",
    "        print(\"Marks obtained in subjects:\", self.subjects)\n",
    "\n",
    "student1 = Student(['maths', 'science', 'english', 'physics'])\n",
    "\n",
    "student1.print_marks()  "
   ]
  },
  {
   "cell_type": "code",
   "execution_count": 16,
   "id": "85cd4672-5958-4677-ba91-982195b7c3cf",
   "metadata": {},
   "outputs": [
    {
     "name": "stdout",
     "output_type": "stream",
     "text": [
      "Skoda Rapid\n"
     ]
    }
   ],
   "source": [
    "# Create a Python class called `Car` with a default constructor that initializes the `make` and `model`attributes.\n",
    "    #Provide a method to display car information.\n",
    "    \n",
    "class Car():\n",
    "    \n",
    "    def __init__(self, make, model):\n",
    "        self.make = make\n",
    "        self.model = model\n",
    "        \n",
    "    def print_model(self):\n",
    "        print(self.make, self.model)\n",
    "        \n",
    "car1 = Car('Skoda','Rapid')\n",
    "\n",
    "car1.print_model()"
   ]
  },
  {
   "cell_type": "code",
   "execution_count": null,
   "id": "6171a015-3d52-4438-be92-7cca441e4676",
   "metadata": {},
   "outputs": [],
   "source": [
    "# What is inheritance in Python? Explain its significance in object-oriented programming.\n",
    "\n",
    "#inheritance in python means inherating the properties of one class to the other class, \n",
    "    #it means we can use properites of one class in other class  \n"
   ]
  },
  {
   "cell_type": "code",
   "execution_count": null,
   "id": "cf8c48f7-efda-49e1-bc86-bdb483f91a85",
   "metadata": {},
   "outputs": [],
   "source": [
    "#Differentiate between single inheritance and multiple inheritance in Python. Provide examples for each.\n",
    "\n",
    "#single inheritance= one class is inheriated with other class and properites of one class can be used by other class\n",
    "\n",
    "#Multiple inheritance= in this we can inheraite multiple class togather and we can use properies of all. their are two types of multiple inheritance\n",
    "    # one is mutiple inheritance and one is multilevel inheritance \n",
    "\n"
   ]
  },
  {
   "cell_type": "code",
   "execution_count": 11,
   "id": "cd5ea5e0-2f76-4f94-a0f8-7dc8299a6741",
   "metadata": {},
   "outputs": [
    {
     "name": "stdout",
     "output_type": "stream",
     "text": [
      "Color: Black, Speed: 100 km/h\n",
      "Color: Black, Speed: 100 km/h, Brand: Skoda\n"
     ]
    }
   ],
   "source": [
    "class Vehicle:\n",
    "    def __init__(self, color, speed):\n",
    "        self.color = color\n",
    "        self.speed = speed\n",
    "\n",
    "    def print_model(self):\n",
    "        print(f\"Color: {self.color}, Speed: {self.speed} km/h\")\n",
    "\n",
    "class Car(Vehicle): \n",
    "    def __init__(self, color, speed, brand):\n",
    "        super().__init__(color, speed)\n",
    "        self.brand = brand\n",
    "\n",
    "    def print_all(self):\n",
    "        print(f\"Color: {self.color}, Speed: {self.speed} km/h, Brand: {self.brand}\")\n",
    "\n",
    "car1 = Car('Black', 100, 'Skoda')\n",
    "\n",
    "car1.print_model()  \n",
    "car1.print_all()    "
   ]
  },
  {
   "cell_type": "code",
   "execution_count": null,
   "id": "98cb9714-b1a0-4219-8240-42d875e823bf",
   "metadata": {},
   "outputs": [],
   "source": [
    "# Explain the concept of method overriding in inheritance. Provide a practical example.\n",
    "\n",
    "#Method overriding is a feature in object-oriented programming that allows a subclass to provide a specific implementation of a method\n",
    "#that is already defined in its superclass. When a method in the subclass has the same name, same parameters, and same return type \n",
    "#as a method in its superclass, it overrides the superclass method\n",
    "\n",
    "class Animal:\n",
    "    def make_sound(self):\n",
    "        print(\"Some generic sound\")\n",
    "\n",
    "class Dog(Animal):\n",
    "    def make_sound(self):  \n",
    "        print(\"Woof!\")\n",
    "\n",
    "animal = Animal()\n",
    "dog = Dog()\n",
    "\n",
    "animal.make_sound()  \n",
    "dog.make_sound()     \n",
    "\n"
   ]
  },
  {
   "cell_type": "code",
   "execution_count": 13,
   "id": "f1a582e3-a553-44cc-9024-67de7776befe",
   "metadata": {},
   "outputs": [
    {
     "name": "stdout",
     "output_type": "stream",
     "text": [
      "Color: Black, Speed: 100 km/h\n",
      "Color: Black, Speed: 100 km/h, Brand: Skoda\n"
     ]
    }
   ],
   "source": [
    "# How can you access the methods and attributes of a parent class from a child class in Python? Give an example.\n",
    "\n",
    "class Vehicle:\n",
    "    def __init__(self, color, speed):\n",
    "        self.color = color\n",
    "        self.speed = speed\n",
    "\n",
    "    def print_model(self):\n",
    "        print(f\"Color: {self.color}, Speed: {self.speed} km/h\")\n",
    "\n",
    "class Car(Vehicle): \n",
    "    def __init__(self, color, speed, brand):\n",
    "        super().__init__(color, speed)\n",
    "        self.brand = brand\n",
    "\n",
    "    def print_all(self):\n",
    "        print(f\"Color: {self.color}, Speed: {self.speed} km/h, Brand: {self.brand}\")\n",
    "\n",
    "car1 = Car('Black', 100, 'Skoda')\n",
    "\n",
    "car1.print_model()  \n",
    "car1.print_all()    "
   ]
  },
  {
   "cell_type": "code",
   "execution_count": 12,
   "id": "48ee079a-6598-4371-b82a-770d20257d3f",
   "metadata": {},
   "outputs": [
    {
     "name": "stdout",
     "output_type": "stream",
     "text": [
      "Color: Black, Speed: 100 km/h\n",
      "Color: Black, Speed: 100 km/h\n",
      "Brand: Skoda\n"
     ]
    }
   ],
   "source": [
    "Discuss the use of the `super()` function in Python inheritance. When and why is it used? Provide an example.\n",
    "\n",
    "class pwskills :\n",
    "    \n",
    "    def __init__(self, mentor, age , gender):\n",
    "        self.mentor = mentor \n",
    "        self.age = age\n",
    "        self.gender = gender\n",
    "    def mentor_info(self):\n",
    "        print(self.mentor)\n",
    "        print(self.age)\n",
    "        print(self.gender)\n",
    "        \n",
    "class datascience(pwskills):\n",
    "    def __init__(self, mentor , age , gender , mentor_mail_id):\n",
    "        super().__init__(mentor , age , gender)\n",
    "        self.mentor_mail_id = mentor_mail_id\n",
    "        \n",
    "    def show_info(self) :\n",
    "        print(self.mentor , self.mentor_mail_id)\n",
    "\n",
    "# SUPER=> it says pwskills is the super class of datascience and hence initialize the __init__ constructor of that class        "
   ]
  },
  {
   "cell_type": "code",
   "execution_count": 14,
   "id": "6bec81a1-9c3f-4221-b001-e697bc23c8dd",
   "metadata": {},
   "outputs": [
    {
     "name": "stdout",
     "output_type": "stream",
     "text": [
      "Some generic sound\n",
      "Woof!\n",
      "Meoww!\n"
     ]
    }
   ],
   "source": [
    "#Create a Python class called `Animal` with a method `speak()`. Then, create child classes `Dog` and `Cat` that inherit from `Animal`\n",
    "#and override the `speak()` method. Provide an example of using these classes.\n",
    "\n",
    "\n",
    "class Animal:\n",
    "    def speak(self):\n",
    "        print(\"Some generic sound\")\n",
    "\n",
    "class Dog(Animal):\n",
    "    def speak(self):  \n",
    "        print(\"Woof!\")\n",
    "        \n",
    "class Cat(Animal):\n",
    "    def speak(self):  \n",
    "        print(\"Meoww!\")\n",
    "\n",
    "animal = Animal()\n",
    "dog = Dog()\n",
    "cat = Cat()\n",
    "\n",
    "\n",
    "animal.speak()  \n",
    "dog.speak() \n",
    "cat.speak()\n"
   ]
  },
  {
   "cell_type": "code",
   "execution_count": 2,
   "id": "d8751f49-1876-4042-a867-ef20fdb8c878",
   "metadata": {},
   "outputs": [
    {
     "name": "stdout",
     "output_type": "stream",
     "text": [
      "True\n",
      "True\n",
      "True\n"
     ]
    }
   ],
   "source": [
    "# Explain the role of the `isinstance()` function in Python and how it relates to inheritance.\n",
    "\n",
    "#The isinstance() function in Python is used to determine whether an object is an instance of a specified class or any class that derives\n",
    "#from the specified class (i.e., a subclass). It checks if an object belongs to a particular class or its subclass and returns a boolean value\n",
    "#(True or False) accordingly.\n",
    "\n",
    "class Animal:\n",
    "    def speak(self):\n",
    "        print(\"Some generic sound\")\n",
    "\n",
    "class Dog(Animal):\n",
    "    def speak(self):  \n",
    "        print(\"Woof!\")\n",
    "        \n",
    "class Cat(Animal):\n",
    "    def speak(self):  \n",
    "        print(\"Meoww!\")\n",
    "\n",
    "animal = Animal()\n",
    "dog = Dog()\n",
    "cat = Cat()\n",
    "\n",
    "print(isinstance(cat, Animal))     \n",
    "print(isinstance(dog, Dog)) \n",
    "print(isinstance(animal, Animal)) \n",
    "\n"
   ]
  },
  {
   "cell_type": "code",
   "execution_count": 6,
   "id": "5b4b4ee4-4638-4843-9875-56ce284589fb",
   "metadata": {},
   "outputs": [
    {
     "name": "stdout",
     "output_type": "stream",
     "text": [
      "False\n",
      "False\n",
      "True\n"
     ]
    }
   ],
   "source": [
    "# What is the purpose of the `issubclass()` function in Python? Provide an example.\n",
    "\n",
    "# it helps us the know that if a class is a subclass of any other class and return the value as boolen output as True or False \n",
    "\n",
    "class Animal:\n",
    "    def speak(self):\n",
    "        print(\"Some generic sound\")\n",
    "\n",
    "class Dog(Animal):\n",
    "    def speak(self):  \n",
    "        print(\"Woof!\")\n",
    "        \n",
    "class Cat(Animal):\n",
    "    def speak(self):  \n",
    "        print(\"Meoww!\")\n",
    "\n",
    "animal = Animal()\n",
    "dog = Dog()\n",
    "cat = Cat()\n",
    "\n",
    "print(issubclass(Animal, Dog))     \n",
    "print(issubclass(Cat, Dog)) \n",
    "print(issubclass(Cat, Animal)) \n"
   ]
  },
  {
   "cell_type": "code",
   "execution_count": null,
   "id": "c491c188-cb4d-44aa-82db-c5be8f9052c8",
   "metadata": {},
   "outputs": [],
   "source": [
    "# Discuss the concept of constructor inheritance in Python. How are constructors inherited in child classes?\n",
    "\n",
    "# SUPER=> is the example of constructor inheritance in python        \n",
    "\n",
    "class subject_marks():\n",
    "    \n",
    "    def __init__(self, maths, science, english, physics):\n",
    "        self.maths = maths\n",
    "        self.science = science\n",
    "        self.english = english\n",
    "        self.physics = physics\n",
    "        \n",
    "    def print_marks(self):\n",
    "        print(self.maths, self.science, self.english, self.physics)\n",
    "        \n",
    "class mark_HSC(subject_marks):\n",
    "    \n",
    "    def __init__(self, maths, science, english, physics, chemistry, bio, heat_transfer, thermo):\n",
    "        super().__init__(maths, science, english, physics)\n",
    "        self.chemistry = chemistry\n",
    "        self.bio = bio\n",
    "        self.heat_transfer = heat_transfer\n",
    "        self.thermo = thermo\n",
    "        \n",
    "    def print_all_marks(self):\n",
    "        print(self.maths, self.science, self.english, self.physics,self.chemistry, self.bio, self.heat_transfer, self.thermo)\n",
    "        \n",
    "student = mark_HSC(78,76,79,75,70,74,79,72)\n",
    "    \n",
    "student.print_all_marks()\n",
    "\n"
   ]
  },
  {
   "cell_type": "code",
   "execution_count": 12,
   "id": "971672b3-9cc6-4b38-8bd1-4a12501b828e",
   "metadata": {},
   "outputs": [
    {
     "data": {
      "text/plain": [
       "20"
      ]
     },
     "execution_count": 12,
     "metadata": {},
     "output_type": "execute_result"
    }
   ],
   "source": [
    "# Create a Python class called `Shape` with a method `area()` that calculates the area of a shape. \n",
    "#Then, create child classes `Circle` and `Rectangle` that inherit from `Shape` and implement the `area()` method accordingly. Provide an example.\n",
    "\n",
    "\n",
    "class Shape:\n",
    "    def area(self):\n",
    "        pass  \n",
    "\n",
    "class Circle(Shape):\n",
    "    def __init__(self, radius):\n",
    "        self.radius = radius\n",
    "\n",
    "    def area(self):\n",
    "        return 3.14 * (self.radius)**2\n",
    "\n",
    "class Rectangle(Shape):\n",
    "    def __init__(self, length, width):\n",
    "        self.length = length\n",
    "        self.width = width\n",
    "\n",
    "    def area(self):\n",
    "        return self.length * self.width\n",
    "\n",
    "\n",
    "shape1 = Circle(4)\n",
    "shape2 = Rectangle(4,5)\n",
    "\n",
    "shape1.area()\n",
    "shape2.area()"
   ]
  },
  {
   "cell_type": "code",
   "execution_count": 13,
   "id": "4f716aa4-940c-4996-9930-3a2fd0fa5566",
   "metadata": {},
   "outputs": [
    {
     "name": "stdout",
     "output_type": "stream",
     "text": [
      "Area of the circle: 78.5 m2\n",
      "Area of the rectangle: 24 m2\n"
     ]
    }
   ],
   "source": [
    "# Explain the use of abstract base classes (ABCs) in Python and how they relate to inheritance. Provide an example using the `abc` module.\n",
    "\n",
    "#Abstract Base Classes (ABCs) in Python, provided by the abc module, allow you to define abstract methods within a class. \n",
    "#Abstract methods are declared but contain no implementation. Subclasses are then required to implement these abstract methods, \n",
    "#ensuring that they provide concrete implementations. ABCs help in establishing a common interface or contract that subclasses must follow\n",
    "\n",
    "\n",
    "from abc import ABC, abstractmethod\n",
    "\n",
    "class Shape(ABC):  # Abstract Base Class\n",
    "    @abstractmethod\n",
    "    def calculate_area(self):\n",
    "        pass  \n",
    "\n",
    "class Circle(Shape):\n",
    "    def __init__(self, radius):\n",
    "        self.radius = radius\n",
    "\n",
    "    def calculate_area(self):\n",
    "        return 3.14 * (self.radius)**2\n",
    "\n",
    "class Rectangle(Shape):\n",
    "    def __init__(self, length, width):\n",
    "        self.length = length\n",
    "        self.width = width\n",
    "\n",
    "    def calculate_area(self):\n",
    "        return self.length * self.width\n",
    "\n",
    "circle = Circle(5)\n",
    "rectangle = Rectangle(4, 6)\n",
    "\n",
    "print(f\"Area of the circle: {circle.calculate_area()} m2\")\n",
    "print(f\"Area of the rectangle: {rectangle.calculate_area()} m2\")\n"
   ]
  },
  {
   "cell_type": "code",
   "execution_count": null,
   "id": "f92605c8-a3d5-441d-81d9-80f98bc96c31",
   "metadata": {},
   "outputs": [],
   "source": [
    "#How can you prevent a child class from modifying certain attributes or methods inherited from a parent class in Python?\n",
    "\n",
    "#Use a naming convention like prefixing attributes or methods with an underscore (_) to indicate that they are intended for internal use. \n",
    "#However, this doesn't prevent modifications;it serves as a convention to denote that these are not part of the public interface\n",
    "\n",
    "\n",
    "#Utilize property decorators to control attribute access. By defining properties for attributes and using getter methods,\n",
    "#you can control read/write access to these attributes.\n",
    "#This doesn't completely restrict modification but provides a way to control how the attributes are accessed\n",
    "\n",
    "from abc import ABC, abstractmethod\n",
    "\n",
    "class Shape(ABC):\n",
    "    def __init__(self):\n",
    "        self._area = None  \n",
    "\n",
    "    @property\n",
    "    def area(self):\n",
    "        return self._area\n",
    "\n",
    "    @abstractmethod\n",
    "    def calculate_area(self):\n",
    "        pass\n",
    "\n",
    "class Circle(Shape):\n",
    "    def __init__(self, radius):\n",
    "        super().__init__()\n",
    "        self._radius = radius\n",
    "\n",
    "    def calculate_area(self):\n",
    "        self._area = 3.14 * (self._radius) ** 2\n",
    "\n",
    "    @property\n",
    "    def radius(self):\n",
    "        return self._radius\n",
    "\n",
    "class Rectangle(Shape):\n",
    "    def __init__(self, length, width):\n",
    "        super().__init__()\n",
    "        self._length = length\n",
    "        self._width = width\n",
    "\n",
    "    def calculate_area(self):\n",
    "        self._area = self._length * self._width\n",
    "\n",
    "    @property\n",
    "    def length(self):\n",
    "        return self._length\n",
    "\n",
    "    @property\n",
    "    def width(self):\n",
    "        return self._width\n",
    "\n",
    "circle = Circle(5)\n",
    "rectangle = Rectangle(4, 6)\n",
    "\n",
    "print(f\"Initial area of the circle: {circle.area}\")  \n",
    "circle.calculate_area()  \n",
    "print(f\"Area of the circle: {circle.area}\")  \n",
    "circle._radius = 7  \n",
    "print(f\"Modified radius of the circle: {circle.radius}\")  \n",
    "\n",
    "print(f\"Initial area of the rectangle: {rectangle.area}\")  \n",
    "rectangle.calculate_area()  \n",
    "print(f\"Area of the rectangle: {rectangle.area}\")  \n",
    "rectangle._length = 8  \n",
    "print(f\"Modified length of the rectangle: {rectangle.length}\")  \n",
    "\n"
   ]
  },
  {
   "cell_type": "code",
   "execution_count": 5,
   "id": "fd72fcc4-db5f-4504-91b8-68d232992aab",
   "metadata": {},
   "outputs": [
    {
     "name": "stdout",
     "output_type": "stream",
     "text": [
      "Employee details: Name: Shiv, Salary: 70000, Department: Analytics\n"
     ]
    }
   ],
   "source": [
    "# Create a Python class called `Employee` with attributes `name` and `salary`. Then, create a child class `Manager` that\n",
    "#inherits from `Employee` and adds an attribute `department`. Provide an example.\n",
    "\n",
    "class Employee:\n",
    "    def __init__(self, name, salary):\n",
    "        self.name = name\n",
    "        self.salary = salary\n",
    "\n",
    "    def print_salary(self):\n",
    "        print(f\"Salary of {self.name} is {self.salary}\")\n",
    "\n",
    "class Manager(Employee):\n",
    "    def __init__(self, name, salary, department):\n",
    "        super().__init__(name, salary)\n",
    "        self.department = department\n",
    "\n",
    "    def print_details(self):\n",
    "        print(f\"Employee details: Name: {self.name}, Salary: {self.salary}, Department: {self.department}\")\n",
    "\n",
    "manager1 = Manager('Shiv', 70000, 'Analytics')\n",
    "\n",
    "manager1.print_details() "
   ]
  },
  {
   "cell_type": "code",
   "execution_count": null,
   "id": "e7ca8e7a-223c-430b-940b-5678bec79184",
   "metadata": {},
   "outputs": [],
   "source": [
    "#Discuss the concept of method overloading in Python inheritance. How does it differ from method overriding?\n",
    "\n",
    "#Method overloading :\n",
    "    # it is done inside the class\n",
    "    # when new method is wrriten inside the class, but when it is already available in the class. whatever is written in the new method will be \n",
    "            #executed and it will result in overloading on existing method in same class\n",
    "        \n",
    "#Method Overriding:\n",
    "    # it is done within the classes\n",
    "    # when a method is wrriten in a sub-class but it is already availble in super class it is called as method over riding  \n",
    "    \n"
   ]
  },
  {
   "cell_type": "code",
   "execution_count": null,
   "id": "39dbfc06-d345-4a4f-aea9-912712a5113a",
   "metadata": {},
   "outputs": [],
   "source": [
    "# Explain the purpose of the `__init__()` method in Python inheritance and how it is utilized in child classes.\n",
    "\n",
    "#The child class can define its own __init__() method in addition to the __init__() method of the parent class. This allows it to perform its \n",
    "#specific initialization while also calling the parent class's __init__() method using super().__init__() to initialize the inherited attributes \n",
    "#from the parent\n",
    "\n",
    "class Parent:\n",
    "    def __init__(self, parent_attr):\n",
    "        self.parent_attr = parent_attr\n",
    "\n",
    "class Child(Parent):\n",
    "    def __init__(self, parent_attr, child_attr):\n",
    "        super().__init__(parent_attr)\n",
    "        self.child_attr = child_attr\n",
    "\n",
    "child_obj = Child('parent_value', 'child_value')\n",
    "print(child_obj.parent_attr)  \n",
    "print(child_obj.child_attr)   \n",
    "\n",
    "\n"
   ]
  },
  {
   "cell_type": "code",
   "execution_count": 3,
   "id": "9586f7a2-8b34-4126-9fc3-e0f1f0f6e160",
   "metadata": {},
   "outputs": [
    {
     "name": "stdout",
     "output_type": "stream",
     "text": [
      "Bird is flying\n",
      "Eagle flies higher in the sky\n",
      "Sparrow flies lower in the sky\n"
     ]
    }
   ],
   "source": [
    "# Create a Python class called `Bird` with a method `fly()`. Then, create child classes `Eagle` and `Sparrow` that inherit from `Bird` \n",
    "#and implement the `fly()` method differently. Provide an example of using these classes.\n",
    "\n",
    "class Bird:\n",
    "    def fly(self):\n",
    "        print('Bird is flying')  \n",
    "\n",
    "class Eagle(Bird):\n",
    "\n",
    "    def fly(self):\n",
    "        print('Eagle flies higher in the sky')\n",
    "\n",
    "class Sparrow(Bird):\n",
    "\n",
    "    def fly(self):\n",
    "        print('Sparrow flies lower in the sky')\n",
    "        \n",
    "bird1 = Bird()\n",
    "\n",
    "bird2 = Eagle()\n",
    "\n",
    "bird3 = Sparrow()\n",
    "\n",
    "bird1.fly()\n",
    "\n",
    "bird2.fly()\n",
    "\n",
    "bird3.fly()"
   ]
  },
  {
   "cell_type": "code",
   "execution_count": 4,
   "id": "7655411b-bc73-4621-b22f-d9ba159a98ad",
   "metadata": {},
   "outputs": [
    {
     "name": "stdout",
     "output_type": "stream",
     "text": [
      "D method\n",
      "C method\n",
      "B method\n",
      "A method\n"
     ]
    }
   ],
   "source": [
    "#  What is the \"diamond problem\" in multiple inheritance, and how does Python address it?\n",
    "\n",
    "# \"diamond problem\" is a challenge that arises in programming languages that support multiple inheritance. \n",
    "    #It occurs when a class inherits from two classes that have a common ancestor. \n",
    "    #This common ancestor is situated at the top of the inheritance hierarchy, and due to the multiple paths created by inheritance, \n",
    "    #ambiguity arises regarding which version of a method or attribute should be used\n",
    "\n",
    "# solution = super() is used to create the order in which the classes are design and hence it helps in avoding ambiguity \n",
    "\n",
    "\n",
    "\n",
    "class A:\n",
    "    def method(self):\n",
    "        print(\"A method\")\n",
    "\n",
    "class B(A):\n",
    "    def method(self):\n",
    "        print(\"B method\")\n",
    "        super().method()\n",
    "\n",
    "class C(A):\n",
    "    def method(self):\n",
    "        print(\"C method\")\n",
    "        super().method()\n",
    "\n",
    "class D(C, B):\n",
    "    def method(self):\n",
    "        print(\"D method\")\n",
    "        super().method()\n",
    "\n",
    "# Creating an instance of D and calling method\n",
    "d = D()\n",
    "d.method()\n"
   ]
  },
  {
   "cell_type": "code",
   "execution_count": 6,
   "id": "88d6af2d-5655-438d-a005-e8c2d1406e4e",
   "metadata": {},
   "outputs": [
    {
     "name": "stdout",
     "output_type": "stream",
     "text": [
      "Student ID: S12345, Name: shiv, Age: 20\n",
      "Department: Data Science, Name: Krish, Age: 40\n",
      "shiv is studying\n",
      "Krish is teaching\n"
     ]
    }
   ],
   "source": [
    "# Create a Python class hierarchy for a university system. Start with a base class `Person` and create child\n",
    "#classes `Student` and `Professor`, each with their own attributes and methods. Provide an example of using\n",
    "#these classes in a university context.\n",
    "\n",
    "class Person:\n",
    "    def __init__(self, name, age):\n",
    "        self.name = name\n",
    "        self.age = age\n",
    "\n",
    "    def get_details(self):\n",
    "        return f\"Name: {self.name}, Age: {self.age}\"\n",
    "\n",
    "class Student(Person):\n",
    "    def __init__(self, name, age, student_id):\n",
    "        super().__init__(name, age)\n",
    "        self.student_id = student_id\n",
    "\n",
    "    def get_details(self):\n",
    "        return f\"Student ID: {self.student_id}, {super().get_details()}\"\n",
    "\n",
    "    def study(self):\n",
    "        return f\"{self.name} is studying\"\n",
    "\n",
    "class Professor(Person):\n",
    "    def __init__(self, name, age, department):\n",
    "        super().__init__(name, age)\n",
    "        self.department = department\n",
    "\n",
    "    def get_details(self):\n",
    "        return f\"Department: {self.department}, {super().get_details()}\"\n",
    "\n",
    "    def teach(self):\n",
    "        return f\"{self.name} is teaching\"\n",
    "\n",
    "student = Student(\"shiv\", 20, \"S12345\")\n",
    "professor = Professor(\"Krish\", 40, \"Data Science\")\n",
    "\n",
    "print(student.get_details())  \n",
    "print(professor.get_details()) \n",
    "\n",
    "print(student.study())  \n",
    "print(professor.teach())  \n",
    "\n",
    "\n"
   ]
  },
  {
   "cell_type": "code",
   "execution_count": null,
   "id": "f592bdcb-5bba-4d6d-8499-5a39f8ed572b",
   "metadata": {},
   "outputs": [],
   "source": [
    "# Explain the concept of encapsulation in Python. What is its role in object-oriented programming?\n",
    "\n",
    "#encapsulation is a method of encapuslating (hiding) the entire process and only show what is meant to be shown to the end user \n",
    "#for e.g when we enter id and passowrd in google we don't know where it is getting stored where it is being \n",
    "#verified and how we are getting access we only know we get access or error hence, the entire process is what we called as encapuslated \n"
   ]
  },
  {
   "cell_type": "code",
   "execution_count": null,
   "id": "94f8030e-e61f-4ee4-b7b8-19f23eba1c30",
   "metadata": {},
   "outputs": [],
   "source": [
    "# Describe the key principles of encapsulation, including access control and data hiding.\n",
    "\n",
    "# in the below class test user when tries to access/update he wont be able to know what is her accessing/updating that is known as access control\n",
    "# also he will only be able to see test_meth func as it is hidden hence it known as data hiding \n",
    "\n",
    "class test:\n",
    "    def __init__(self) :\n",
    "        self.__x = \"sudh\"\n",
    "        self.y = \"kumar\"\n",
    "        self.z = \"pwskills\"\n",
    "        \n",
    "    def __test_meth(self):\n",
    "        return \"this is just a test\"\n",
    "    \n",
    "    def access_var(self):\n",
    "        return self.__x\n",
    "    \n",
    "    def update_var(self , data):\n",
    "        self.__x = data\n",
    "        \n",
    "        \n",
    "t1 = test()\n",
    "\n",
    "t1._test__test_meth()\n",
    "\n",
    "\n"
   ]
  },
  {
   "cell_type": "code",
   "execution_count": 3,
   "id": "1426b063-eb41-4889-aff6-9091ae5e1ad0",
   "metadata": {},
   "outputs": [
    {
     "name": "stdout",
     "output_type": "stream",
     "text": [
      "2022\n",
      "2023\n"
     ]
    }
   ],
   "source": [
    "# How can you achieve encapsulation in Python classes? Provide an example.\n",
    "class Car:\n",
    "    def __init__(self, make, model, year):\n",
    "        self._make = make  \n",
    "        self._model = model  \n",
    "        self.__year = year  \n",
    "\n",
    "    # Getter method for private attribute\n",
    "    def get_year(self):\n",
    "        return self.__year\n",
    "\n",
    "    # Setter method for private attribute\n",
    "    def set_year(self, new_year):\n",
    "        # Add validation logic if needed\n",
    "        self.__year = new_year\n",
    "\n",
    "# Creating an instance of the Car class\n",
    "my_car = Car(\"Toyota\", \"Corolla\", 2022)\n",
    "\n",
    "# Accessing attributes using methods\n",
    "print(my_car.get_year()) \n",
    "\n",
    "# Modifying attribute using setter method\n",
    "my_car.set_year(2023)\n",
    "print(my_car.get_year())  \n",
    "\n"
   ]
  },
  {
   "cell_type": "code",
   "execution_count": null,
   "id": "8f3d8c2e-0754-43a6-9296-526c9db9c6cc",
   "metadata": {},
   "outputs": [],
   "source": [
    "#Discuss the difference between public, private, and  access modifiers in Python.\n",
    "\n",
    "#Public memebrs =  these can be accessed from outside of the class and can be modified freely\n",
    "\n",
    "#protected memebrs =  these are the variables that are defined with single underscore (_) they are not meant to be accessed\n",
    "    #from outside of the class from the same module \n",
    "\n",
    "\n",
    "#private members = Private members are intended to be accessed only within the class itself. \n",
    "        #Python name-mangles these names to make it difficult to access them from outside the class directly.\n",
    "        #Members prefixed with double underscores __ are considered private."
   ]
  },
  {
   "cell_type": "code",
   "execution_count": 8,
   "id": "27d014ac-6c52-4619-a120-2a0e8dfd7650",
   "metadata": {},
   "outputs": [
    {
     "name": "stdout",
     "output_type": "stream",
     "text": [
      "shiv\n",
      "shivdatta\n"
     ]
    }
   ],
   "source": [
    "# Create a Python class called `Person` with a private attribute `__name`. Provide methods to get and set the name attribute.\n",
    "\n",
    "class person:\n",
    "    \n",
    "    def __init__(self, name):\n",
    "        self.__name = name\n",
    "        \n",
    "    def get_name(self):\n",
    "        return self.__name\n",
    "    \n",
    "    def set_name(self, new_name):\n",
    "        self.__name = new_name\n",
    "        \n",
    "    \n",
    "p1 = person('shiv') \n",
    "\n",
    "print(p1.get_name())\n",
    "\n",
    "p1.set_name('shivdatta')\n",
    "\n",
    "print(p1.get_name())\n",
    "\n"
   ]
  },
  {
   "cell_type": "code",
   "execution_count": null,
   "id": "2044ba56-2024-4d83-9b3d-eed391e2a6a6",
   "metadata": {},
   "outputs": [],
   "source": [
    "# Explain the purpose of getter and setter methods in encapsulation. Provide examples.\n",
    "\n",
    "# The main purpose of getter and setter method in encapsulations are to provide the access to the variables and update them in case user wants \n",
    "\n",
    "\n",
    "#Example\n",
    "class person:\n",
    "    \n",
    "    def __init__(self, name):\n",
    "        self.__name = name\n",
    "        \n",
    "    def get_name(self):\n",
    "        return self.__name\n",
    "    \n",
    "    def set_name(self, new_name):\n",
    "        self.__name = new_name\n",
    "        \n",
    "    \n",
    "p1 = person('shiv') \n",
    "\n",
    "print(p1.get_name())\n",
    "\n",
    "p1.set_name('shivdatta')\n",
    "\n",
    "print(p1.get_name())\n"
   ]
  },
  {
   "cell_type": "code",
   "execution_count": null,
   "id": "232b2eba-de1e-4f32-b97e-2df086656f85",
   "metadata": {},
   "outputs": [],
   "source": [
    "#  What is name mangling in Python, and how does it affect encapsulation?\n",
    "\n",
    "#Name mangling in Python is a technique used to make class attributes and methods marked as private harder to access from outside the class\n",
    "    # this is done by providing underscore (single/double) berfore the variables  "
   ]
  },
  {
   "cell_type": "code",
   "execution_count": 11,
   "id": "b3c46040-39c0-4d17-8495-bb5b6718b908",
   "metadata": {},
   "outputs": [
    {
     "name": "stdout",
     "output_type": "stream",
     "text": [
      "Balance in the account 123456789 is 30000\n",
      "Balance in the account 123456789 is 50000\n",
      "Balance in the account 123456789 is 30000\n"
     ]
    }
   ],
   "source": [
    "# Create a Python class called `BankAccount` with private attributes for the account balance (`__balance`) and account number (`__account_number`).\n",
    "#Provide methods for depositing and withdrawing money.\n",
    "\n",
    "\n",
    "class BankAccount:\n",
    "    def __init__(self, balance, account_number):\n",
    "        self.__balance = balance \n",
    "        self.__account_number = account_number \n",
    "        \n",
    "    def account_details(self):\n",
    "        print(f\"Balance in the account {self.__account_number} is {self.__balance}\")\n",
    "        \n",
    "    def deposit_money(self, deposit):\n",
    "        self.__balance += deposit\n",
    "        \n",
    "    def withdraw_money(self, withdraw):\n",
    "        if self.__balance >= withdraw:\n",
    "            self.__balance -= withdraw\n",
    "        else:\n",
    "            print(\"Insufficient funds\")\n",
    "\n",
    "person1 = BankAccount(30000, 123456789)\n",
    "\n",
    "person1.account_details()\n",
    "\n",
    "person1.deposit_money(20000)\n",
    "person1.account_details()\n",
    "\n",
    "person1.withdraw_money(20000)\n",
    "person1.account_details()\n"
   ]
  },
  {
   "cell_type": "code",
   "execution_count": null,
   "id": "03152293-35f7-42dc-aaef-01d2ea01c992",
   "metadata": {},
   "outputs": [],
   "source": [
    "# Discuss the advantages of encapsulation in terms of code maintainability and security.\n",
    "\n",
    "#Encapsulation helps in data hiding by restricting direct access to sensitive data (private attributes) and implementation details (private methods).\n",
    "\n",
    "#Encapsulation reduces complexity by hiding unnecessary details from users of a class.\n",
    "\n",
    "#Encapsulation promotes reusability by allowing the class to be reused in different parts of the program or in other projects without altering \n",
    "    #its internal structure"
   ]
  },
  {
   "cell_type": "code",
   "execution_count": 19,
   "id": "e046761d-c8e6-440f-8d57-fab5ef7f2db1",
   "metadata": {},
   "outputs": [
    {
     "name": "stdout",
     "output_type": "stream",
     "text": [
      "shiv\n",
      "shiv\n"
     ]
    }
   ],
   "source": [
    "# How can you access private attributes in Python? Provide an example demonstrating the use of name mangling.\n",
    "\n",
    "\n",
    "#private attributes can be accessed in python by using double underscore and with the help by using class name\n",
    "\n",
    "class person:\n",
    "    \n",
    "    def __init__(self, name):\n",
    "        self.__name = name\n",
    "        \n",
    "    def access_private_attribute(self):\n",
    "        return self.__name\n",
    "        \n",
    "    \n",
    "p1 = person('shiv') \n",
    "\n",
    "print(p1._person__name)\n",
    "\n",
    "print(p1.access_private_attribute())\n"
   ]
  },
  {
   "cell_type": "code",
   "execution_count": 4,
   "id": "b2d7565e-105a-4efa-ab19-291e67beb593",
   "metadata": {},
   "outputs": [
    {
     "name": "stdout",
     "output_type": "stream",
     "text": [
      "Student Name: Shiv\n",
      "Teacher Name: Pradnya\n",
      "Course Name: Data science\n"
     ]
    }
   ],
   "source": [
    "# Create a Python class hierarchy for a school system, including classes for students, teachers, and courses,\n",
    "    #and implement encapsulation principles to protect sensitive information.\n",
    "    \n",
    "    \n",
    "class School:\n",
    "    def __init__(self):\n",
    "        self.__students = []\n",
    "        self.__teachers = []\n",
    "        self.__courses = []\n",
    "\n",
    "    def add_student(self, student_name, student_id):\n",
    "        self.__students.append({'name': student_name, 'id': student_id})\n",
    "\n",
    "    def add_teacher(self, teacher_name, teacher_id):\n",
    "        self.__teachers.append({'name': teacher_name, 'id': teacher_id})\n",
    "\n",
    "    def add_course(self, course_name, course_id):\n",
    "        self.__courses.append({'name': course_name, 'id': course_id})\n",
    "\n",
    "    def get_student_info(self, student_id):\n",
    "        for student in self.__students:\n",
    "            if student['id'] == student_id:\n",
    "                return student['name']\n",
    "        return None\n",
    "\n",
    "    def get_teacher_info(self, teacher_id):\n",
    "        for teacher in self.__teachers:\n",
    "            if teacher['id'] == teacher_id:\n",
    "                return teacher['name']\n",
    "        return None\n",
    "\n",
    "    def get_course_info(self, course_id):\n",
    "        for course in self.__courses:\n",
    "            if course['id'] == course_id:\n",
    "                return course['name']\n",
    "        return None\n",
    "\n",
    "\n",
    "    \n",
    "school = School()\n",
    "school.add_student(\"Shiv\", 1)\n",
    "school.add_teacher(\"Pradnya\", 101)\n",
    "school.add_course(\"Data science\", 1001)\n",
    "\n",
    "student_name = school.get_student_info(1)\n",
    "teacher_name = school.get_teacher_info(101)\n",
    "course_name = school.get_course_info(1001)\n",
    "\n",
    "print(f\"Student Name: {student_name}\")\n",
    "print(f\"Teacher Name: {teacher_name}\")\n",
    "print(f\"Course Name: {course_name}\")\n",
    "        \n",
    "        \n",
    "    "
   ]
  },
  {
   "cell_type": "code",
   "execution_count": null,
   "id": "45b4eace-6650-4e83-8388-b0ee20526104",
   "metadata": {},
   "outputs": [],
   "source": [
    "# Explain the concept of property decorators in Python and how they relate to encapsulation.\n",
    "\n",
    "#property decorators is an alternative method to encapsulate \n",
    "\n",
    "#With the help of property decorators we can use methods like setter and getter where can access the private/procted variables \n",
    "#and get/update their values\n"
   ]
  },
  {
   "cell_type": "code",
   "execution_count": null,
   "id": "1417032a-6031-412a-afde-6076821416a9",
   "metadata": {},
   "outputs": [],
   "source": [
    "# What is data hiding, and why is it important in encapsulation? Provide examples.\n",
    "\n",
    "#Data hiding is a concept in object-oriented programming that refers to the practice of restricting access to certain parts of an object,\n",
    "    #typically its attributes or implementation details, from the outside world. this is achived wth of encapsulation\n",
    "    \n",
    "\n",
    "class BankAccount:\n",
    "    def __init__(self, balance, account_number):\n",
    "        self.__balance = balance \n",
    "        self.__account_number = account_number \n",
    "        \n",
    "    def account_details(self):\n",
    "        print(f\"Balance in the account {self.__account_number} is {self.__balance}\")\n",
    "        \n",
    "    def deposit_money(self, deposit):\n",
    "        self.__balance += deposit\n",
    "        \n",
    "    def withdraw_money(self, withdraw):\n",
    "        if self.__balance >= withdraw:\n",
    "            self.__balance -= withdraw\n",
    "        else:\n",
    "            print(\"Insufficient funds\")\n",
    "\n",
    "person1 = BankAccount(30000, 123456789)\n",
    "\n",
    "person1.account_details()\n",
    "\n",
    "person1.deposit_money(20000)\n",
    "person1.account_details()\n",
    "\n",
    "person1.withdraw_money(20000)\n",
    "person1.account_details()\n"
   ]
  },
  {
   "cell_type": "code",
   "execution_count": 11,
   "id": "c5ed3e00-4b3c-4b25-af26-1bf529ff3a76",
   "metadata": {},
   "outputs": [
    {
     "name": "stdout",
     "output_type": "stream",
     "text": [
      "Bonus of the Employee 1234 is 6000.0\n"
     ]
    }
   ],
   "source": [
    "# Create a Python class called `Employee` with private attributes for salary (`__salary`) and employee ID (`__employee_id`).\n",
    "    #Provide a method to calculate yearly bonuses.\n",
    "\n",
    "    \n",
    "class Employee:\n",
    "    def __init__(self, salary, employee_id):\n",
    "        self.__salary = salary \n",
    "        self.__employee_id = employee_id \n",
    "        self.__bonus = self.__salary * 0.2\n",
    "        \n",
    "    def calculate_bonus(self):\n",
    "        print(f'Bonus of the Employee {self.__employee_id} is {self.__bonus}')\n",
    "\n",
    "person1 = Employee(30000, 1234)\n",
    "\n",
    "person1.calculate_bonus()\n",
    "\n",
    "   "
   ]
  },
  {
   "cell_type": "code",
   "execution_count": 7,
   "id": "ff427c03-5995-4bb8-a065-39b5aa153d2a",
   "metadata": {},
   "outputs": [
    {
     "name": "stdout",
     "output_type": "stream",
     "text": [
      "3.0\n",
      "6.0\n"
     ]
    }
   ],
   "source": [
    "# Discuss the use of accessors and mutators in encapsulation. How do they help maintain control over\n",
    "    #attribute access?\n",
    "\n",
    "#accessors and mutators are nothing but getter and setter \n",
    "\n",
    "#getter\n",
    "\n",
    "class abc():\n",
    "    def __init__(self):\n",
    "        self._value = 3.0\n",
    "        \n",
    "    def get_value(self):\n",
    "        print(self._value)\n",
    "    \n",
    "a = abc()\n",
    "\n",
    "a.get_value()\n",
    "\n",
    "class efg():\n",
    "    def __init__(self):\n",
    "        self._value = 3.0\n",
    "        \n",
    "    def set_value(self):\n",
    "        new_value = self._value *2\n",
    "        print(new_value)\n",
    "    \n",
    "b = efg()\n",
    "\n",
    "b.set_value()\n"
   ]
  },
  {
   "cell_type": "code",
   "execution_count": null,
   "id": "83b5c9d7-dd13-4e9a-a509-bd7679534d1c",
   "metadata": {},
   "outputs": [],
   "source": [
    "# What are the potential drawbacks or disadvantages of using encapsulation in Python?\n",
    "\n",
    "#with addtion of restriction over methods it may increase complexity in the code \n",
    "\n",
    "# with introduction of getter and setter process can become difficult to debug \n"
   ]
  },
  {
   "cell_type": "code",
   "execution_count": 8,
   "id": "92d89e0b-bf12-4ae0-8d02-f2c037353957",
   "metadata": {},
   "outputs": [
    {
     "name": "stdout",
     "output_type": "stream",
     "text": [
      "Available Books:\n",
      "Title: Book Title 1, Author: Author 1, Availability: Available\n",
      "Title: Book Title 2, Author: Author 2, Availability: Not Available\n"
     ]
    }
   ],
   "source": [
    "# Create a Python class for a library system that encapsulates book information, including titles, authors, and availability status.\n",
    "\n",
    "class Library:\n",
    "    def __init__(self):\n",
    "        self.__titles = []         \n",
    "        self.__authors = []        \n",
    "        self.__availability = []   \n",
    "\n",
    "    def add_book(self, title, author, available=True):\n",
    "        self.__titles.append(title)\n",
    "        self.__authors.append(author)\n",
    "        self.__availability.append(available)\n",
    "\n",
    "        \n",
    "    def display_books(self):\n",
    "        print(\"Available Books:\")\n",
    "        for title, author, available in zip(self.__titles, self.__authors, self.__availability):\n",
    "            availability_status = \"Available\" if available else \"Not Available\"\n",
    "            print(f\"Title: {title}, Author: {author}, Availability: {availability_status}\")\n",
    "\n",
    "my_library = Library()\n",
    "\n",
    "my_library.add_book(\"Book Title 1\", \"Author 1\")\n",
    "my_library.add_book(\"Book Title 2\", \"Author 2\", available=False)  \n",
    "\n",
    "my_library.display_books()\n"
   ]
  },
  {
   "cell_type": "code",
   "execution_count": null,
   "id": "7c8902a8-9b16-4448-b431-826ac980ecd5",
   "metadata": {},
   "outputs": [],
   "source": [
    "# Explain how encapsulation enhances code reusability and modularity in Python programs.\n",
    "\n",
    "#Encapsulation, a key principle of object-oriented programming, enhances code reusability and modularity in Python \n",
    "    # via Enhancing Readability and Understandability and Reducing Dependencies\n"
   ]
  },
  {
   "cell_type": "code",
   "execution_count": null,
   "id": "85d54929-d2c3-4e94-b659-7d2009401b0b",
   "metadata": {},
   "outputs": [],
   "source": [
    "# Describe the concept of information hiding in encapsulation. Why is it essential in software development?\n",
    "\n",
    "#Information hiding is a fundamental concept within encapsulation that refers to the practice of hiding the internal workings, details, \n",
    "    #or complexities of a class or module and exposing only the necessary functionalities or interfaces to the outside world\n",
    "    \n",
    "    "
   ]
  },
  {
   "cell_type": "code",
   "execution_count": 20,
   "id": "083c7d06-8b99-4a6a-813f-10db6d50d0f5",
   "metadata": {},
   "outputs": [
    {
     "name": "stdout",
     "output_type": "stream",
     "text": [
      "Name of the customer is shiv & address is 400079 & contact info is 9819704443\n",
      "Name of the customer is datta & address is 400078 & contact info is 8819704443\n"
     ]
    }
   ],
   "source": [
    "# Create a Python class called `Customer` with private attributes for customer details like name, address,\n",
    "#and contact information. Implement encapsulation to ensure data integrity and security\n",
    "\n",
    "\n",
    "class customer():\n",
    "    \n",
    "    def __init__(self):\n",
    "        self.__name = []\n",
    "        self.__address = []\n",
    "        self.__contact = []\n",
    "        \n",
    "    def adding_details(self, name, address, contact):\n",
    "        self.__name.append(name)\n",
    "        self.__address.append(address)\n",
    "        self.__contact.append(contact)\n",
    "        \n",
    "    def customer_details(self):\n",
    "        for i in range(len(self.__name)):\n",
    "            print(f'Name of the customer is {self.__name[i]} & address is {self.__address[i]} & contact info is {self.__contact[i]}')\n",
    "            \n",
    "customer1 = customer()\n",
    "\n",
    "customer1.adding_details('shiv', 400079, 9819704443)\n",
    "\n",
    "customer1.adding_details('datta', 400078, 8819704443)\n",
    "\n",
    "\n",
    "customer1.customer_details()\n",
    "\n"
   ]
  },
  {
   "cell_type": "code",
   "execution_count": null,
   "id": "474efa15-e71d-4031-86cd-c7e436fd1475",
   "metadata": {},
   "outputs": [],
   "source": [
    "# What is polymorphism in Python? Explain how it is related to object-oriented programming.\n",
    "\n",
    "# polymorphism alows us to use objects of different class interchangebly if they share common superclass or method. these can be done by twoways\n",
    "    #one is by object overloading and overriding \n"
   ]
  },
  {
   "cell_type": "code",
   "execution_count": null,
   "id": "c6e98419-9f4e-4c7d-af34-dc8dbab7ec38",
   "metadata": {},
   "outputs": [],
   "source": [
    "# Describe the difference between compile-time polymorphism and runtime polymorphism in Python.\n",
    "    \n",
    "# compile-time polymorphism and runtime polymorphism are nothing but method overloading and method overriding \n",
    "\n",
    "# in method overloading we can create multiple function with same name but different functionality within the same class there the only lastest fun \n",
    "    # will run \n",
    "    \n",
    "# in method overriding we can create same functions created over different classes which are inherited over over the other \n",
    "    # by this method the same func behaves differently when called by its class  \n",
    "\n",
    "\n"
   ]
  },
  {
   "cell_type": "code",
   "execution_count": 7,
   "id": "7e214fb2-77c4-4f82-96da-9cdb91b06f7b",
   "metadata": {},
   "outputs": [
    {
     "name": "stdout",
     "output_type": "stream",
     "text": [
      "area of circel is 12.56\n",
      "area of square is 4\n",
      "area of triangle is 2.0\n"
     ]
    }
   ],
   "source": [
    "# Create a Python class hierarchy for shapes (e.g., circle, square, triangle) and demonstrate polymorphism through a common method,\n",
    "#such as `calculate_area()`.\n",
    "\n",
    "class circle():\n",
    "    \n",
    "    def calculate_area(self, radius):\n",
    "        area = 3.14 * radius**2\n",
    "        print(f'area of circel is {area}')\n",
    "        \n",
    "class square():\n",
    "    \n",
    "    def calculate_area(self, length):\n",
    "        area = length**2\n",
    "        print(f'area of square is {area}')\n",
    "        \n",
    "class triangle():\n",
    "    \n",
    "    def calculate_area(self, base, height):\n",
    "        area = 0.5 * base * height\n",
    "        print(f'area of triangle is {area}')\n",
    "        \n",
    "a = circle()\n",
    "\n",
    "b = square()\n",
    "\n",
    "c = triangle()\n",
    "\n",
    "a.calculate_area(2)\n",
    "\n",
    "b.calculate_area(2)\n",
    "\n",
    "c.calculate_area(2,2)"
   ]
  },
  {
   "cell_type": "code",
   "execution_count": 12,
   "id": "d36c3e92-d65a-40b6-9a8e-0e6e4a75db62",
   "metadata": {
    "tags": []
   },
   "outputs": [
    {
     "name": "stdout",
     "output_type": "stream",
     "text": [
      "Method with two arguments\n"
     ]
    }
   ],
   "source": [
    "# Explain the concept of method overriding in polymorphism. Provide an example.\n",
    "\n",
    "class Animal:\n",
    "    def make_sound(self):\n",
    "        print(\"Some generic sound\")\n",
    "\n",
    "class Dog(Animal):\n",
    "    def make_sound(self):\n",
    "        print(\"Woof!\")  \n",
    "\n",
    "class Cat(Animal):\n",
    "    def make_sound(self):\n",
    "        print(\"Meow!\")  \n",
    "\n",
    "dog = Dog()\n",
    "cat = Cat()\n",
    "\n",
    "dog.make_sound()  \n",
    "cat.make_sound()  "
   ]
  },
  {
   "cell_type": "code",
   "execution_count": null,
   "id": "e4e21ec3-7533-4a2d-b2b7-8ca4c63f93af",
   "metadata": {},
   "outputs": [],
   "source": [
    "#How is polymorphism different from method overloading in Python? Provide examples for both.\n",
    "\n",
    "class Example:\n",
    "    def method(self, a):\n",
    "        print(\"One argument method\")\n",
    "\n",
    "    def method(self, a, b):\n",
    "        print(\"Two arguments method\")\n",
    "\n",
    "\n",
    "# in above example we can see method is same function define twice now python does not support use of same function with different arguments\n",
    "    #hence first method is overriden by method2 and this is overloading \n",
    "\n",
    "#but in polymorphism we can use same methods differently hence it is different than overloading  "
   ]
  },
  {
   "cell_type": "code",
   "execution_count": 13,
   "id": "f76ef192-cfe9-4558-98d6-43a2d74e7cbb",
   "metadata": {},
   "outputs": [
    {
     "name": "stdout",
     "output_type": "stream",
     "text": [
      "Woof!\n",
      "Meow!\n",
      "Chirp!\n"
     ]
    }
   ],
   "source": [
    "# Create a Python class called `Animal` with a method `speak()`. Then, create child classes like `Dog`, `Cat`, and `Bird`, each with their \n",
    "    #own `speak()` method. Demonstrate polymorphism by calling the `speak()` method on objects of different subclasses.\n",
    "\n",
    "    \n",
    "class Animal:\n",
    "    def speak(self):\n",
    "        return \"Some generic sound\"\n",
    "\n",
    "class Dog(Animal):\n",
    "    def speak(self):\n",
    "        return \"Woof!\"\n",
    "\n",
    "class Cat(Animal):\n",
    "    def speak(self):\n",
    "        return \"Meow!\"\n",
    "\n",
    "class Bird(Animal):\n",
    "    def speak(self):\n",
    "        return \"Chirp!\"\n",
    "\n",
    "dog = Dog()\n",
    "cat = Cat()\n",
    "bird = Bird()\n",
    "\n",
    "print(dog.speak())   \n",
    "print(cat.speak())\n",
    "print(bird.speak())  \n"
   ]
  },
  {
   "cell_type": "code",
   "execution_count": 15,
   "id": "2132c631-897a-4642-802f-10ca36d6b62e",
   "metadata": {},
   "outputs": [
    {
     "name": "stdout",
     "output_type": "stream",
     "text": [
      "This is a car\n",
      "This is a bicycle\n",
      "This is a boat\n"
     ]
    }
   ],
   "source": [
    "# Create a Python class hierarchy for a vehicle system (e.g., car, bicycle, boat) and implement a polymorphic `start()` method that prints \n",
    "#a message specific to each vehicle type.\n",
    "\n",
    "class car():\n",
    "    \n",
    "    def start(self):\n",
    "        print('This is a car')\n",
    "        \n",
    "class bicycle():\n",
    "    \n",
    "    def start(self):\n",
    "        print('This is a bicycle')\n",
    "        \n",
    "class boat():\n",
    "    \n",
    "    def start(self):\n",
    "        print('This is a boat')\n",
    "        \n",
    "a = car()\n",
    "\n",
    "b = bicycle()\n",
    "\n",
    "c = boat()\n",
    "\n",
    "a.start()\n",
    "\n",
    "b.start()\n",
    "\n",
    "c.start()"
   ]
  },
  {
   "cell_type": "code",
   "execution_count": 16,
   "id": "baed1614-7c2f-43d3-9f0d-a5b9babdd8fd",
   "metadata": {},
   "outputs": [
    {
     "name": "stdout",
     "output_type": "stream",
     "text": [
      "Area of circle is 12.56\n",
      "Area of square is 4\n",
      "Area of triangle is 2.0\n"
     ]
    }
   ],
   "source": [
    "# Create a Python class called `Shape` with a polymorphic method `area()` that calculates the area of different shapes (e.g., circle, rectangle,\n",
    "    #triangle).\n",
    "\n",
    "class Shape:\n",
    "    def calculate_area(self, shape, *args):\n",
    "        if shape == 'circle':\n",
    "            radius = args[0]\n",
    "            area = 3.14 * radius**2\n",
    "            print(f'Area of circle is {area}')\n",
    "        elif shape == 'square':\n",
    "            length = args[0]\n",
    "            area = length**2\n",
    "            print(f'Area of square is {area}')\n",
    "        elif shape == 'triangle':\n",
    "            base, height = args[0], args[1]\n",
    "            area = 0.5 * base * height\n",
    "            print(f'Area of triangle is {area}')\n",
    "        else:\n",
    "            print('Invalid shape!')\n",
    "\n",
    "a = Shape()\n",
    "b = Shape()\n",
    "c = Shape()\n",
    "\n",
    "a.calculate_area('circle', 2)        \n",
    "b.calculate_area('square', 2)      \n",
    "c.calculate_area('triangle', 2, 2)   \n"
   ]
  },
  {
   "cell_type": "code",
   "execution_count": null,
   "id": "a3f1f38c-5ecc-4b49-b56f-43293951ed19",
   "metadata": {},
   "outputs": [],
   "source": [
    "# Discuss the benefits of polymorphism in terms of code reusability and flexibility in Python programs.\n",
    "\n",
    "#Using polymorphism, changes in behavior or new functionalities can be added easily by creating new subclasses or by modifying existing ones\n",
    "    #without altering the code that uses the objects\n",
    "\n",
    "#Polymorphism allows for writing code that operates on objects of various classes through a common interface. \n",
    "    #This facilitates modularity by enabling the reuse of code across different classes that share a common superclass or interface"
   ]
  },
  {
   "cell_type": "code",
   "execution_count": 1,
   "id": "329a3982-0e13-44eb-874d-472898fbcd50",
   "metadata": {},
   "outputs": [
    {
     "name": "stdout",
     "output_type": "stream",
     "text": [
      "This is a Toyota Corolla and it runs on gasoline fuel\n"
     ]
    }
   ],
   "source": [
    "#. Explain the use of the `super()` function in Python polymorphism. How does it help call methods of parent classes?\n",
    "\n",
    "\n",
    "class Vehicle:\n",
    "    def __init__(self, brand, model):\n",
    "        self.brand = brand\n",
    "        self.model = model\n",
    "\n",
    "    def display_info(self):\n",
    "        return f\"This is a {self.brand} {self.model}\"\n",
    "\n",
    "\n",
    "class Car(Vehicle):\n",
    "    def __init__(self, brand, model, fuel_type):\n",
    "        super().__init__(brand, model)\n",
    "        self.fuel_type = fuel_type\n",
    "\n",
    "    def display_info(self):\n",
    "        vehicle_info = super().display_info()\n",
    "        return f\"{vehicle_info} and it runs on {self.fuel_type} fuel\"\n",
    "\n",
    "\n",
    "my_car = Car(\"Toyota\", \"Corolla\", \"gasoline\")\n",
    "\n",
    "print(my_car.display_info()) \n",
    "\n",
    "\n",
    "\n"
   ]
  },
  {
   "cell_type": "code",
   "execution_count": 2,
   "id": "71a7713e-4ef5-4c23-be57-d00a5a2555b7",
   "metadata": {},
   "outputs": [
    {
     "name": "stdout",
     "output_type": "stream",
     "text": [
      "Withdrawn 50 from Savings. Remaining balance: 50\n",
      "Withdrawn 100 from Checking. Remaining balance: 100\n",
      "Withdrawn 50 from Credit Card\n"
     ]
    }
   ],
   "source": [
    "#. Create a Python class hierarchy for a banking system with various account types (e.g., savings, checking, credit card)\n",
    "    #and demonstrate polymorphism by implementing a common `withdraw()` method.\n",
    "\n",
    "class Account:\n",
    "    def __init__(self, balance):\n",
    "        self.balance = balance\n",
    "\n",
    "    def withdraw(self, amount):\n",
    "        pass  \n",
    "\n",
    "\n",
    "class Savings(Account):\n",
    "    def withdraw(self, amount):\n",
    "        if self.balance >= amount:\n",
    "            self.balance -= amount\n",
    "            print(f'Withdrawn {amount} from Savings. Remaining balance: {self.balance}')\n",
    "        else:\n",
    "            print('Insufficient funds for withdrawal')\n",
    "\n",
    "\n",
    "class Checking(Account):\n",
    "    def withdraw(self, amount):\n",
    "        if self.balance >= amount:\n",
    "            self.balance -= amount\n",
    "            print(f'Withdrawn {amount} from Checking. Remaining balance: {self.balance}')\n",
    "        else:\n",
    "            print('Insufficient funds for withdrawal')\n",
    "\n",
    "\n",
    "class CreditCard(Account):\n",
    "    def withdraw(self, amount):\n",
    "        print(f'Withdrawn {amount} from Credit Card')\n",
    "\n",
    "\n",
    "savings_account = Savings(100)\n",
    "checking_account = Checking(200)\n",
    "credit_card_account = CreditCard(500)\n",
    "\n",
    "savings_account.withdraw(50)  \n",
    "checking_account.withdraw(100)  \n",
    "credit_card_account.withdraw(50)  \n"
   ]
  },
  {
   "cell_type": "code",
   "execution_count": null,
   "id": "66c285e4-b787-4f38-83db-b59605311302",
   "metadata": {},
   "outputs": [],
   "source": [
    "# What is dynamic polymorphism, and how is it achieved in Python?\n",
    "\n",
    "#dynamic polymorphism is nothing but method overriding and example of it is given below:\n",
    "\n",
    "class Animal:\n",
    "    def make_sound(self):\n",
    "        print(\"Some generic sound\")\n",
    "\n",
    "class Dog(Animal):\n",
    "    def make_sound(self):\n",
    "        print(\"Woof!\")\n",
    "\n",
    "class Cat(Animal):\n",
    "    def make_sound(self):\n",
    "        print(\"Meow!\")\n",
    "\n",
    "def animal_sound(animal):\n",
    "    animal.make_sound()\n",
    "\n",
    "dog = Dog()\n",
    "cat = Cat()\n",
    "\n",
    "animal_sound(dog)  \n",
    "animal_sound(cat)  \n"
   ]
  },
  {
   "cell_type": "code",
   "execution_count": 7,
   "id": "b9ea6150-74a5-45f4-8e70-556d4a8df9b4",
   "metadata": {},
   "outputs": [
    {
     "name": "stdout",
     "output_type": "stream",
     "text": [
      "Manager shiv has salary of Rs.100000\n",
      "developer zac has salary of Rs.50000\n",
      "designer aish has salary of Rs.70000\n"
     ]
    }
   ],
   "source": [
    "# Create a Python class hierarchy for employees in a company (e.g., manager, developer, designer) and implement polymorphism through a \n",
    "#common `calculate_salary()` method.\n",
    "\n",
    "\n",
    "class company:\n",
    "    \n",
    "    def calculate_salary(self):\n",
    "        pass\n",
    "    \n",
    "    \n",
    "class manager(company):\n",
    "    \n",
    "    def __init__(self, name, salary):\n",
    "        self.name = name\n",
    "        self.salary = salary\n",
    "            \n",
    "    def calculate_salary(self):\n",
    "        print(f'Manager {self.name} has salary of Rs.{self.salary}')\n",
    "    \n",
    "\n",
    "class developer(company):\n",
    "    \n",
    "    def __init__(self, name, salary):\n",
    "        self.name = name\n",
    "        self.salary = salary\n",
    "            \n",
    "    def calculate_salary(self):\n",
    "        print(f'developer {self.name} has salary of Rs.{self.salary}')\n",
    "        \n",
    "class designer(company):\n",
    "    \n",
    "    def __init__(self, name, salary):\n",
    "        self.name = name\n",
    "        self.salary = salary\n",
    "            \n",
    "    def calculate_salary(self):\n",
    "        print(f'designer {self.name} has salary of Rs.{self.salary}')\n",
    "        \n",
    "\n",
    "m = manager('shiv', 100000)\n",
    "\n",
    "d = developer('zac', 50000)\n",
    "\n",
    "de = designer('aish', 70000)\n",
    "\n",
    "m.calculate_salary()\n",
    "\n",
    "d.calculate_salary()\n",
    "\n",
    "de.calculate_salary()\n"
   ]
  },
  {
   "cell_type": "code",
   "execution_count": 10,
   "id": "342ae05a-a6a0-4243-a554-16345e3afa73",
   "metadata": {},
   "outputs": [
    {
     "name": "stdout",
     "output_type": "stream",
     "text": [
      "8\n",
      "15\n"
     ]
    }
   ],
   "source": [
    "# Discuss the concept of function pointers and how they can be used to achieve polymorphism in Python.\n",
    "\n",
    "#Polymorphism in Python can be achieved by accepting function references as arguments to a common function or by \n",
    "    #implementing methods in different classes that perform different operations but share the same method signature\n",
    "    \n",
    "    \n",
    "\n",
    "def add(x, y):\n",
    "    return x + y\n",
    "\n",
    "def multiply(x, y):\n",
    "    return x * y\n",
    "\n",
    "def calculator(operation, a, b):\n",
    "    return operation(a, b)\n",
    "\n",
    "print(calculator(add, 5, 3))  \n",
    "print(calculator(multiply, 5, 3))"
   ]
  },
  {
   "cell_type": "code",
   "execution_count": 11,
   "id": "c853581e-de54-4829-84f1-97f992dc91c5",
   "metadata": {},
   "outputs": [
    {
     "name": "stdout",
     "output_type": "stream",
     "text": [
      "Lion: Mammal sound\n",
      "Lion: Mammal eating\n",
      "Lion: Mammal sleeping\n",
      "\n",
      "\n",
      "Eagle: Bird sound\n",
      "Eagle: Bird eating\n",
      "Eagle: Bird sleeping\n",
      "\n",
      "\n",
      "Snake: Reptile sound\n",
      "Snake: Reptile eating\n",
      "Snake: Reptile sleeping\n",
      "\n",
      "\n"
     ]
    }
   ],
   "source": [
    "#Create a Python class for a zoo simulation, demonstrating polymorphism with different animal types (e.g., mammals, birds, reptiles) \n",
    "    #and their behavior(e.g., eating, sleeping, making sounds).\n",
    "    \n",
    "class Animal:\n",
    "    def __init__(self, name):\n",
    "        self.name = name\n",
    "\n",
    "    def make_sound(self):\n",
    "        pass\n",
    "\n",
    "    def eat(self):\n",
    "        pass\n",
    "\n",
    "    def sleep(self):\n",
    "        pass\n",
    "\n",
    "\n",
    "class Mammal(Animal):\n",
    "    def make_sound(self):\n",
    "        return \"Mammal sound\"\n",
    "\n",
    "    def eat(self):\n",
    "        return \"Mammal eating\"\n",
    "\n",
    "    def sleep(self):\n",
    "        return \"Mammal sleeping\"\n",
    "\n",
    "\n",
    "class Bird(Animal):\n",
    "    def make_sound(self):\n",
    "        return \"Bird sound\"\n",
    "\n",
    "    def eat(self):\n",
    "        return \"Bird eating\"\n",
    "\n",
    "    def sleep(self):\n",
    "        return \"Bird sleeping\"\n",
    "\n",
    "\n",
    "class Reptile(Animal):\n",
    "    def make_sound(self):\n",
    "        return \"Reptile sound\"\n",
    "\n",
    "    def eat(self):\n",
    "        return \"Reptile eating\"\n",
    "\n",
    "    def sleep(self):\n",
    "        return \"Reptile sleeping\"\n",
    "\n",
    "\n",
    "\n",
    "mammal = Mammal(\"Lion\")\n",
    "bird = Bird(\"Eagle\")\n",
    "reptile = Reptile(\"Snake\")\n",
    "\n",
    "animals = [mammal, bird, reptile]\n",
    "\n",
    "for animal in animals:\n",
    "    print(f\"{animal.name}: {animal.make_sound()}\")\n",
    "    print(f\"{animal.name}: {animal.eat()}\")\n",
    "    print(f\"{animal.name}: {animal.sleep()}\")\n",
    "    print(\"\\n\")"
   ]
  },
  {
   "cell_type": "code",
   "execution_count": null,
   "id": "7bed5aaf-b486-4cb6-a54b-baa0a600d638",
   "metadata": {},
   "outputs": [],
   "source": [
    "#1. What is abstraction in Python, and how does it relate to object-oriented programming?\n",
    "\n",
    "# abstraction in python refers to creation of skeleton of any object or any method. it defines set of rules that needed to follow while creating the \n",
    "    #class\n"
   ]
  },
  {
   "cell_type": "code",
   "execution_count": null,
   "id": "4b9a6e1a-2dba-44db-8e63-749b5378714e",
   "metadata": {},
   "outputs": [],
   "source": [
    "#. Describe the benefits of abstraction in terms of code organization and complexity reduction.\n",
    "\n",
    "# abstraction helps to define preexisitng rules that need to follow while creating classes, hence if some one has to define the class he has to\n",
    "    #follow all the rules that were define during the abstraction. with this helps to maintain the code fluency and reduce complexity "
   ]
  },
  {
   "cell_type": "code",
   "execution_count": 13,
   "id": "3273812c-9db0-4888-b811-39526e0634fd",
   "metadata": {},
   "outputs": [],
   "source": [
    "#Create a Python class called `Shape` with an abstract method `calculate_area()`. Then, create child classes (e.g., `Circle`, `Rectangle`) \n",
    "    #that implement the `calculate_area()` method. Provide an example of using these classes.\n",
    "    \n",
    "from abc import ABC, abstractmethod\n",
    "\n",
    "class Shape(ABC):  \n",
    "    @abstractmethod\n",
    "    def calculate_area(self):\n",
    "        pass\n",
    "\n",
    "class Circle(Shape):   \n",
    "    def __init__(self, radius):\n",
    "        self.radius = radius\n",
    "\n",
    "    def calculate_area(self):\n",
    "        return 3.14159 * self.radius * self.radius  \n",
    "\n",
    "class Rectangle(Shape):   \n",
    "    def __init__(self, length, width):\n",
    "        self.length = length\n",
    "        self.width = width\n",
    "\n",
    "    def calculate_area(self):\n",
    "        return self.length * self.width  \n",
    "\n",
    "    \n",
    "    "
   ]
  },
  {
   "cell_type": "code",
   "execution_count": null,
   "id": "27f75299-d153-4399-baf8-54acbd0b5fa7",
   "metadata": {},
   "outputs": [],
   "source": [
    "#Explain the concept of abstract classes in Python and how they are defined using the `abc` module. Provide an example.\n",
    "\n",
    "#abstraction is a method of creation of skeleton of any object or method. after the creation of skeleton anyone can use it to code\n",
    "    # but he has to use all the methods that are coded during the abstraction  \n",
    "    \n",
    "\n",
    "from abc import ABC , abstractmethod\n",
    "\n",
    "class pwskills(ABC):\n",
    "    \n",
    "    @abstractmethod\n",
    "    def databaseconnect(self):\n",
    "        pass\n",
    "    \n",
    "    @abstractmethod\n",
    "    def check_enrolment(self, user_id, password):\n",
    "        pass\n",
    "    \n",
    "    @abstractmethod\n",
    "    def completed_lec(self, user_id, lect_id):\n",
    "        pass\n",
    "    \n",
    "    @abstractmethod\n",
    "    def check_lab_users(self, user_id):\n",
    "        pass\n",
    "    \n",
    "    @abstractmethod\n",
    "    def check_internship(self, user_id):\n",
    "        pass\n",
    "    \n"
   ]
  },
  {
   "cell_type": "code",
   "execution_count": null,
   "id": "241f4859-8c79-47c8-857c-599537eeb4a3",
   "metadata": {},
   "outputs": [],
   "source": [
    "#How do abstract classes differ from regular classes in Python? Discuss their use cases.\n",
    "\n",
    "#regular classes we can modify the class at anytime. in abstract class the skelton needs to be modified, one has to follow the same procedure that \n",
    "    # was used during the creation of skeleton of class \n",
    "    \n",
    "# with this no one use there own style of coding everyone has to follow one unique method and with this a level of consistency is maintained in \n",
    "    #abstract classes \n"
   ]
  },
  {
   "cell_type": "code",
   "execution_count": 22,
   "id": "eed83e38-ef0c-49f3-a958-46af020ace7f",
   "metadata": {},
   "outputs": [
    {
     "name": "stdout",
     "output_type": "stream",
     "text": [
      "You deposited 500 money\n",
      "You withdrew 200 money\n",
      "Insufficient funds\n"
     ]
    }
   ],
   "source": [
    "#Create a Python class for a bank account and demonstrate abstraction by hiding the account balance and \n",
    "    #providing methods to deposit and withdraw funds.\n",
    "    \n",
    "from abc import ABC , abstractmethod\n",
    "\n",
    "class account(ABC):\n",
    "    \n",
    "    def __init__(self, balance):\n",
    "        self._balance = balance\n",
    "    \n",
    "    \n",
    "    @abstractmethod\n",
    "    def deposit(self, amount):\n",
    "        pass\n",
    "     \n",
    "    @abstractmethod\n",
    "    def withdraw(self,amount):\n",
    "        pass\n",
    "        \n",
    "        \n",
    "class SavingsAccount(account):\n",
    "    \n",
    "    def deposit(self, amount,mon):\n",
    "        self._balance += amount\n",
    "        print(f'You deposited {amount} money')\n",
    "    \n",
    "    def withdraw(self, amount):\n",
    "        if self._balance >= amount:\n",
    "            self._balance -= amount\n",
    "            print(f'You withdrew {amount} money')\n",
    "        else:\n",
    "            print('Insufficient funds')\n",
    "\n",
    "savings = SavingsAccount(1000)  \n",
    "savings.deposit(500,2)  \n",
    "savings.withdraw(200)  \n",
    "savings.withdraw(2000)  \n"
   ]
  },
  {
   "cell_type": "code",
   "execution_count": 31,
   "id": "245178b5-b2e3-4bef-976a-ee7ad669040a",
   "metadata": {},
   "outputs": [
    {
     "name": "stdout",
     "output_type": "stream",
     "text": [
      "eats meat\n",
      "sleeps in day\n",
      "eats grass\n",
      "sleeps in night\n"
     ]
    }
   ],
   "source": [
    "#Create a Python class hierarchy for animals and implement abstraction by defining common methods (e.g., `eat()`, `sleep()`) in an abstract\n",
    "    #base class.\n",
    "\n",
    "from abc import ABC, abstractmethod\n",
    "\n",
    "class Animal(ABC):\n",
    "    \n",
    "    def __init__(self, name):\n",
    "        self.name = name\n",
    "        \n",
    "    @abstractmethod\n",
    "    def eat(self):\n",
    "        pass\n",
    "    \n",
    "    @abstractmethod\n",
    "    def sleep(self):\n",
    "        pass\n",
    "    \n",
    "class Dog(Animal):\n",
    "    \n",
    "    def eat(self):\n",
    "        print('eats meat')\n",
    "        \n",
    "    def sleep(self):\n",
    "        print('sleeps in day')\n",
    "        \n",
    "class Horse(Animal):\n",
    "    \n",
    "    def eat(self):\n",
    "        print('eats grass')\n",
    "        \n",
    "    def sleep(self):\n",
    "        print('sleeps in night')\n",
    "\n",
    "dog = Dog('dog')\n",
    "dog.eat()\n",
    "dog.sleep()\n",
    "\n",
    "horse = Horse('horse')\n",
    "horse.eat()\n",
    "horse.sleep()\n"
   ]
  },
  {
   "cell_type": "code",
   "execution_count": null,
   "id": "364a4c93-e5ad-4699-b2b3-44f34f33463a",
   "metadata": {},
   "outputs": [],
   "source": [
    "#Explain the significance of encapsulation in achieving abstraction. Provide examples.\n",
    "\n",
    "class Car:\n",
    "    def __init__(self, make, model):\n",
    "        self.__make = make  \n",
    "        self.__model = model  \n",
    "    \n",
    "    def get_make(self):  \n",
    "        return self.__make\n",
    "    \n",
    "    def set_model(self, new_model):  \n",
    "        self.__model = new_model\n"
   ]
  },
  {
   "cell_type": "code",
   "execution_count": null,
   "id": "465e5a93-0ed6-4594-86e7-f849956d9293",
   "metadata": {},
   "outputs": [],
   "source": [
    "#What is the purpose of abstract methods, and how do they enforce abstraction in Python classes?\n",
    "\n",
    "#Abstract methods in Python are methods defined in an abstract base class (ABC) that have no implementation in the abstract class itself but must\n",
    "#be implemented (i.e., overridden) in concrete subclasses. They are declared using the @abstractmethod decorator from the abc module\n",
    "\n",
    "# Abstraction is doen to Define a Blueprint and enforece consistency "
   ]
  },
  {
   "cell_type": "code",
   "execution_count": 32,
   "id": "f3be6f9e-d500-4147-aa16-748939e459ce",
   "metadata": {},
   "outputs": [
    {
     "name": "stdout",
     "output_type": "stream",
     "text": [
      "Toyota Corolla engine started.\n",
      "Toyota Corolla engine stopped.\n",
      "Honda CBR600RR engine started.\n",
      "Honda CBR600RR engine stopped.\n"
     ]
    }
   ],
   "source": [
    "#Create a Python class for a vehicle system and demonstrate abstraction by defining common methods (e.g., `start()`, `stop()`) in an \n",
    "    #abstract base class.\n",
    "    \n",
    "from abc import ABC, abstractmethod\n",
    "\n",
    "class Vehicle(ABC):\n",
    "    def __init__(self, make, model):\n",
    "        self.make = make\n",
    "        self.model = model\n",
    "\n",
    "    @abstractmethod\n",
    "    def start(self):\n",
    "        pass\n",
    "\n",
    "    @abstractmethod\n",
    "    def stop(self):\n",
    "        pass\n",
    "\n",
    "class Car(Vehicle):\n",
    "    def start(self):\n",
    "        return f\"{self.make} {self.model} engine started.\"\n",
    "\n",
    "    def stop(self):\n",
    "        return f\"{self.make} {self.model} engine stopped.\"\n",
    "\n",
    "class Motorcycle(Vehicle):\n",
    "    def start(self):\n",
    "        return f\"{self.make} {self.model} engine started.\"\n",
    "\n",
    "    def stop(self):\n",
    "        return f\"{self.make} {self.model} engine stopped.\"\n",
    "\n",
    "car = Car(\"Toyota\", \"Corolla\")\n",
    "print(car.start())  \n",
    "print(car.stop())   \n",
    "\n",
    "motorcycle = Motorcycle(\"Honda\", \"CBR600RR\")\n",
    "print(motorcycle.start())  \n",
    "print(motorcycle.stop())   \n"
   ]
  },
  {
   "cell_type": "code",
   "execution_count": null,
   "id": "4afb2cbd-ecec-4a23-9869-1dfada8a0b76",
   "metadata": {},
   "outputs": [],
   "source": [
    "#Describe the use of abstract properties in Python and how they can be employed in abstract classes.\n",
    "\n",
    "#Abstract properties in Python are properties that are defined in abstract base classes (ABCs) without providing an implementation\n",
    "    #for their getter or setter methods. These properties need to be implemented (overridden) by concrete subclasses that inherit from\n",
    "    #the abstract base class. Abstract properties are created using the @property decorator along with @abstractmethod within an abstract base class."
   ]
  },
  {
   "cell_type": "code",
   "execution_count": 33,
   "id": "b2e2630c-71f4-49d6-9145-d9b5512f92df",
   "metadata": {},
   "outputs": [
    {
     "name": "stdout",
     "output_type": "stream",
     "text": [
      "Manager shiva (ID: 1001) has a salary of $80000\n",
      "Developer pradnya (ID: 2001) has a salary of $65000\n",
      "Designer zach (ID: 3001) has a salary of $70000\n"
     ]
    }
   ],
   "source": [
    "#Create a Python class hierarchy for employees in a company (e.g., manager, developer, designer) and implement abstraction\n",
    "#by defining a common `get_salary()` method.\n",
    "\n",
    "from abc import ABC, abstractmethod\n",
    "\n",
    "class Employee(ABC):\n",
    "    def __init__(self, name, emp_id, salary):\n",
    "        self.name = name\n",
    "        self.emp_id = emp_id\n",
    "        self.salary = salary\n",
    "\n",
    "    @abstractmethod\n",
    "    def get_salary(self):\n",
    "        pass\n",
    "\n",
    "class Manager(Employee):\n",
    "    def get_salary(self):\n",
    "        return f\"Manager {self.name} (ID: {self.emp_id}) has a salary of ${self.salary}\"\n",
    "\n",
    "class Developer(Employee):\n",
    "    def get_salary(self):\n",
    "        return f\"Developer {self.name} (ID: {self.emp_id}) has a salary of ${self.salary}\"\n",
    "\n",
    "class Designer(Employee):\n",
    "    def get_salary(self):\n",
    "        return f\"Designer {self.name} (ID: {self.emp_id}) has a salary of ${self.salary}\"\n",
    "\n",
    "manager = Manager(\"shiva\", 1001, 80000)\n",
    "print(manager.get_salary()) \n",
    "\n",
    "developer = Developer(\"pradnya\", 2001, 65000)\n",
    "print(developer.get_salary()) \n",
    "\n",
    "designer = Designer(\"zach\", 3001, 70000)\n",
    "print(designer.get_salary())  "
   ]
  },
  {
   "cell_type": "code",
   "execution_count": null,
   "id": "7ddc03a3-6f9b-4fa6-9818-77a272862c7d",
   "metadata": {},
   "outputs": [],
   "source": [
    "#Discuss the differences between abstract classes and concrete classes in Python, including their instantiation.\n",
    "\n",
    "#Abstract classes are classes that cannot be instantiated on their own. They exist primarily to serve as a blueprint or template for other classes.\n",
    "#They may contain both abstract methods (methods without implementation) and concrete methods (methods with implementation).\n",
    "#Abstract classes are meant to be subclassed, and they may contain one or more abstract methods that must be overridden by subclasses\n",
    "\n",
    "\n",
    "#Concrete classes are regular classes that can be instantiated directly. They may contain both attributes and methods, \n",
    "    #either abstract or with concrete implementations"
   ]
  },
  {
   "cell_type": "code",
   "execution_count": 34,
   "id": "69aab258-11b5-40aa-8319-fad38b2d65c2",
   "metadata": {},
   "outputs": [
    {
     "name": "stdout",
     "output_type": "stream",
     "text": [
      "Desktop computer powered on\n",
      "Desktop computer shut down\n",
      "Laptop computer powered on\n",
      "Laptop computer shut down\n",
      "Server powered on\n",
      "Server shut down\n"
     ]
    }
   ],
   "source": [
    "#Create a Python class for a computer system, demonstrating abstraction by defining common methods (e.g., `power_on()`, `shutdown()`) \n",
    "    #in an abstract base class.\n",
    "\n",
    "from abc import ABC, abstractmethod\n",
    "\n",
    "class ComputerSystem(ABC):\n",
    "    @abstractmethod\n",
    "    def power_on(self):\n",
    "        pass\n",
    "\n",
    "    @abstractmethod\n",
    "    def shutdown(self):\n",
    "        pass\n",
    "\n",
    "class Desktop(ComputerSystem):\n",
    "    def power_on(self):\n",
    "        return \"Desktop computer powered on\"\n",
    "\n",
    "    def shutdown(self):\n",
    "        return \"Desktop computer shut down\"\n",
    "\n",
    "class Laptop(ComputerSystem):\n",
    "    def power_on(self):\n",
    "        return \"Laptop computer powered on\"\n",
    "\n",
    "    def shutdown(self):\n",
    "        return \"Laptop computer shut down\"\n",
    "\n",
    "class Server(ComputerSystem):\n",
    "    def power_on(self):\n",
    "        return \"Server powered on\"\n",
    "\n",
    "    def shutdown(self):\n",
    "        return \"Server shut down\"\n",
    "\n",
    "desktop = Desktop()\n",
    "print(desktop.power_on())  \n",
    "print(desktop.shutdown())  \n",
    "\n",
    "laptop = Laptop()\n",
    "print(laptop.power_on()) \n",
    "print(laptop.shutdown())\n",
    "\n",
    "server = Server()\n",
    "print(server.power_on())  \n",
    "print(server.shutdown())  \n"
   ]
  },
  {
   "cell_type": "code",
   "execution_count": null,
   "id": "4d8d5f61-1d92-4ca9-86ba-d0e2e63cfe42",
   "metadata": {},
   "outputs": [],
   "source": [
    "#Discuss the benefits of using abstraction in large-scale software development projects.\n",
    "\n",
    "# it reduces Complexity, code Reusability, enforce consistency and makes life easy whil understanding the code/document  "
   ]
  },
  {
   "cell_type": "code",
   "execution_count": 35,
   "id": "5fa9c197-1d90-4b19-bc0d-4a7d91e0cd4d",
   "metadata": {},
   "outputs": [
    {
     "name": "stdout",
     "output_type": "stream",
     "text": [
      "Added 'Book 1' to the library.\n",
      "Added 'Book 2' to the library.\n",
      "Added 'Book 3' to the library.\n",
      "Borrowed 'Book 2' from the library.\n",
      "'Book 4' is not available in the library.\n"
     ]
    }
   ],
   "source": [
    "#Create a Python class for a library system, implementing abstraction by defining common methods (e.g., `add_book()`, `borrow_book()`) in an \n",
    "    #abstract base class.\n",
    "    \n",
    "    \n",
    "from abc import ABC, abstractmethod\n",
    "\n",
    "class LibrarySystem(ABC):\n",
    "    def __init__(self):\n",
    "        self.books = []  \n",
    "\n",
    "    @abstractmethod\n",
    "    def add_book(self, book):\n",
    "        pass\n",
    "\n",
    "    @abstractmethod\n",
    "    def borrow_book(self, book_title):\n",
    "        pass\n",
    "\n",
    "class Library(LibrarySystem):\n",
    "    def add_book(self, book):\n",
    "        self.books.append(book)\n",
    "        print(f\"Added '{book}' to the library.\")\n",
    "\n",
    "    def borrow_book(self, book_title):\n",
    "        if book_title in self.books:\n",
    "            self.books.remove(book_title)\n",
    "            print(f\"Borrowed '{book_title}' from the library.\")\n",
    "        else:\n",
    "            print(f\"'{book_title}' is not available in the library.\")\n",
    "\n",
    "library = Library()\n",
    "\n",
    "library.add_book(\"Book 1\")\n",
    "library.add_book(\"Book 2\")\n",
    "library.add_book(\"Book 3\")\n",
    "\n",
    "library.borrow_book(\"Book 2\")\n",
    "library.borrow_book(\"Book 4\")  \n",
    "\n"
   ]
  },
  {
   "cell_type": "code",
   "execution_count": null,
   "id": "238edb85-f6f6-4d20-bb6d-ff983a8f2d04",
   "metadata": {},
   "outputs": [],
   "source": [
    "#Describe the concept of method abstraction in Python and how it relates to polymorphism\n",
    "\n",
    "#Method abstraction in Python refers to the practice of defining methods in a way that their specific implementation details are hidden \n",
    "    #from the user of the method. This abstraction allows the user to interact with the method using a defined interface without needing \n",
    "    #to know the internal workings or implementation details"
   ]
  },
  {
   "cell_type": "code",
   "execution_count": null,
   "id": "f7bad9b2-cc45-4d4f-adf0-4a6fe859b790",
   "metadata": {},
   "outputs": [],
   "source": [
    "# Explain the concept of composition in Python and how it is used to build complex objects from simpler ones.\n",
    "\n",
    "\n",
    "class pwskills :\n",
    "    def student(self):\n",
    "        return \"student details\"\n",
    "    \n",
    "class datascience:\n",
    "    def __init__(self):\n",
    "        self.name= pwskills() #here name is object of Pwskills class \n",
    "        \n",
    "ds = datascience()\n",
    "ds.name.student() #hence we access it like this way\n",
    "# it is a way of using one class in other class without using inheritance"
   ]
  },
  {
   "cell_type": "code",
   "execution_count": null,
   "id": "bd92e779-9ecc-4ee6-be8d-1faac938ccbb",
   "metadata": {},
   "outputs": [],
   "source": [
    "#Describe the difference between composition and inheritance in object-oriented programming.\n",
    "\n",
    "#In inheritance one class is inheriated in other class, with that other class can use attributes of first class \n",
    "\n",
    "# in Composition we do not have to inheriate one class to other class, we can directly pass that class name in any attribute of other class and achive\n",
    "    #the goal \n"
   ]
  },
  {
   "cell_type": "code",
   "execution_count": 1,
   "id": "5a6fa35f-8244-4114-b4be-cd97a3769137",
   "metadata": {},
   "outputs": [
    {
     "name": "stdout",
     "output_type": "stream",
     "text": [
      "Book Title: Sample Book\n",
      "Book Year: 2022\n",
      "Author Name: John Doe\n",
      "Author Birthdate: January 1, 1980\n"
     ]
    }
   ],
   "source": [
    "# Create a Python class called `Author` with attributes for name and birthdate. Then, create a `Book` class \n",
    "#that contains an instance of `Author` as a composition. Provide an example of creating a `Book` object.\n",
    "\n",
    "class Author:\n",
    "    def __init__(self, name, birthdate):\n",
    "        self.name = name\n",
    "        self.birthdate = birthdate\n",
    "\n",
    "class Book:\n",
    "    def __init__(self, title, author, year):\n",
    "        self.title = title\n",
    "        self.author = author  \n",
    "        self.year = year\n",
    "\n",
    "author1 = Author(\"John Doe\", \"January 1, 1980\")\n",
    "\n",
    "book1 = Book(\"Sample Book\", author1, 2022)\n",
    "\n",
    "print(f\"Book Title: {book1.title}\")\n",
    "print(f\"Book Year: {book1.year}\")\n",
    "print(f\"Author Name: {book1.author.name}\")\n",
    "print(f\"Author Birthdate: {book1.author.birthdate}\")\n"
   ]
  },
  {
   "cell_type": "code",
   "execution_count": null,
   "id": "761046a3-0778-4316-9261-9d8daafaccd3",
   "metadata": {},
   "outputs": [],
   "source": [
    "\n",
    "#Discuss the benefits of using composition over inheritance in Python, especially in terms of code flexibility and reusability.\n",
    "\n",
    "#Using composition over inheritance is a programming principle that emphasizes creating complex objects by combining simpler, \n",
    "#more manageable components rather than relying solely on inheritance. It offers several benefits in terms of code flexibility, \n",
    "#reusability, and maintainability"
   ]
  },
  {
   "cell_type": "code",
   "execution_count": 2,
   "id": "b37211b3-41ab-4406-86c4-78525ecff2b6",
   "metadata": {},
   "outputs": [
    {
     "name": "stdout",
     "output_type": "stream",
     "text": [
      "Playing audio\n",
      "Playing video\n"
     ]
    }
   ],
   "source": [
    "#How can you implement composition in Python classes? Provide examples of using composition to create complex objects\n",
    "\n",
    "\n",
    "class AudioPlayer:\n",
    "    def play(self):\n",
    "        return \"Playing audio\"\n",
    "\n",
    "class VideoPlayer:\n",
    "    def play(self):\n",
    "        return \"Playing video\"\n",
    "\n",
    "class MediaPlayer:\n",
    "    def __init__(self):\n",
    "        self.audio_player = AudioPlayer()  \n",
    "        self.video_player = VideoPlayer()  \n",
    "\n",
    "    def play_audio(self):\n",
    "        return self.audio_player.play()\n",
    "\n",
    "    def play_video(self):\n",
    "        return self.video_player.play()\n",
    "\n",
    "media_player = MediaPlayer()\n",
    "\n",
    "print(media_player.play_audio())  \n",
    "print(media_player.play_video())  \n"
   ]
  },
  {
   "cell_type": "code",
   "execution_count": 3,
   "id": "da0a872c-b586-44d6-94d5-122f9b9eaba9",
   "metadata": {},
   "outputs": [
    {
     "name": "stdout",
     "output_type": "stream",
     "text": [
      "Removed 'Song 2' from 'My Playlist' playlist.\n"
     ]
    }
   ],
   "source": [
    "#Create a Python class hierarchy for a music player system, using composition to represent playlists and songs.\n",
    "\n",
    "class Song:\n",
    "    def __init__(self, title, artist):\n",
    "        self.title = title\n",
    "        self.artist = artist\n",
    "\n",
    "class Playlist:\n",
    "    def __init__(self, name):\n",
    "        self.name = name\n",
    "        self.songs = []  \n",
    "\n",
    "    def add_song(self, song):\n",
    "        self.songs.append(song)\n",
    "\n",
    "    def remove_song(self, song):\n",
    "        if song in self.songs:\n",
    "            self.songs.remove(song)\n",
    "            print(f\"Removed '{song.title}' from '{self.name}' playlist.\")\n",
    "        else:\n",
    "            print(f\"'{song.title}' is not in '{self.name}' playlist.\")\n",
    "\n",
    "song1 = Song(\"Song 1\", \"Artist A\")\n",
    "song2 = Song(\"Song 2\", \"Artist B\")\n",
    "song3 = Song(\"Song 3\", \"Artist C\")\n",
    "\n",
    "my_playlist = Playlist(\"My Playlist\")\n",
    "my_playlist.add_song(song1)\n",
    "my_playlist.add_song(song2)\n",
    "my_playlist.add_song(song3)\n",
    "\n",
    "my_playlist.remove_song(song2)\n"
   ]
  },
  {
   "cell_type": "code",
   "execution_count": null,
   "id": "92c5c932-8fd0-4c8f-a4f1-ddd3f09f97bf",
   "metadata": {},
   "outputs": [],
   "source": [
    "#Explain the concept of \"has-a\" relationships in composition and how it helps design software systems.\n",
    "\n",
    "#\"has-a\" relationship refers to a type of relationship between classes where one class contains an instance of another class as a member or attribute.\n",
    "#This relationship is established through composition, where one class is composed of one or more instances of another class. \n",
    "#It is often referred to as a \"whole-part\" relationship"
   ]
  },
  {
   "cell_type": "code",
   "execution_count": 5,
   "id": "c7aaa7d3-76f6-4266-8263-83f718e1e9f6",
   "metadata": {},
   "outputs": [
    {
     "data": {
      "text/plain": [
       "'Processing data, Reading data, Storing data'"
      ]
     },
     "execution_count": 5,
     "metadata": {},
     "output_type": "execute_result"
    }
   ],
   "source": [
    "# Create a Python class for a computer system, using composition to represent components like CPU, RAM, and storage devices.\n",
    "\n",
    "class CPU:\n",
    "    def __init__(self, model):\n",
    "        self.model = model\n",
    "\n",
    "    def process(self):\n",
    "        return \"Processing data\"\n",
    "\n",
    "class RAM:\n",
    "    def __init__(self, size_gb):\n",
    "        self.size_gb = size_gb\n",
    "\n",
    "    def read_data(self):\n",
    "        return \"Reading data\"\n",
    "\n",
    "class Storage:\n",
    "    def __init__(self, capacity_gb):\n",
    "        self.capacity_gb = capacity_gb\n",
    "\n",
    "    def store_data(self):\n",
    "        return \"Storing data\"\n",
    "\n",
    "class ComputerSystem:\n",
    "    def __init__(self):\n",
    "        self.cpu = CPU(\"Intel i7\")  \n",
    "        self.ram = RAM(16)  \n",
    "        self.storage = Storage(512)  \n",
    "\n",
    "    def run_program(self):\n",
    "        return f\"{self.cpu.process()}, {self.ram.read_data()}, {self.storage.store_data()}\"\n",
    "\n",
    "my_computer = ComputerSystem()\n",
    "\n",
    "my_computer.run_program()\n"
   ]
  },
  {
   "cell_type": "code",
   "execution_count": 6,
   "id": "26405f5f-41dc-4492-b115-1d3b4c349c6e",
   "metadata": {},
   "outputs": [
    {
     "name": "stdout",
     "output_type": "stream",
     "text": [
      "Printing: Sample Document\n"
     ]
    }
   ],
   "source": [
    "#Describe the concept of \"delegation\" in composition and how it simplifies the design of complex systems.\n",
    "\n",
    "#Delegation in composition refers to the process of assigning responsibility or passing behavior from one class to another by incorporating\n",
    "    #an instance of another class and using it to perform certain tasks. This technique allows a class to delegate some of its functionalities\n",
    "    #to another class rather than implementing those functionalities itself\n",
    "    \n",
    "    \n",
    "class PrintingService:\n",
    "    def print_document(self, document):\n",
    "        return f\"Printing: {document}\"\n",
    "\n",
    "class Printer:\n",
    "    def __init__(self):\n",
    "        self.printing_service = PrintingService()  \n",
    "    def print_document(self, document):\n",
    "        return self.printing_service.print_document(document) \n",
    "my_printer = Printer()\n",
    "result = my_printer.print_document(\"Sample Document\")\n",
    "print(result) \n"
   ]
  },
  {
   "cell_type": "code",
   "execution_count": 7,
   "id": "012742c8-a3e7-4b03-ac51-e9a98acaee40",
   "metadata": {},
   "outputs": [
    {
     "name": "stdout",
     "output_type": "stream",
     "text": [
      "Engine started\n",
      "Engine started, Gear changed, Wheels rotating\n",
      "Engine stopped\n"
     ]
    }
   ],
   "source": [
    "#Create a Python class for a car, using composition to represent components like the engine, wheels, and transmission.\n",
    "\n",
    "class Engine:\n",
    "    def start(self):\n",
    "        return \"Engine started\"\n",
    "\n",
    "    def stop(self):\n",
    "        return \"Engine stopped\"\n",
    "\n",
    "class Wheels:\n",
    "    def rotate(self):\n",
    "        return \"Wheels rotating\"\n",
    "\n",
    "class Transmission:\n",
    "    def change_gear(self):\n",
    "        return \"Gear changed\"\n",
    "\n",
    "class Car:\n",
    "    def __init__(self):\n",
    "        self.engine = Engine()  \n",
    "        self.wheels = Wheels()  \n",
    "        self.transmission = Transmission()  \n",
    "\n",
    "    def start_car(self):\n",
    "        return self.engine.start()\n",
    "\n",
    "    def stop_car(self):\n",
    "        return self.engine.stop()\n",
    "\n",
    "    def drive(self):\n",
    "        return f\"{self.engine.start()}, {self.transmission.change_gear()}, {self.wheels.rotate()}\"\n",
    "\n",
    "my_car = Car()\n",
    "\n",
    "print(my_car.start_car())  \n",
    "print(my_car.drive())  \n",
    "\n",
    "print(my_car.stop_car())  \n"
   ]
  },
  {
   "cell_type": "code",
   "execution_count": null,
   "id": "9c150c54-3ce1-4309-9b2f-83d67ef71401",
   "metadata": {},
   "outputs": [],
   "source": [
    "#How can you encapsulate and hide the details of composed objects in Python classes to maintain abstraction?\n",
    "\n",
    "#Private Attributes, Getter and Setter Methods and Abstraction"
   ]
  },
  {
   "cell_type": "code",
   "execution_count": 8,
   "id": "785e0d1d-ff11-45e3-aa55-860394b8e8e8",
   "metadata": {},
   "outputs": [
    {
     "name": "stdout",
     "output_type": "stream",
     "text": [
      "Course: Python Programming Course\n",
      "Students enrolled:\n",
      "- shiv\n",
      "- datta\n",
      "Instructor: vikas\n",
      "Course Material: Python Programming\n"
     ]
    }
   ],
   "source": [
    "#Create a Python class for a university course, using composition to represent students, instructors, and course materials.\n",
    "\n",
    "\n",
    "class Student:\n",
    "    def __init__(self, name):\n",
    "        self.name = name\n",
    "\n",
    "class Instructor:\n",
    "    def __init__(self, name):\n",
    "        self.name = name\n",
    "\n",
    "class CourseMaterial:\n",
    "    def __init__(self, material_name):\n",
    "        self.material_name = material_name\n",
    "\n",
    "class UniversityCourse:\n",
    "    def __init__(self, course_name):\n",
    "        self.course_name = course_name\n",
    "        self.students = [] \n",
    "        self.instructor = None \n",
    "        self.course_material = None  \n",
    "\n",
    "    def add_student(self, student):\n",
    "        self.students.append(student)\n",
    "\n",
    "    def set_instructor(self, instructor):\n",
    "        self.instructor = instructor\n",
    "\n",
    "    def set_course_material(self, course_material):\n",
    "        self.course_material = course_material\n",
    "\n",
    "student1 = Student(\"shiv\")\n",
    "student2 = Student(\"datta\")\n",
    "\n",
    "instructor = Instructor(\"vikas\")\n",
    "\n",
    "material = CourseMaterial(\"Python Programming\")\n",
    "\n",
    "python_course = UniversityCourse(\"Python Programming Course\")\n",
    "python_course.add_student(student1)\n",
    "python_course.add_student(student2)\n",
    "python_course.set_instructor(instructor)\n",
    "python_course.set_course_material(material)\n",
    "\n",
    "print(f\"Course: {python_course.course_name}\")\n",
    "print(\"Students enrolled:\")\n",
    "for student in python_course.students:\n",
    "    print(f\"- {student.name}\")\n",
    "\n",
    "print(f\"Instructor: {python_course.instructor.name}\")\n",
    "print(f\"Course Material: {python_course.course_material.material_name}\")\n"
   ]
  },
  {
   "cell_type": "code",
   "execution_count": null,
   "id": "d5c5ee75-ad67-4e06-8a1b-07837b767c6f",
   "metadata": {},
   "outputs": [],
   "source": []
  },
  {
   "cell_type": "code",
   "execution_count": 9,
   "id": "731973a6-25f8-4395-9e92-681dafda422f",
   "metadata": {},
   "outputs": [
    {
     "name": "stdout",
     "output_type": "stream",
     "text": [
      "Hero's Details:\n",
      "Equipped Weapon: Sword (Damage: 20)\n",
      "Equipped Armor: Shield (Defense: 15)\n",
      "Inventory:\n",
      "- Health Potion\n"
     ]
    }
   ],
   "source": [
    "#Create a Python class for a computer game character, using composition to represent attributes like weapons, armor, and inventory.\n",
    "\n",
    "class Weapon:\n",
    "    def __init__(self, name, damage):\n",
    "        self.name = name\n",
    "        self.damage = damage\n",
    "\n",
    "class Armor:\n",
    "    def __init__(self, name, defense):\n",
    "        self.name = name\n",
    "        self.defense = defense\n",
    "\n",
    "class Inventory:\n",
    "    def __init__(self):\n",
    "        self.items = []\n",
    "\n",
    "    def add_item(self, item):\n",
    "        self.items.append(item)\n",
    "\n",
    "class GameCharacter:\n",
    "    def __init__(self, name):\n",
    "        self.name = name\n",
    "        self.weapon = None\n",
    "        self.armor = None\n",
    "        self.inventory = Inventory()\n",
    "\n",
    "    def equip_weapon(self, weapon):\n",
    "        self.weapon = weapon\n",
    "\n",
    "    def equip_armor(self, armor):\n",
    "        self.armor = armor\n",
    "\n",
    "    def add_item_to_inventory(self, item):\n",
    "        self.inventory.add_item(item)\n",
    "\n",
    "sword = Weapon(\"Sword\", 20)\n",
    "shield = Armor(\"Shield\", 15)\n",
    "potion = \"Health Potion\"  \n",
    "\n",
    "hero = GameCharacter(\"Hero\")\n",
    "\n",
    "hero.equip_weapon(sword)\n",
    "hero.equip_armor(shield)\n",
    "\n",
    "hero.add_item_to_inventory(potion)\n",
    "\n",
    "print(f\"{hero.name}'s Details:\")\n",
    "print(f\"Equipped Weapon: {hero.weapon.name} (Damage: {hero.weapon.damage})\")\n",
    "print(f\"Equipped Armor: {hero.armor.name} (Defense: {hero.armor.defense})\")\n",
    "print(\"Inventory:\")\n",
    "for item in hero.inventory.items:\n",
    "    print(f\"- {item}\")\n"
   ]
  },
  {
   "cell_type": "code",
   "execution_count": null,
   "id": "2a734b54-80d7-4899-9684-9caf7e337679",
   "metadata": {},
   "outputs": [],
   "source": []
  },
  {
   "cell_type": "code",
   "execution_count": null,
   "id": "f00ce806-7df8-45d5-bec9-90719d6a91eb",
   "metadata": {},
   "outputs": [],
   "source": [
    "#Describe the concept of \"aggregation\" in composition and how it differs from simple composition.\n",
    "\n",
    "#Aggregation is a specific form of association where the composed objects have an independent lifespan and may exist even without the container object\n",
    "#The relationship between the container object and the composed objects in aggregation is weaker compared to simple composition. \n",
    "    #The composed objects can exist independently and might be shared among multiple container objects\n",
    "    \n",
    "    \n",
    "#Differences\n",
    "\n",
    "#In simple composition, the composed objects are owned and managed by the container object. They exist as part of the container and are destroyed when the container is destroyed.\n",
    "#In aggregation, the composed objects have an independent existence. They can exist outside the container object and have their own lifespan\n"
   ]
  },
  {
   "cell_type": "code",
   "execution_count": 10,
   "id": "557752b7-059e-485d-8104-d71e36dc2574",
   "metadata": {},
   "outputs": [
    {
     "name": "stdout",
     "output_type": "stream",
     "text": [
      "House Details:\n",
      "Living Room:\n",
      "Furniture:\n",
      "- Sofa\n",
      "- Table\n",
      "Appliances:\n",
      "- TV\n",
      "Kitchen:\n",
      "Furniture:\n",
      "Appliances:\n",
      "- Fridge\n"
     ]
    }
   ],
   "source": [
    "#Create a Python class for a house, using composition to represent rooms, furniture, and appliances.\n",
    "\n",
    "class Furniture:\n",
    "    def __init__(self, name):\n",
    "        self.name = name\n",
    "\n",
    "class Appliance:\n",
    "    def __init__(self, name):\n",
    "        self.name = name\n",
    "\n",
    "class Room:\n",
    "    def __init__(self, name):\n",
    "        self.name = name\n",
    "        self.furniture = []\n",
    "        self.appliances = []\n",
    "\n",
    "class House:\n",
    "    def __init__(self):\n",
    "        self.rooms = []\n",
    "\n",
    "sofa = Furniture(\"Sofa\")\n",
    "table = Furniture(\"Table\")\n",
    "tv = Appliance(\"TV\")\n",
    "fridge = Appliance(\"Fridge\")\n",
    "\n",
    "living_room = Room(\"Living Room\")\n",
    "living_room.furniture.extend([sofa, table])\n",
    "living_room.appliances.append(tv)\n",
    "\n",
    "kitchen = Room(\"Kitchen\")\n",
    "kitchen.appliances.append(fridge)\n",
    "\n",
    "my_house = House()\n",
    "my_house.rooms.extend([living_room, kitchen])\n",
    "\n",
    "print(\"House Details:\")\n",
    "for room in my_house.rooms:\n",
    "    print(f\"{room.name}:\")\n",
    "    print(\"Furniture:\")\n",
    "    for item in room.furniture:\n",
    "        print(f\"- {item.name}\")\n",
    "    print(\"Appliances:\")\n",
    "    for item in room.appliances:\n",
    "        print(f\"- {item.name}\")\n"
   ]
  },
  {
   "cell_type": "code",
   "execution_count": null,
   "id": "4207a7aa-3f4f-4301-9545-aa7a28cec479",
   "metadata": {},
   "outputs": [],
   "source": [
    "#How can you achieve flexibility in composed objects by allowing them to be replaced or modified dynamically at runtime?\n",
    "\n",
    "#To achieve flexibility in composed objects and allow them to be replaced or modified dynamically at runtime, \n",
    "#we can implement certain design patterns or techniques that promote flexibility and interchangeability of components"
   ]
  },
  {
   "cell_type": "code",
   "execution_count": 12,
   "id": "15d8dfdb-f02d-4000-850e-60ed548ed988",
   "metadata": {},
   "outputs": [
    {
     "name": "stdout",
     "output_type": "stream",
     "text": [
      "shiv's Posts:\n",
      " - Hello, this is my first post!\n",
      "   Comments:\n",
      "   - 'Great to see you here!' by ram\n",
      "ram's Posts:\n",
      " - Nice weather today!\n",
      "   Comments:\n",
      "   - 'Yes, it's beautiful!' by shiv\n"
     ]
    }
   ],
   "source": [
    "#Create a Python class for a social media application, using composition to represent users, posts, and comments\n",
    "\n",
    "class Comment:\n",
    "    def __init__(self, text, user):\n",
    "        self.text = text\n",
    "        self.user = user\n",
    "\n",
    "class Post:\n",
    "    def __init__(self, content, user):\n",
    "        self.content = content\n",
    "        self.user = user\n",
    "        self.comments = []\n",
    "\n",
    "    def add_comment(self, comment_text, user):\n",
    "        new_comment = Comment(comment_text, user)\n",
    "        self.comments.append(new_comment)\n",
    "\n",
    "class User:\n",
    "    def __init__(self, name):\n",
    "        self.name = name\n",
    "        self.posts = []\n",
    "\n",
    "    def create_post(self, content):\n",
    "        new_post = Post(content, self)\n",
    "        self.posts.append(new_post)\n",
    "        return new_post\n",
    "\n",
    "user1 = User(\"shiv\")\n",
    "user2 = User(\"ram\")\n",
    "\n",
    "post1 = user1.create_post(\"Hello, this is my first post!\")\n",
    "post2 = user2.create_post(\"Nice weather today!\")\n",
    "\n",
    "post1.add_comment(\"Great to see you here!\", user2)\n",
    "post2.add_comment(\"Yes, it's beautiful!\", user1)\n",
    "\n",
    "for user in [user1, user2]:\n",
    "    print(f\"{user.name}'s Posts:\")\n",
    "    for post in user.posts:\n",
    "        print(f\" - {post.content}\")\n",
    "        print(\"   Comments:\")\n",
    "        for comment in post.comments:\n",
    "            print(f\"   - '{comment.text}' by {comment.user.name}\")\n"
   ]
  },
  {
   "cell_type": "code",
   "execution_count": null,
   "id": "9c3e924d-38dc-412f-b694-84502dc52fa1",
   "metadata": {},
   "outputs": [],
   "source": []
  },
  {
   "cell_type": "code",
   "execution_count": null,
   "id": "6411b2fc-48c2-4aed-8057-bc28464dee7d",
   "metadata": {},
   "outputs": [],
   "source": []
  },
  {
   "cell_type": "code",
   "execution_count": null,
   "id": "aa8200ba-d414-4de5-8583-c9143da3c42f",
   "metadata": {},
   "outputs": [],
   "source": []
  },
  {
   "cell_type": "code",
   "execution_count": null,
   "id": "3785cee4-1741-4933-accd-229c1a7d50a7",
   "metadata": {},
   "outputs": [],
   "source": []
  },
  {
   "cell_type": "code",
   "execution_count": null,
   "id": "6d829849-589d-471c-8863-b13ddf303002",
   "metadata": {},
   "outputs": [],
   "source": []
  },
  {
   "cell_type": "code",
   "execution_count": null,
   "id": "f0cfdc9c-5396-4e90-a441-5489619236e1",
   "metadata": {},
   "outputs": [],
   "source": []
  },
  {
   "cell_type": "code",
   "execution_count": null,
   "id": "ffde59a8-a12b-4cd9-83bc-b48737c687f2",
   "metadata": {},
   "outputs": [],
   "source": []
  },
  {
   "cell_type": "code",
   "execution_count": null,
   "id": "c28fc568-a34b-4add-92c5-87982f1a3982",
   "metadata": {},
   "outputs": [],
   "source": []
  },
  {
   "cell_type": "code",
   "execution_count": null,
   "id": "70727b9a-af7c-4527-9d1a-a27aa0f09417",
   "metadata": {},
   "outputs": [],
   "source": []
  },
  {
   "cell_type": "code",
   "execution_count": null,
   "id": "5e421803-95de-44a1-82bc-a59dc502bc5e",
   "metadata": {},
   "outputs": [],
   "source": []
  },
  {
   "cell_type": "code",
   "execution_count": null,
   "id": "97f934e5-0679-4fe3-b6bf-3641232835dd",
   "metadata": {},
   "outputs": [],
   "source": []
  },
  {
   "cell_type": "code",
   "execution_count": null,
   "id": "50df61af-a207-4311-8538-441f8940e713",
   "metadata": {},
   "outputs": [],
   "source": []
  },
  {
   "cell_type": "code",
   "execution_count": null,
   "id": "ed659a20-d80c-4133-b7da-963b0022fe8b",
   "metadata": {},
   "outputs": [],
   "source": []
  },
  {
   "cell_type": "code",
   "execution_count": null,
   "id": "a220323d-185f-47c5-9ba9-d095a3cb5f31",
   "metadata": {},
   "outputs": [],
   "source": []
  }
 ],
 "metadata": {
  "kernelspec": {
   "display_name": "Python 3 (ipykernel)",
   "language": "python",
   "name": "python3"
  },
  "language_info": {
   "codemirror_mode": {
    "name": "ipython",
    "version": 3
   },
   "file_extension": ".py",
   "mimetype": "text/x-python",
   "name": "python",
   "nbconvert_exporter": "python",
   "pygments_lexer": "ipython3",
   "version": "3.10.8"
  }
 },
 "nbformat": 4,
 "nbformat_minor": 5
}
