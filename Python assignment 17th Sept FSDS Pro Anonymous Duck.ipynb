{
 "cells": [
  {
   "cell_type": "code",
   "execution_count": 1,
   "id": "e18122d9-ab8f-4309-8aaa-c7a046e07248",
   "metadata": {},
   "outputs": [
    {
     "name": "stdout",
     "output_type": "stream",
     "text": [
      "1\n",
      "2\n",
      "3\n",
      "4\n",
      "5\n",
      "6\n",
      "7\n",
      "8\n",
      "9\n",
      "10\n"
     ]
    }
   ],
   "source": [
    "#Write a Python program to print numbers from 1 to 10 using a for loop.\n",
    "\n",
    "start = 1\n",
    "end = 10\n",
    "\n",
    "for i  in range(start, end+1):\n",
    "    print(i)\n",
    "    "
   ]
  },
  {
   "cell_type": "code",
   "execution_count": null,
   "id": "70a7e850-c6dc-46c7-ba27-fc935a5e9f58",
   "metadata": {},
   "outputs": [],
   "source": [
    "#Explain the difference between a for loop and a while loop in Python.\n",
    "\n",
    "# for loop \n",
    "    # used when we know the number of instance we want in the output\n",
    "    # no need to put any break condition  \n",
    "    # no condition is required for looping\n",
    "\n",
    "# while loop \n",
    "    # used when we do not know the number of instance we want in the output\n",
    "    # we have to put a break condition in the while loop as not putting it might cause in loop reaching infinity\n",
    "    # this loops starts with a specified condition\n"
   ]
  },
  {
   "cell_type": "code",
   "execution_count": 3,
   "id": "a18267d2-b82b-451a-a814-52b09d34a77f",
   "metadata": {},
   "outputs": [
    {
     "name": "stdout",
     "output_type": "stream",
     "text": [
      "5050\n"
     ]
    }
   ],
   "source": [
    "#Write a Python program to calculate the sum of all numbers from 1 to 100 using a for loop.\n",
    "\n",
    "start = 1\n",
    "end = 100\n",
    "\n",
    "add = 0\n",
    "\n",
    "for i  in range(start, end+1):\n",
    "    add += i\n",
    "    \n",
    "print(add)\n",
    "    "
   ]
  },
  {
   "cell_type": "code",
   "execution_count": null,
   "id": "056fc221-193b-4df4-a567-e01543b82b7c",
   "metadata": {},
   "outputs": [],
   "source": [
    "#How do you iterate through a list using a for loop in Python?\n",
    "\n",
    "start = 1\n",
    "end = 100\n",
    "\n",
    "add = 0\n",
    "\n",
    "for i  in range(start, end+1):\n",
    "    add += i\n",
    "    \n",
    "print(add)\n",
    "\n",
    "# here in this code loop start with iterating over each element. it will start with 1 and insert it to add\n",
    "# then it will move to next element i.e 2. now it will take 2 and add it in add variale where it already has 1\n",
    "# hence it will continue to iterate till 100 and add all the elemnets by one by one resulting in a final total\n",
    "\n"
   ]
  },
  {
   "cell_type": "code",
   "execution_count": 4,
   "id": "38bd9283-7bb5-4fd4-9d11-4f9ea6fefc9b",
   "metadata": {},
   "outputs": [
    {
     "name": "stdout",
     "output_type": "stream",
     "text": [
      "720\n"
     ]
    }
   ],
   "source": [
    "#Write a Python program to find the product of all elements in a list using a for loop.\n",
    "\n",
    "lst = [1,2,3,4,5,6]\n",
    "\n",
    "product = 1\n",
    "\n",
    "for i in lst :\n",
    "    product *= i\n",
    "    \n",
    "print(product)\n"
   ]
  },
  {
   "cell_type": "code",
   "execution_count": 1,
   "id": "023062b2-d9c2-4d21-93f2-db0c9802085d",
   "metadata": {},
   "outputs": [
    {
     "name": "stdout",
     "output_type": "stream",
     "text": [
      "2\n",
      "4\n",
      "6\n",
      "8\n",
      "10\n",
      "12\n",
      "14\n",
      "16\n",
      "18\n",
      "20\n"
     ]
    }
   ],
   "source": [
    "#Create a Python program that prints all even numbers from 1 to 20 using a for loop.\n",
    "for num in range(1, 21):\n",
    "    if num % 2 == 0:\n",
    "        print(num)\n"
   ]
  },
  {
   "cell_type": "code",
   "execution_count": 4,
   "id": "4c8d9e4f-a05c-42b3-8992-fa1b0079d5f8",
   "metadata": {},
   "outputs": [
    {
     "name": "stdin",
     "output_type": "stream",
     "text": [
      "Enter a number to calculate its factorial:  1\n"
     ]
    },
    {
     "name": "stdout",
     "output_type": "stream",
     "text": [
      "1\n"
     ]
    }
   ],
   "source": [
    "#Write a Python program that calculates the factorial of a number using a for loop.\n",
    "\n",
    "# Input the number to calculate its factorial\n",
    "number = int(input(\"Enter a number to calculate its factorial: \"))\n",
    "\n",
    "factorial = 1\n",
    "\n",
    "# Calculate factorial using a for loop\n",
    "for i in range(1, number + 1):\n",
    "    factorial *= i\n",
    "\n",
    "print(factorial)\n"
   ]
  },
  {
   "cell_type": "code",
   "execution_count": 8,
   "id": "e0235549-378e-4876-a973-928524b65d7c",
   "metadata": {},
   "outputs": [
    {
     "data": {
      "text/plain": [
       "[1, 2]"
      ]
     },
     "execution_count": 8,
     "metadata": {},
     "output_type": "execute_result"
    }
   ],
   "source": [
    "#How can you iterate through the characters of a string using a for loop in Python?\n",
    "\n",
    "lst = [1,2,34]\n",
    "\n",
    "lst.pop()\n",
    "lst"
   ]
  },
  {
   "cell_type": "code",
   "execution_count": 15,
   "id": "68da164c-fcfe-4ef4-9bd1-4a985516928d",
   "metadata": {},
   "outputs": [
    {
     "name": "stdout",
     "output_type": "stream",
     "text": [
      "[3455]\n"
     ]
    }
   ],
   "source": [
    "#Write a Python program to find the largest number in a list using a for loop.\n",
    "\n",
    "lst = [1,2,3,4,5,3455,23,43,563,6,7,4]\n",
    "\n",
    "largest = [0]\n",
    "\n",
    "for i in lst:\n",
    "    if i > largest[0]:\n",
    "        largest.pop()\n",
    "        largest.append(i)\n",
    "    else :\n",
    "        pass\n",
    "    \n",
    "print(largest)\n"
   ]
  },
  {
   "cell_type": "code",
   "execution_count": 16,
   "id": "9e175557-b432-4453-aaa1-20919fc3bf87",
   "metadata": {},
   "outputs": [
    {
     "name": "stdin",
     "output_type": "stream",
     "text": [
      "Enter the limit for the Fibonacci sequence:  3\n"
     ]
    },
    {
     "name": "stdout",
     "output_type": "stream",
     "text": [
      "Fibonacci sequence up to limit 3 :\n",
      "0\n",
      "1\n",
      "1\n",
      "2\n",
      "3\n"
     ]
    }
   ],
   "source": [
    "#Create a Python program that prints the Fibonacci sequence up to a specified limit using a for loop.\n",
    "\n",
    "limit = int(input(\"Enter the limit for the Fibonacci sequence: \"))\n",
    "\n",
    "a, b = 0, 1\n",
    "\n",
    "print(\"Fibonacci sequence up to limit\", limit, \":\")\n",
    "print(a)\n",
    "print(b)\n",
    "\n",
    "for _ in range(limit):\n",
    "    c = a + b\n",
    "    if c > limit:  \n",
    "        break\n",
    "    print(c)\n",
    "    a, b = b, c"
   ]
  },
  {
   "cell_type": "code",
   "execution_count": null,
   "id": "3239fa65-8f24-4a8b-b585-01b340ab68bc",
   "metadata": {},
   "outputs": [],
   "source": [
    "#Write a Python program to count the number of vowels in a given string using a for loop.\n",
    "\n",
    "input_string = input(\"Enter a string: \")\n",
    "\n",
    "vowels = \"aeiouAEIOU\"\n",
    "\n",
    "count = 0\n",
    "\n",
    "for char in input_string:\n",
    "    if char in vowels:\n",
    "        count += 1\n",
    "\n",
    "print(\"Number of vowels in the given string:\", count)\n",
    "\n"
   ]
  },
  {
   "cell_type": "code",
   "execution_count": 22,
   "id": "76f9ad66-7bac-44e9-948b-884884d85abd",
   "metadata": {},
   "outputs": [
    {
     "name": "stdin",
     "output_type": "stream",
     "text": [
      "Enter a number 5\n"
     ]
    },
    {
     "name": "stdout",
     "output_type": "stream",
     "text": [
      "[5, 10, 15, 20, 25, 30, 35, 40, 45, 50]\n"
     ]
    }
   ],
   "source": [
    "#Create a Python program that generates a multiplication table for a given number using a for loop.\n",
    "\n",
    "num = int(input(\"Enter a number\"))\n",
    "\n",
    "table = []\n",
    "\n",
    "for i in range(num, (num *10)+1):\n",
    "    if i % num == 0:\n",
    "        table.append(i)\n",
    "    else :\n",
    "        pass\n",
    "print(table)\n"
   ]
  },
  {
   "cell_type": "code",
   "execution_count": 18,
   "id": "79ab2059-a511-4d6a-8993-b84d8f2cedae",
   "metadata": {},
   "outputs": [
    {
     "name": "stdin",
     "output_type": "stream",
     "text": [
      "Enter a list of elements separated by spaces:  2 3 4 5 \n"
     ]
    },
    {
     "name": "stdout",
     "output_type": "stream",
     "text": [
      "Reversed list: ['5', '4', '3', '2']\n"
     ]
    }
   ],
   "source": [
    "#Write a Python program to reverse a list using a for loop.\n",
    "\n",
    "input_list = input(\"Enter a list of elements separated by spaces: \").split()\n",
    "\n",
    "reversed_list = []\n",
    "\n",
    "for i in range(len(input_list) - 1, -1, -1):\n",
    "    reversed_list.append(input_list[i])\n",
    "\n",
    "print(\"Reversed list:\", reversed_list)\n",
    "    \n"
   ]
  },
  {
   "cell_type": "code",
   "execution_count": 23,
   "id": "9b6f6693-e3f0-4c36-96b7-dff52f4b6c73",
   "metadata": {},
   "outputs": [
    {
     "name": "stdin",
     "output_type": "stream",
     "text": [
      "Enter elements for the first list separated by spaces:  2 3 4 5 6\n",
      "Enter elements for the second list separated by spaces:  4 3 554\n"
     ]
    },
    {
     "name": "stdout",
     "output_type": "stream",
     "text": [
      "Common elements: ['3', '4']\n"
     ]
    }
   ],
   "source": [
    "#Write a Python program to find the common elements between two lists using a for loop.\n",
    "\n",
    "list1 = input(\"Enter elements for the first list separated by spaces: \").split()\n",
    "list2 = input(\"Enter elements for the second list separated by spaces: \").split()\n",
    "\n",
    "common_elements = []\n",
    "\n",
    "for i in list1:\n",
    "    if i in list2 and i not in common_elements:\n",
    "        common_elements.append(i)\n",
    "\n",
    "if common_elements:\n",
    "    print(\"Common elements:\", common_elements)\n",
    "else:\n",
    "    print(\"No common elements found.\")\n",
    "\n"
   ]
  },
  {
   "cell_type": "code",
   "execution_count": null,
   "id": "80043e42-871b-4a86-864b-d6763d8ae1c8",
   "metadata": {},
   "outputs": [],
   "source": [
    "\n",
    "#Explain how to use a for loop to iterate through the keys and values of a dictionary in Python.\n",
    "\n",
    "my_dict = {'a': 1, 'b': 2, 'c': 3}\n",
    "\n",
    "for i, j in my_dict.items():\n",
    "    print(f\"Key: {key}, Value: {value}\")\n",
    "\n",
    "\n",
    "#we can do it with the help of .items() method where i represnets the key and j represent the value     \n",
    "    "
   ]
  },
  {
   "cell_type": "code",
   "execution_count": null,
   "id": "9b421cbf-8474-4fa9-a47d-6d6f19f8ed03",
   "metadata": {},
   "outputs": [],
   "source": [
    "#Write a Python program to find the GCD (Greatest Common Divisor) of two numbers using a for loop.\n",
    "\n",
    "number1 = int(input(\"Enter first number: \"))\n",
    "number2 = int(input(\"Enter second number: \"))\n",
    "\n",
    "smaller = min(number1, number2)\n",
    "gcd = 1\n",
    "\n",
    "# Finding the GCD using a for loop\n",
    "for i in range(1, smaller + 1):\n",
    "    if number1 % i == 0 and number2 % i == 0:\n",
    "        gcd = i\n",
    "\n",
    "print(f\"The GCD of {number1} and {number2} is:\", gcd)\n",
    "\n"
   ]
  },
  {
   "cell_type": "code",
   "execution_count": 29,
   "id": "60a9be75-7e3f-4f89-8446-cf51783695aa",
   "metadata": {},
   "outputs": [
    {
     "name": "stdin",
     "output_type": "stream",
     "text": [
      "Enter string level\n"
     ]
    },
    {
     "name": "stdout",
     "output_type": "stream",
     "text": [
      "string level is a palindrome\n"
     ]
    }
   ],
   "source": [
    "#Create a Python program that checks if a string is a palindrome using a for loop.\n",
    "\n",
    "text = str(input(\"Enter string\"))\n",
    "\n",
    "new_text=''\n",
    "\n",
    "for i in text[::-1]:\n",
    "    new_text += i\n",
    "    \n",
    "if text == new_text:\n",
    "    print(f'string {text} is a palindrome')\n",
    "else :\n",
    "    print('string {text} is not a palindrome')\n",
    "    "
   ]
  },
  {
   "cell_type": "code",
   "execution_count": null,
   "id": "3e838375-4752-44e1-b952-056a71c485a9",
   "metadata": {},
   "outputs": [],
   "source": [
    "#Write a Python program to remove duplicates from a list using a for loop.\n",
    "\n",
    "input_list = input(\"Enter elements of the list separated by spaces: \").split()\n",
    "\n",
    "unique_list = []\n",
    "\n",
    "for i in input_list:\n",
    "    if i not in unique_list:\n",
    "        unique_list.append(item)\n",
    "\n",
    "print(\"List after removing duplicates:\", unique_list)\n",
    "\n"
   ]
  },
  {
   "cell_type": "code",
   "execution_count": 30,
   "id": "c55b2f5c-417a-434f-9ade-0ba04b8c4689",
   "metadata": {},
   "outputs": [
    {
     "name": "stdin",
     "output_type": "stream",
     "text": [
      "Enter string shiv\n"
     ]
    },
    {
     "name": "stdout",
     "output_type": "stream",
     "text": [
      "4\n"
     ]
    }
   ],
   "source": [
    "#Create a Python program that counts the number of words in a sentence using a for loop.\n",
    "\n",
    "text = str(input(\"Enter string\"))\n",
    "\n",
    "count = 0 \n",
    "\n",
    "for i in text:\n",
    "    count += 1\n",
    "    \n",
    "print(count)"
   ]
  },
  {
   "cell_type": "code",
   "execution_count": null,
   "id": "7bf9d138-fb2a-47f1-a3e5-5b7716435278",
   "metadata": {},
   "outputs": [],
   "source": [
    "#Write a Python program to find the sum of all odd numbers from 1 to 50 using a for loop.\n",
    "\n",
    "sum_odd = 0\n",
    "\n",
    "for number in range(1, 51):\n",
    "    if number % 2 != 0:\n",
    "        sum_odd += number\n",
    "\n",
    "print(\"Sum of odd numbers from 1 to 50:\", sum_odd)\n"
   ]
  },
  {
   "cell_type": "code",
   "execution_count": null,
   "id": "6c80c5c3-32b0-4600-b569-d12f70060916",
   "metadata": {},
   "outputs": [],
   "source": [
    "#Write a Python program that checks if a given year is a leap year using a for loop.\n",
    "\n",
    "year = int(input(\"Enter a year: \"))\n",
    "\n",
    "if (year % 4 == 0 and year % 100 != 0) or (year % 400 == 0):\n",
    "    print(f\"{year} is a leap year.\")\n",
    "else:\n",
    "    print(f\"{year} is not a leap year.\")\n",
    "\n"
   ]
  },
  {
   "cell_type": "code",
   "execution_count": null,
   "id": "45c2afbb-0faf-41b7-8032-d77436a47da8",
   "metadata": {},
   "outputs": [],
   "source": [
    "#Create a Python program that calculates the square root of a number using a for loop.\n",
    "number = float(input(\"Enter a number to find its square root: \"))\n",
    "\n",
    "guess = number / 2\n",
    "\n",
    "iterations = 100\n",
    "\n",
    "for _ in range(iterations):\n",
    "    guess = (guess + number / guess) / 2\n",
    "\n",
    "print(f\"The square root of {number} is approximately: {guess}\")\n"
   ]
  },
  {
   "cell_type": "code",
   "execution_count": null,
   "id": "5c4f3326-3f2e-4b7f-8a2b-3ccfa6516419",
   "metadata": {},
   "outputs": [],
   "source": [
    "#Write a Python program to find the LCM (Least Common Multiple) of two numbers using a for loop.\n",
    "\n",
    "number1 = int(input(\"Enter first number: \"))\n",
    "number2 = int(input(\"Enter second number: \"))\n",
    "\n",
    "max_num = max(number1, number2)\n",
    "\n",
    "lcm = 0\n",
    "\n",
    "for i in range(max_num, number1 * number2 + 1, max_num):\n",
    "    if i % number1 == 0 and i % number2 == 0:\n",
    "        lcm = i\n",
    "        break\n",
    "\n",
    "print(f\"The LCM of {number1} and {number2} is:\", lcm)\n"
   ]
  },
  {
   "cell_type": "code",
   "execution_count": null,
   "id": "9e6bd9b1-cc50-4cef-9d26-fe6558eaa787",
   "metadata": {},
   "outputs": [],
   "source": [
    "#Write a Python program to check if a number is positive, negative, or zero using an if-else statement.\n",
    "\n",
    "number = float(input(\"Enter a number: \"))\n",
    "\n",
    "if number > 0:\n",
    "    print(\"The number is positive.\")\n",
    "elif number < 0:\n",
    "    print(\"The number is negative.\")\n",
    "else:\n",
    "    print(\"The number is zero.\")\n"
   ]
  },
  {
   "cell_type": "code",
   "execution_count": null,
   "id": "7d803b39-3469-492c-a0c0-e2de423bb901",
   "metadata": {},
   "outputs": [],
   "source": [
    "\n",
    "#Create a Python program that checks if a given number is even or odd using an if-else statement.\n",
    "# Input a number\n",
    "number = int(input(\"Enter a number: \"))\n",
    "\n",
    "# Check if the number is even or odd using if-else statement\n",
    "if number % 2 == 0:\n",
    "    print(\"The number is even.\")\n",
    "else:\n",
    "    print(\"The number is odd.\")\n"
   ]
  },
  {
   "cell_type": "code",
   "execution_count": null,
   "id": "ff8b67c5-0be2-41bc-b80e-c417d3d217fc",
   "metadata": {},
   "outputs": [],
   "source": [
    "#How can you use nested if-else statements in Python, and provide an example?\n",
    "\n",
    "# Input age and grade level\n",
    "age = int(input(\"Enter your age: \"))\n",
    "grade = int(input(\"Enter your grade level: \"))\n",
    "\n",
    "# Nested if-else statements to determine admission criteria\n",
    "if age >= 18:\n",
    "    print(\"You are eligible for college admission.\")\n",
    "    \n",
    "    if grade >= 12:\n",
    "        print(\"Congratulations! You are in the final year of high school.\")\n",
    "    else:\n",
    "        print(\"You are not in the final year of high school.\")\n",
    "else:\n",
    "    print(\"You are not eligible for college admission.\")\n",
    "\n"
   ]
  },
  {
   "cell_type": "code",
   "execution_count": null,
   "id": "c3e16397-37e7-4b00-838f-227eadd0d9ec",
   "metadata": {},
   "outputs": [],
   "source": [
    "\n",
    "#Write a Python program to determine the largest of three numbers using if-else.\n",
    "num1 = float(input(\"Enter first number: \"))\n",
    "num2 = float(input(\"Enter second number: \"))\n",
    "num3 = float(input(\"Enter third number: \"))\n",
    "\n",
    "if num1 >= num2 and num1 >= num3:\n",
    "    largest = num1\n",
    "elif num2 >= num1 and num2 >= num3:\n",
    "    largest = num2\n",
    "else:\n",
    "    largest = num3\n",
    "\n",
    "print(f\"The largest number among {num1}, {num2}, and {num3} is: {largest}\")\n",
    "\n"
   ]
  },
  {
   "cell_type": "code",
   "execution_count": null,
   "id": "31c2a739-50a1-479a-8d68-159f3d54d485",
   "metadata": {},
   "outputs": [],
   "source": [
    "#Write a Python program that calculates the absolute value of a number using if-else.\n",
    "# Input a number\n",
    "number = float(input(\"Enter a number: \"))\n",
    "\n",
    "# Calculate the absolute value using if-else statement\n",
    "if number < 0:\n",
    "    absolute_value = -number\n",
    "else:\n",
    "    absolute_value = number\n",
    "\n",
    "print(f\"The absolute value of {number} is: {absolute_value}\")\n",
    "\n"
   ]
  },
  {
   "cell_type": "code",
   "execution_count": null,
   "id": "8d678a24-ea7e-431c-9868-afb960a1de53",
   "metadata": {},
   "outputs": [],
   "source": [
    "\n",
    "#Create a Python program that checks if a given character is a vowel or consonant using if-else.\n",
    "character = input(\"Enter a character: \")\n",
    "\n",
    "if character.isalpha() and len(character) == 1:\n",
    "    if character.lower() in 'aeiou':\n",
    "        print(f\"The character '{character}' is a vowel.\")\n",
    "    else:\n",
    "        print(f\"The character '{character}' is a consonant.\")\n",
    "else:\n",
    "    print(\"Please enter a single alphabet character.\")\n",
    "\n",
    "\n"
   ]
  },
  {
   "cell_type": "code",
   "execution_count": null,
   "id": "0cd3cb6a-2463-4479-8d52-852bf6d7ea71",
   "metadata": {},
   "outputs": [],
   "source": [
    "#Write a Python program to determine if a user is eligible to vote based on their age using if-else.\n",
    "\n",
    "# Input age\n",
    "age = int(input(\"Enter your age: \"))\n",
    "\n",
    "# Check if the user is eligible to vote using if-else statement\n",
    "if age >= 18:\n",
    "    print(\"You are eligible to vote.\")\n",
    "else:\n",
    "    print(\"You are not eligible to vote yet.\")\n",
    "\n"
   ]
  },
  {
   "cell_type": "code",
   "execution_count": null,
   "id": "c690fff7-0711-468f-9873-6714fac0890f",
   "metadata": {},
   "outputs": [],
   "source": [
    "\n",
    "#Create a Python program that calculates the discount amount based on the purchase amount using if-else.\n",
    "\n",
    "# Input the purchase amount\n",
    "purchase_amount = float(input(\"Enter the purchase amount: \"))\n",
    "\n",
    "if purchase_amount > 0:\n",
    "    if purchase_amount >= 1000:\n",
    "        discount_rate = 0.1  \n",
    "    elif purchase_amount >= 500:\n",
    "        discount_rate = 0.05 \n",
    "    else:\n",
    "        discount_rate = 0  \n",
    "\n",
    "    discount_amount = purchase_amount * discount_rate\n",
    "    print(f\"Discount amount: ${discount_amount:.2f}\")\n",
    "else:\n",
    "    print(\"Invalid purchase amount entered. Please enter a positive value.\")\n",
    "\n"
   ]
  },
  {
   "cell_type": "code",
   "execution_count": null,
   "id": "dc20f962-69fa-4b9c-91fe-8d7c0b068d33",
   "metadata": {},
   "outputs": [],
   "source": [
    "    \n",
    "#Write a Python program to check if a number is within a specified range using if-else.\n",
    "lower_limit = 10\n",
    "upper_limit = 50\n",
    "\n",
    "# Input a number\n",
    "number = float(input(\"Enter a number: \"))\n",
    "\n",
    "# Check if the number is within the specified range using if-else statement\n",
    "if lower_limit <= number <= upper_limit:\n",
    "    print(f\"The number {number} is within the range [{lower_limit}, {upper_limit}].\")\n",
    "else:\n",
    "    print(f\"The number {number} is outside the range [{lower_limit}, {upper_limit}].\")\n",
    "\n"
   ]
  },
  {
   "cell_type": "code",
   "execution_count": null,
   "id": "0231c8e4-788c-49b3-84c6-3e31c4476d2c",
   "metadata": {},
   "outputs": [],
   "source": [
    "\n",
    "#Create a Python program that determines the grade of a student based on their score using if-else.\n",
    "score = float(input(\"Enter the student's score: \"))\n",
    "\n",
    "if score >= 90:\n",
    "    grade = 'A'\n",
    "elif score >= 80:\n",
    "    grade = 'B'\n",
    "elif score >= 70:\n",
    "    grade = 'C'\n",
    "elif score >= 60:\n",
    "    grade = 'D'\n",
    "else:\n",
    "    grade = 'F'\n",
    "\n",
    "print(f\"The student's grade for a score of {score} is: {grade}\")\n",
    "\n"
   ]
  },
  {
   "cell_type": "code",
   "execution_count": null,
   "id": "68b6b708-0001-485a-ab7a-491be9e0ffb6",
   "metadata": {},
   "outputs": [],
   "source": [
    "\n",
    "\n",
    "#Write a Python program to check if a string is empty or not using if-else.\n",
    "user_input = input(\"Enter a string: \")\n",
    "\n",
    "if user_input == \"\":\n",
    "    print(\"The string is empty.\")\n",
    "else:\n",
    "    print(\"The string is not empty.\")\n",
    "\n",
    "\n"
   ]
  },
  {
   "cell_type": "code",
   "execution_count": null,
   "id": "a00a5b24-757d-4a18-ad57-ff3154980806",
   "metadata": {},
   "outputs": [],
   "source": [
    "#Create a Python program that identifies the type of a triangle (e.g., equilateral, isosceles, or scalene) based on input values using if-else.\n",
    "side_a = float(input(\"Enter length of side a: \"))\n",
    "side_b = float(input(\"Enter length of side b: \"))\n",
    "side_c = float(input(\"Enter length of side c: \"))\n",
    "\n",
    "if side_a == side_b == side_c:\n",
    "    print(\"The triangle is an Equilateral triangle.\")\n",
    "elif side_a == side_b or side_a == side_c or side_b == side_c:\n",
    "    print(\"The triangle is an Isosceles triangle.\")\n",
    "else:\n",
    "    print(\"The triangle is a Scalene triangle.\")\n",
    "\n",
    "\n"
   ]
  },
  {
   "cell_type": "code",
   "execution_count": null,
   "id": "a12488e6-f52e-4076-b8b3-3f9cf4a3a528",
   "metadata": {},
   "outputs": [],
   "source": [
    "#Write a Python program to determine the day of the week based on a user-provided number using if-else.\n",
    "day_number = int(input(\"Enter a number (1-7) to determine the day of the week: \"))\n",
    "\n",
    "if day_number == 1:\n",
    "    day = \"Sunday\"\n",
    "elif day_number == 2:\n",
    "    day = \"Monday\"\n",
    "elif day_number == 3:\n",
    "    day = \"Tuesday\"\n",
    "elif day_number == 4:\n",
    "    day = \"Wednesday\"\n",
    "elif day_number == 5:\n",
    "    day = \"Thursday\"\n",
    "elif day_number == 6:\n",
    "    day = \"Friday\"\n",
    "elif day_number == 7:\n",
    "    day = \"Saturday\"\n",
    "else:\n",
    "    day = \"Invalid input. Please enter a number between 1 and 7.\"\n",
    "\n",
    "print(f\"The day corresponding to the number {day_number} is {day}.\")\n",
    "\n",
    "\n"
   ]
  },
  {
   "cell_type": "code",
   "execution_count": null,
   "id": "b8f59451-6f3f-4672-80eb-d357e105a6e2",
   "metadata": {},
   "outputs": [],
   "source": [
    "#Create a Python program that checks if a given year is a leap year using both if-else and a function.\n",
    "year = int(input(\"Enter a year to check if it's a leap year: \"))\n",
    "\n",
    "if (year % 4 == 0 and year % 100 != 0) or (year % 400 == 0):\n",
    "    print(f\"{year} is a leap year.\")\n",
    "else:\n",
    "    print(f\"{year} is not a leap year.\")\n",
    "\n"
   ]
  },
  {
   "cell_type": "code",
   "execution_count": 3,
   "id": "79b0c694-3fff-49d6-b774-a4745b790fcf",
   "metadata": {},
   "outputs": [
    {
     "ename": "AssertionError",
     "evalue": "x should be equal to 5 within this else block",
     "output_type": "error",
     "traceback": [
      "\u001b[0;31m---------------------------------------------------------------------------\u001b[0m",
      "\u001b[0;31mAssertionError\u001b[0m                            Traceback (most recent call last)",
      "Cell \u001b[0;32mIn[3], line 9\u001b[0m\n\u001b[1;32m      7\u001b[0m     \u001b[38;5;28mprint\u001b[39m(\u001b[38;5;124m\"\u001b[39m\u001b[38;5;124mx is greater than 5\u001b[39m\u001b[38;5;124m\"\u001b[39m)\n\u001b[1;32m      8\u001b[0m \u001b[38;5;28;01melse\u001b[39;00m:\n\u001b[0;32m----> 9\u001b[0m     \u001b[38;5;28;01massert\u001b[39;00m x \u001b[38;5;241m==\u001b[39m \u001b[38;5;241m5\u001b[39m, \u001b[38;5;124m\"\u001b[39m\u001b[38;5;124mx should be equal to 5 within this else block\u001b[39m\u001b[38;5;124m\"\u001b[39m\n\u001b[1;32m     10\u001b[0m     \u001b[38;5;28mprint\u001b[39m(\u001b[38;5;124m\"\u001b[39m\u001b[38;5;124mx is not greater than 5\u001b[39m\u001b[38;5;124m\"\u001b[39m)\n",
      "\u001b[0;31mAssertionError\u001b[0m: x should be equal to 5 within this else block"
     ]
    }
   ],
   "source": [
    "\n",
    "#How do you use the \"assert\" statement in Python to add debugging checks within if-else blocks?\n",
    "\n",
    "x = 4\n",
    "\n",
    "if x > 5:\n",
    "    assert x < 15, \"x should be less than 15 within this if block\"\n",
    "    print(\"x is greater than 5\")\n",
    "else:\n",
    "    assert x == 5, \"x should be equal to 5 within this else block\"\n",
    "    print(\"x is not greater than 5\")\n"
   ]
  },
  {
   "cell_type": "code",
   "execution_count": null,
   "id": "f53ceb03-0082-4676-a41a-2ac0de4283a0",
   "metadata": {},
   "outputs": [],
   "source": [
    "#Create a Python program that determines the eligibility of a person for a senior citizen discount based on age using if-else.\n",
    "\n",
    "senior_citizen_age = 60\n",
    "\n",
    "age = int(input(\"Enter your age: \"))\n",
    "\n",
    "if age >= senior_citizen_age:\n",
    "    print(\"Congratulations! You are eligible for a senior citizen discount.\")\n",
    "else:\n",
    "    print(\"Sorry, you are not eligible for a senior citizen discount.\")\n",
    "\n"
   ]
  },
  {
   "cell_type": "code",
   "execution_count": null,
   "id": "d7384292-dd79-49f3-856a-9e85bfafb842",
   "metadata": {},
   "outputs": [],
   "source": [
    "\n",
    "#Write a Python program to categorize a given character as uppercase, lowercase, or neither using if-else.\n",
    "\n",
    "character = input(\"Enter a character: \")\n",
    "\n",
    "if character.isupper():\n",
    "    print(f\"The character '{character}' is uppercase.\")\n",
    "elif character.islower():\n",
    "    print(f\"The character '{character}' is lowercase.\")\n",
    "else:\n",
    "    print(f\"The character '{character}' is neither uppercase nor lowercase.\")\n",
    "\n"
   ]
  },
  {
   "cell_type": "code",
   "execution_count": null,
   "id": "d05a7bda-f383-4ac1-b1a7-12a2d1e54abc",
   "metadata": {},
   "outputs": [],
   "source": [
    "\n",
    "#Write a Python program to determine the roots of a quadratic equation using if-else.\n",
    "import cmath\n",
    "\n",
    "# coefficients of the quadratic equation\n",
    "a = float(input(\"Enter coefficient a: \"))\n",
    "b = float(input(\"Enter coefficient b: \"))\n",
    "c = float(input(\"Enter coefficient c: \"))\n",
    "\n",
    "# calculate the discriminant\n",
    "discriminant = (b**2) - (4*a*c)\n",
    "\n",
    "# calculate the roots using the quadratic formula\n",
    "if discriminant > 0:\n",
    "    root1 = (-b + cmath.sqrt(discriminant)) / (2*a)\n",
    "    root2 = (-b - cmath.sqrt(discriminant)) / (2*a)\n",
    "    print(f\"The roots are real and different: {root1} and {root2}\")\n",
    "elif discriminant == 0:\n",
    "    root = -b / (2*a)\n",
    "    print(f\"The roots are real and equal: {root}\")\n",
    "else:\n",
    "    real_part = -b / (2*a)\n",
    "    imaginary_part = cmath.sqrt(-discriminant) / (2*a)\n",
    "    root1 = complex(real_part, imaginary_part)\n",
    "    root2 = complex(real_part, -imaginary_part)\n",
    "    print(f\"The roots are complex: {root1} and {root2}\")\n",
    "\n",
    "    "
   ]
  },
  {
   "cell_type": "code",
   "execution_count": null,
   "id": "ee93f837-bd93-428e-ae8f-9a6b1f666031",
   "metadata": {},
   "outputs": [],
   "source": [
    "#Create a Python program that checks if a given year is a century year or not using if-else.\n",
    "year = int(input(\"Enter a year: \"))\n",
    "\n",
    "if year % 100 == 0:\n",
    "    print(f\"{year} is a century year.\")\n",
    "else:\n",
    "    print(f\"{year} is not a century year.\")\n",
    "\n",
    "\n"
   ]
  },
  {
   "cell_type": "code",
   "execution_count": null,
   "id": "424dfbd3-e22b-4455-bcff-4a3a0e7a1c51",
   "metadata": {},
   "outputs": [],
   "source": [
    "#Write a Python program to determine if a given number is a perfect square using if-else.\n",
    "number = int(input(\"Enter a number: \"))\n",
    "\n",
    "square_root = number ** 0.5\n",
    "\n",
    "if square_root.is_integer():\n",
    "    print(f\"{number} is a perfect square.\")\n",
    "else:\n",
    "    print(f\"{number} is not a perfect square.\")\n"
   ]
  },
  {
   "cell_type": "code",
   "execution_count": 5,
   "id": "bebb9ad2-3e6c-4c85-9ca6-d786b8b5f691",
   "metadata": {},
   "outputs": [
    {
     "name": "stdout",
     "output_type": "stream",
     "text": [
      "1\n",
      "2\n",
      "4\n",
      "5\n",
      "1\n",
      "2\n",
      "3\n"
     ]
    }
   ],
   "source": [
    "#Explain the purpose of the \"continue\" and \"break\" statements within if-else loops.\n",
    "for i in range(1, 6):\n",
    "    if i == 3:\n",
    "        continue\n",
    "    print(i)\n",
    "\n",
    "#the continue statement is used to skip the rest of the code inside a loop for the current iteration and proceed to the next iteration of the loop.\n",
    "#When encountered within a loop, continue stops the current iteration and moves on to the next iteration of the loop.\n",
    "\n",
    "\n",
    "i = 1\n",
    "while i < 6:\n",
    "    print(i)\n",
    "    if i == 3:\n",
    "        break\n",
    "    i += 1\n",
    "\n",
    "#The break statement is used to exit a loop prematurely, immediately terminating the loop's execution\n"
   ]
  },
  {
   "cell_type": "code",
   "execution_count": null,
   "id": "5a78e5f0-c5e2-45a6-89f0-833c388d1bab",
   "metadata": {},
   "outputs": [],
   "source": [
    "#Create a Python program that calculates the BMI (Body Mass Index) of a person based on their weight and height using if-else.\n",
    "\n",
    "weight = float(input(\"Enter your weight in kilograms: \"))\n",
    "height = float(input(\"Enter your height in meters: \"))\n",
    "\n",
    "bmi = weight / (height * height)\n",
    "\n",
    "if bmi < 18.5:\n",
    "    category = \"Underweight\"\n",
    "elif 18.5 <= bmi < 25:\n",
    "    category = \"Normal weight\"\n",
    "elif 25 <= bmi < 30:\n",
    "    category = \"Overweight\"\n",
    "else:\n",
    "    category = \"Obese\"\n",
    "\n",
    "print(f\"Your BMI is: {bmi:.2f}\")\n",
    "print(f\"You are in the '{category}' category.\")\n",
    "\n"
   ]
  },
  {
   "cell_type": "code",
   "execution_count": 6,
   "id": "cff3981c-cb04-4665-bd9d-d05f4aad7eab",
   "metadata": {},
   "outputs": [
    {
     "name": "stdin",
     "output_type": "stream",
     "text": [
      "Enter a number:  2\n"
     ]
    },
    {
     "name": "stdout",
     "output_type": "stream",
     "text": [
      "2 is a prime number.\n"
     ]
    }
   ],
   "source": [
    "#Write a Python program to determine if a given number is prime or not using if-else.\n",
    "num = int(input(\"Enter a number: \"))\n",
    "\n",
    "if num > 1:\n",
    "    for i in range(2, num):\n",
    "        if (num % i) == 0:\n",
    "            print(f\"{num} is not a prime number.\")\n",
    "            break\n",
    "    else:\n",
    "        print(f\"{num} is a prime number.\")\n",
    "else:\n",
    "    print(f\"{num} is not a prime number.\")\n"
   ]
  },
  {
   "cell_type": "code",
   "execution_count": 3,
   "id": "f0a26599-10e3-4ebb-a016-208e34e74a96",
   "metadata": {},
   "outputs": [
    {
     "data": {
      "text/plain": [
       "[6, 5, 4, 3, 2, 1]"
      ]
     },
     "execution_count": 3,
     "metadata": {},
     "output_type": "execute_result"
    }
   ],
   "source": [
    "#Explain the purpose of the `map()` function in Python and provide an example of how it can be used to apply a function to each element of an iterable.\n",
    "\n",
    "# Map function is used to apply a function to multiple objects in one go. it accpets two input one the func itself and then objects on which we want \n",
    "# to apply them \n",
    "\n",
    "lst1=[1,2,3,4,5,6]\n",
    "lst2=[1,2,3,4,5]\n",
    "lst3=[1,2,3,4]\n",
    "lst4=[1,2,3]\n",
    "lst5=[1,2]\n",
    "lst6=[1]\n",
    "\n",
    "\n",
    "list(map(len,[lst1,lst2,lst3,lst4,lst5,lst6]))\n"
   ]
  },
  {
   "cell_type": "code",
   "execution_count": 11,
   "id": "5ebcc88d-465b-4339-a547-b35d4cd34215",
   "metadata": {},
   "outputs": [
    {
     "data": {
      "text/plain": [
       "[1, 4, 9, 16, 25, 36, 49, 64]"
      ]
     },
     "execution_count": 11,
     "metadata": {},
     "output_type": "execute_result"
    }
   ],
   "source": [
    "#Write a Python program that uses the `map()` function to square each element of a list of numbers.\n",
    "\n",
    "lst = [1,2,3,4,5,6,7,8]\n",
    "\n",
    "list(map(lambda x : x*x , lst))\n"
   ]
  },
  {
   "cell_type": "code",
   "execution_count": null,
   "id": "2eb577e1-5918-48ec-8cac-95fa7f3ba468",
   "metadata": {},
   "outputs": [],
   "source": [
    "#How does the `map()` function differ from a list comprehension in Python, and when would you choose one over the other?\n",
    "\n",
    "#difference:\n",
    "    # map function give an output in an iterable form where as list comprehencsion give output as list \n",
    "    # map function can be applicable on multiple on objects \n",
    "    \n",
    "#when to use:\n",
    "    # for simple operations use list comprehension over map\n",
    "    # map to be used for higher performance for large size datasets\n",
    "\n"
   ]
  },
  {
   "cell_type": "code",
   "execution_count": 17,
   "id": "f95321ee-5c3f-435b-9d78-46353d33e8db",
   "metadata": {},
   "outputs": [
    {
     "data": {
      "text/plain": [
       "['ABC', 'BCD', 'KJL', 'MNP']"
      ]
     },
     "execution_count": 17,
     "metadata": {},
     "output_type": "execute_result"
    }
   ],
   "source": [
    "#Create a Python program that uses the `map()` function to convert a list of names to uppercase.\n",
    "\n",
    "lst1 = ['abc', 'BcD', 'KJL', 'mnp']\n",
    "\n",
    "list(map(str.upper, lst1))\n"
   ]
  },
  {
   "cell_type": "code",
   "execution_count": 18,
   "id": "b93c94a5-ff28-49aa-bc73-043cfb341d66",
   "metadata": {},
   "outputs": [
    {
     "data": {
      "text/plain": [
       "[3, 3, 3, 3]"
      ]
     },
     "execution_count": 18,
     "metadata": {},
     "output_type": "execute_result"
    }
   ],
   "source": [
    "#Write a Python program that uses the `map()` function to calculate the length of each word in a list of strings.\n",
    "lst1 = ['abc', 'BcD', 'KJL', 'mnp']\n",
    "\n",
    "list(map(len, lst1))\n"
   ]
  },
  {
   "cell_type": "code",
   "execution_count": 16,
   "id": "de067f31-4d29-4e9c-a374-6ed6a7e7b137",
   "metadata": {},
   "outputs": [
    {
     "data": {
      "text/plain": [
       "'ABC'"
      ]
     },
     "execution_count": 16,
     "metadata": {},
     "output_type": "execute_result"
    }
   ],
   "source": [
    "#How can you use the `map()` function to apply a custom function to elements of multiple lists simultaneously in Python?\n",
    "\n",
    "lst1=[1,2,3,4,5,6]\n",
    "lst2=[1,2,3,4,5]\n",
    "lst3=[1,2,3,4]\n",
    "lst4=[1,2,3]\n",
    "lst5=[1,2]\n",
    "lst6=[1]\n",
    "\n",
    "\n",
    "list(map(len,[lst1,lst2,lst3,lst4,lst5,lst6]))\n"
   ]
  },
  {
   "cell_type": "code",
   "execution_count": 22,
   "id": "285637a0-7f59-42c7-a447-60c23443567b",
   "metadata": {},
   "outputs": [
    {
     "data": {
      "text/plain": [
       "[87.80000000000001, 53.6, 73.4, 24.8, -65.2, 140.0]"
      ]
     },
     "execution_count": 22,
     "metadata": {},
     "output_type": "execute_result"
    }
   ],
   "source": [
    "#Create a Python program that uses `map()` to convert a list of temperatures from Celsius to Fahrenheit.\n",
    "\n",
    "lst1=[31,12,23,-4,-54,60]\n",
    "\n",
    "Fahrenheit = list(map(lambda x: x * (9/5) + 32, lst1))\n",
    "\n",
    "Fahrenheit"
   ]
  },
  {
   "cell_type": "code",
   "execution_count": 27,
   "id": "838ae1bb-23ec-41cd-a183-00e8abc32903",
   "metadata": {},
   "outputs": [
    {
     "data": {
      "text/plain": [
       "[88, 54, 73, 25, -65, 140]"
      ]
     },
     "execution_count": 27,
     "metadata": {},
     "output_type": "execute_result"
    }
   ],
   "source": [
    "#Write a Python program that uses the `map()` function to round each element of a list of floating-point numbers to the nearest integer.\n",
    "\n",
    "list(map(round, Fahrenheit))\n"
   ]
  },
  {
   "cell_type": "code",
   "execution_count": 3,
   "id": "c5552934-8074-42d4-b5ad-f3c28fbb3f3f",
   "metadata": {},
   "outputs": [
    {
     "data": {
      "text/plain": [
       "'apple, banana, cherry, date'"
      ]
     },
     "execution_count": 3,
     "metadata": {},
     "output_type": "execute_result"
    }
   ],
   "source": [
    "#What is the `reduce()` function in Python, and what module should you import to use it? Provide an example of its basic usage.\n",
    "\n",
    "# Reduce takes all elements one by one and then it performes the operation \n",
    "#reduce can take any function as first argument and object where fun needs to apply\n",
    "\n",
    "from functools import reduce\n",
    "\n",
    "lst = [\"apple\", \"banana\", \"cherry\", \"date\"]\n",
    "reduce(lambda x, y: x + \", \" + y, lst)\n",
    "\n"
   ]
  },
  {
   "cell_type": "code",
   "execution_count": 6,
   "id": "eed5f27b-82ad-462d-8151-d384bd63d3d0",
   "metadata": {},
   "outputs": [
    {
     "data": {
      "text/plain": [
       "720"
      ]
     },
     "execution_count": 6,
     "metadata": {},
     "output_type": "execute_result"
    }
   ],
   "source": [
    "#Write a Python program that uses the `reduce()` function to find the product of all elements in a list.\n",
    "\n",
    "lst = [1,2,3,4,5,6]\n",
    "\n",
    "reduce(lambda x,y : x*y, lst)\n"
   ]
  },
  {
   "cell_type": "code",
   "execution_count": 9,
   "id": "aa83ddcb-3190-4202-a79f-32ba65e2c9fe",
   "metadata": {},
   "outputs": [
    {
     "data": {
      "text/plain": [
       "6"
      ]
     },
     "execution_count": 9,
     "metadata": {},
     "output_type": "execute_result"
    }
   ],
   "source": [
    "#Create a Python program that uses `reduce()` to find the maximum element in a list of numbers.\n",
    "\n",
    "lst = [1,2,3,4,5,6]\n",
    "\n",
    "reduce(max, lst)"
   ]
  },
  {
   "cell_type": "code",
   "execution_count": 10,
   "id": "d2c215e2-a141-46cb-aaca-18721975d773",
   "metadata": {},
   "outputs": [
    {
     "data": {
      "text/plain": [
       "'abcbcdefghij'"
      ]
     },
     "execution_count": 10,
     "metadata": {},
     "output_type": "execute_result"
    }
   ],
   "source": [
    "#How can you use the `reduce()` function to concatenate a list of strings into a single string?\n",
    "\n",
    "lst = ['abc', 'bcd', 'efg', 'hij']\n",
    "\n",
    "reduce(lambda x, y : x + y, lst)\n"
   ]
  },
  {
   "cell_type": "code",
   "execution_count": 18,
   "id": "e75c1ecf-98d5-470b-9bac-98c875aef64a",
   "metadata": {},
   "outputs": [
    {
     "name": "stdin",
     "output_type": "stream",
     "text": [
      "Enter a number 20\n"
     ]
    },
    {
     "data": {
      "text/plain": [
       "2432902008176640000"
      ]
     },
     "execution_count": 18,
     "metadata": {},
     "output_type": "execute_result"
    }
   ],
   "source": [
    "#Write a Python program that calculates the factorial of a number using the `reduce()` function.\n",
    "\n",
    "num = int(input('Enter a number'))\n",
    "\n",
    "reduce(lambda x, y : x*y , range(1,num+1) if num > 1 else 1)\n"
   ]
  },
  {
   "cell_type": "code",
   "execution_count": 19,
   "id": "884d8499-3685-446c-b9c5-407d596afae9",
   "metadata": {},
   "outputs": [
    {
     "name": "stdout",
     "output_type": "stream",
     "text": [
      "The GCD of the numbers [24, 36, 48, 60, 72] is: 12\n"
     ]
    }
   ],
   "source": [
    "#Create a Python program that uses `reduce()` to find the GCD (Greatest Common Divisor) of a list of numbers.\n",
    "from functools import reduce\n",
    "import math\n",
    "\n",
    "numbers = [24, 36, 48, 60, 72] \n",
    "\n",
    "gcd_result = reduce(math.gcd, numbers)\n",
    "\n",
    "print(f\"The GCD of the numbers {numbers} is: {gcd_result}\")\n"
   ]
  },
  {
   "cell_type": "code",
   "execution_count": 25,
   "id": "32b10ab5-7f14-4fad-bd09-37d8a8274eed",
   "metadata": {},
   "outputs": [
    {
     "data": {
      "text/plain": [
       "9"
      ]
     },
     "execution_count": 25,
     "metadata": {},
     "output_type": "execute_result"
    }
   ],
   "source": [
    "#Write a Python program that uses the `reduce()` function to find the sum of the digits of a given number.\n",
    "\n",
    "num = 324\n",
    "\n",
    "reduce(lambda x, y : x + y , [int(x) for x in str(num)])\n"
   ]
  },
  {
   "cell_type": "code",
   "execution_count": null,
   "id": "6ee5f84f-5567-416a-aada-70f1a8904c66",
   "metadata": {},
   "outputs": [],
   "source": []
  },
  {
   "cell_type": "code",
   "execution_count": 8,
   "id": "2df01ce8-6750-49a3-8b45-a23b075d4a7c",
   "metadata": {},
   "outputs": [
    {
     "name": "stdout",
     "output_type": "stream",
     "text": [
      "[1, 3, 5, 7, 9]\n"
     ]
    }
   ],
   "source": [
    "#Explain the purpose of the `filter()` function in Python and provide an example of how it can be used to filter elements from an iterable.\n",
    "\n",
    "#The filter() function in Python is a built-in function that allows you to filter elements from \n",
    "#an iterable (like a list, tuple, etc.) based on a specified condition.It returns an iterator yielding\n",
    "#those items from the iterable for which the function passed returns True.\n",
    "\n",
    "numbers = [1, 2, 3, 4, 5, 6, 7, 8, 9, 10]\n",
    "\n",
    "odd_numbers = list(filter(lambda x: x % 2!=0 , numbers))\n",
    "print(odd_numbers)  \n",
    "\n"
   ]
  },
  {
   "cell_type": "code",
   "execution_count": 7,
   "id": "ba387c52-cb6c-4398-b121-6d66ba8dd19c",
   "metadata": {},
   "outputs": [
    {
     "name": "stdout",
     "output_type": "stream",
     "text": [
      "[2, 4, 6, 8, 10]\n"
     ]
    }
   ],
   "source": [
    "#Write a Python program that uses the `filter()` function to select even numbers from a list of integers.\n",
    "\n",
    "numbers = [1, 2, 3, 4, 5, 6, 7, 8, 9, 10]\n",
    "\n",
    "even_numbers = list(filter(lambda x: x % 2==0 , numbers))\n",
    "print(even_numbers)  \n"
   ]
  },
  {
   "cell_type": "code",
   "execution_count": 14,
   "id": "1ccb9509-7e21-4a8f-8714-a7bcb46254f9",
   "metadata": {},
   "outputs": [
    {
     "data": {
      "text/plain": [
       "['shiv', 'satyam', 'sonu']"
      ]
     },
     "execution_count": 14,
     "metadata": {},
     "output_type": "execute_result"
    }
   ],
   "source": [
    "#Create a Python program that uses the `filter()` function to select names that start with a specific letter from a list of strings.\n",
    "\n",
    "lst = ['shiv', 'satyam', 'sonu', 'yash', 'amar', 'kalu']\n",
    "\n",
    "list(filter(lambda x: x.startswith('s') , lst))\n"
   ]
  },
  {
   "cell_type": "code",
   "execution_count": 15,
   "id": "fc8a20d9-8b88-42c2-a293-be17b0b18fc2",
   "metadata": {},
   "outputs": [
    {
     "name": "stdout",
     "output_type": "stream",
     "text": [
      "[2, 3, 5, 7, 11, 13]\n"
     ]
    }
   ],
   "source": [
    "#Write a Python program that uses the `filter()` function to select prime numbers from a list of integers.\n",
    "\n",
    "numbers = [2, 3, 4, 5, 6, 7, 8, 9, 10, 11, 12, 13, 14, 15]\n",
    "\n",
    "prime_numbers = list(filter(lambda x: all(x % i != 0 for i in range(2, int(x**0.5) + 1)) and x > 1, numbers))\n",
    "print(prime_numbers)\n",
    "\n"
   ]
  },
  {
   "cell_type": "code",
   "execution_count": 26,
   "id": "8b2bf847-12bc-40a8-96fe-48be301e1baa",
   "metadata": {},
   "outputs": [
    {
     "data": {
      "text/plain": [
       "[1, 3, 4, 34, 54, 21, 22, 'shiv']"
      ]
     },
     "execution_count": 26,
     "metadata": {},
     "output_type": "execute_result"
    }
   ],
   "source": [
    "#How can you use the `filter()` function to remove None values from a list in Python?\n",
    "\n",
    "lst = [1, 3, 4, None, 34, 54, 21, 22,'shiv']\n",
    "\n",
    "list(filter(lambda x : x is not None, lst))\n",
    "\n"
   ]
  },
  {
   "cell_type": "code",
   "execution_count": 17,
   "id": "7e0b52d9-7bbb-41de-bee3-aea6f71cabe8",
   "metadata": {},
   "outputs": [
    {
     "data": {
      "text/plain": [
       "['satyam']"
      ]
     },
     "execution_count": 17,
     "metadata": {},
     "output_type": "execute_result"
    }
   ],
   "source": [
    "#Create a Python program that uses `filter()` to select words longer than a certain length from a list of strings.\n",
    "lst = ['shiv', 'satyam', 'sonu', 'yash', 'amar', 'kalu']\n",
    "\n",
    "list(filter(lambda x: len(x) > 4, lst))\n",
    "\n"
   ]
  },
  {
   "cell_type": "code",
   "execution_count": 27,
   "id": "dd84e99a-faa3-48f3-93b8-9f495f2d1029",
   "metadata": {},
   "outputs": [
    {
     "data": {
      "text/plain": [
       "[54]"
      ]
     },
     "execution_count": 27,
     "metadata": {},
     "output_type": "execute_result"
    }
   ],
   "source": [
    "#Write a Python program that uses the `filter()` function to select elements greater than a specified threshold from a list of values.\n",
    "\n",
    "lst = [1, 3, 4, 34, 54, 21, 22]\n",
    "\n",
    "list(filter(lambda x : x > 40, lst))\n",
    "\n"
   ]
  },
  {
   "cell_type": "code",
   "execution_count": null,
   "id": "e9d42859-61f4-4904-b02f-419604dfbf92",
   "metadata": {},
   "outputs": [],
   "source": [
    "#Explain the concept of recursion in Python. How does it differ from iteration?\n",
    "\n",
    "#Recursion is a programming technique where a function calls itself directly or indirectly in order to solve a problem.\n",
    "\n",
    "#In Python, a recursive function is a function that calls itself within its own definition.\n",
    "\n",
    "#It involves breaking down a problem into smaller, similar subproblems and solving each subproblem using the same algorithm.\n",
    "\n",
    "#Recursion consists of two parts: a base case that defines the terminating condition and one or more recursive cases that break the problem \n",
    "    #down into smaller parts until reaching the base case\n"
   ]
  },
  {
   "cell_type": "code",
   "execution_count": 33,
   "id": "56e6cf8e-b227-4d68-817e-52107033143c",
   "metadata": {},
   "outputs": [
    {
     "data": {
      "text/plain": [
       "120"
      ]
     },
     "execution_count": 33,
     "metadata": {},
     "output_type": "execute_result"
    }
   ],
   "source": [
    "#Write a Python program to calculate the factorial of a number using recursion.\n",
    "\n",
    "num = 5\n",
    "\n",
    "def factorial(num):\n",
    "    if num == 0 or num ==1 :\n",
    "        return 1\n",
    "    else :\n",
    "        return num * factorial(num-1)\n",
    "\n",
    "factorial(5)\n",
    "    "
   ]
  },
  {
   "cell_type": "code",
   "execution_count": 35,
   "id": "7bcb7227-fcba-499a-980c-3ca31bb3748b",
   "metadata": {},
   "outputs": [
    {
     "data": {
      "text/plain": [
       "8"
      ]
     },
     "execution_count": 35,
     "metadata": {},
     "output_type": "execute_result"
    }
   ],
   "source": [
    "#Create a recursive Python function to find the nth Fibonacci number.\n",
    "\n",
    "def fibonacci(n):\n",
    "    if n <= 0:\n",
    "        return \"Invalid input.\"\n",
    "    elif n == 1:\n",
    "        return 0\n",
    "    elif n == 2:\n",
    "        return 1\n",
    "    else:\n",
    "        return fibonacci(n - 1) + fibonacci(n - 2)\n",
    "\n",
    "result = fibonacci(7)\n",
    "\n",
    "result"
   ]
  },
  {
   "cell_type": "code",
   "execution_count": 40,
   "id": "65eb7f60-2f13-408e-a9fd-065a63c7ed40",
   "metadata": {},
   "outputs": [
    {
     "data": {
      "text/plain": [
       "36"
      ]
     },
     "execution_count": 40,
     "metadata": {},
     "output_type": "execute_result"
    }
   ],
   "source": [
    "#Write a recursive Python function to calculate the sum of all elements in a list.\n",
    "\n",
    "lst = [1,2,3,4,5,6,7,8]\n",
    "\n",
    "def sum_elements(lst):\n",
    "    if len(lst) == 1:\n",
    "        return lst[0]\n",
    "    else :\n",
    "        return lst[0] + sum_elements(lst[1:])\n",
    "    \n",
    "sum_elements(lst)\n",
    "    "
   ]
  },
  {
   "cell_type": "code",
   "execution_count": 41,
   "id": "4d7c86e2-fc7d-4b6a-9d00-e522ab4c2154",
   "metadata": {},
   "outputs": [],
   "source": [
    "#How can you prevent a recursive function from running indefinitely, causing a stack overflow error?\n",
    "\n",
    "# this is achived by putting base condition in the function  \n"
   ]
  },
  {
   "cell_type": "code",
   "execution_count": 42,
   "id": "3ddb7b7f-be6d-4887-9b14-5d4c35d671dc",
   "metadata": {},
   "outputs": [
    {
     "data": {
      "text/plain": [
       "6"
      ]
     },
     "execution_count": 42,
     "metadata": {},
     "output_type": "execute_result"
    }
   ],
   "source": [
    "#Create a recursive Python function to find the greatest common divisor (GCD) of two numbers using the Euclidean algorithm.\n",
    "\n",
    "def gcd(a, b):\n",
    "    if b == 0:\n",
    "        return a\n",
    "    else:\n",
    "        return gcd(b, a % b)\n",
    "\n",
    "number1 = 48\n",
    "number2 = 18\n",
    "result = gcd(number1, number2)\n",
    "\n",
    "result"
   ]
  },
  {
   "cell_type": "code",
   "execution_count": 59,
   "id": "3d37dab7-89d8-4439-b80d-a3a2286b4226",
   "metadata": {},
   "outputs": [
    {
     "data": {
      "text/plain": [
       "'attadvihs'"
      ]
     },
     "execution_count": 59,
     "metadata": {},
     "output_type": "execute_result"
    }
   ],
   "source": [
    "#Write a recursive Python function to reverse a string.\n",
    "\n",
    "text = 'shivdatta'\n",
    "\n",
    "def reverse(text):\n",
    "    if len(text) == 1:\n",
    "        return text[0]\n",
    "    else :\n",
    "        return text[::-1][0] + reverse(text[:-1])\n",
    "        \n",
    "        \n",
    "reverse(text)\n"
   ]
  },
  {
   "cell_type": "code",
   "execution_count": 60,
   "id": "0f1fcf8f-a4af-4e7c-af9c-47cf27b0fb12",
   "metadata": {},
   "outputs": [
    {
     "data": {
      "text/plain": [
       "64"
      ]
     },
     "execution_count": 60,
     "metadata": {},
     "output_type": "execute_result"
    }
   ],
   "source": [
    "#Create a recursive Python function to calculate the power of a number (x^n).\n",
    "\n",
    "def power(x, n):\n",
    "    if n == 0:\n",
    "        return 1\n",
    "    else:\n",
    "        return x * power(x, n - 1)\n",
    "    \n",
    "power(4, 3)\n",
    "\n"
   ]
  },
  {
   "cell_type": "code",
   "execution_count": 6,
   "id": "5ac12cdc-7d25-4b13-b72b-0871acf56ccd",
   "metadata": {},
   "outputs": [
    {
     "data": {
      "text/plain": [
       "362880"
      ]
     },
     "execution_count": 6,
     "metadata": {},
     "output_type": "execute_result"
    }
   ],
   "source": [
    "#Write a recursive Python function to find all permutations of a given string.\n",
    "\n",
    "def permutations(s):\n",
    "    if len(s) <= 1:\n",
    "        return [s]\n",
    "    else:\n",
    "        perms = []\n",
    "        for i, char in enumerate(s):\n",
    "            remaining_chars = s[:i] + s[i+1:]\n",
    "            sub_perms = permutations(remaining_chars)\n",
    "            for perm in sub_perms:\n",
    "                perms.append(char + perm)\n",
    "        return perms\n",
    "\n",
    "# Example usage:\n",
    "input_string = \"shivdatta\"\n",
    "result = permutations(input_string)\n",
    "\n",
    "len(result)"
   ]
  },
  {
   "cell_type": "code",
   "execution_count": 3,
   "id": "17e0cb3b-0fb0-4bf0-9475-b62e83eb57c2",
   "metadata": {},
   "outputs": [
    {
     "name": "stdout",
     "output_type": "stream",
     "text": [
      "level is a palindrome\n"
     ]
    }
   ],
   "source": [
    "#Write a recursive Python function to check if a string is a palindrome.\n",
    "\n",
    "string = 'level'\n",
    "\n",
    "def palindrome_check(string):\n",
    "    if len(string) == 1:\n",
    "        return string\n",
    "    else :\n",
    "        return string[::-1][0] + palindrome_check(string[:-1])\n",
    "        \n",
    "result = palindrome_check(string)\n",
    "\n",
    "if result == string :\n",
    "    print(f'{string} is a palindrome')\n",
    "else :\n",
    "    print(f'{string} is not a palindrome')\n"
   ]
  },
  {
   "cell_type": "code",
   "execution_count": 7,
   "id": "4f1f7e2e-27c8-4b57-bec4-da3433e1eaec",
   "metadata": {},
   "outputs": [
    {
     "name": "stdout",
     "output_type": "stream",
     "text": [
      "All combinations of length 2 from [1, 2, 3, 4] are:\n",
      "[1, 2]\n",
      "[1, 3]\n",
      "[1, 4]\n",
      "[2, 3]\n",
      "[2, 4]\n",
      "[3, 4]\n"
     ]
    }
   ],
   "source": [
    "#Create a recursive Python function to generate all possible combinations of a list of elements.\n",
    "\n",
    "def combinations(lst, k, start=0, current=[]):\n",
    "    if len(current) == k:\n",
    "        print(current)\n",
    "        return\n",
    "\n",
    "    for i in range(start, len(lst)):\n",
    "        current.append(lst[i])\n",
    "        combinations(lst, k, i + 1, current)\n",
    "        current.pop()\n",
    "\n",
    "elements = [1, 2, 3, 4]\n",
    "k = 2  \n",
    "print(f\"All combinations of length {k} from {elements} are:\")\n",
    "combinations(elements, k)\n",
    "\n"
   ]
  },
  {
   "cell_type": "code",
   "execution_count": null,
   "id": "eaa0df82-c8b3-4833-ac95-224237bac0b8",
   "metadata": {},
   "outputs": [],
   "source": [
    "#What is a function in Python, and why is it used?\n",
    "\n",
    "#function in python are set of objects which have a specific input to be provided and based on the operations coded inside they will perform them\n",
    "#on the input \n",
    "\n",
    "#func are handy becoz they are easy to call and we perform same opeartion many times wthout have to write it multiple times  "
   ]
  },
  {
   "cell_type": "code",
   "execution_count": 8,
   "id": "a0ef6920-e1c3-4e42-a2c2-3a7351ee0887",
   "metadata": {},
   "outputs": [
    {
     "data": {
      "text/plain": [
       "7"
      ]
     },
     "execution_count": 8,
     "metadata": {},
     "output_type": "execute_result"
    }
   ],
   "source": [
    "#How do you define a function in Python? Provide an example.\n",
    "\n",
    "def add_num(a,b):\n",
    "    return a+b\n",
    "\n",
    "add_num(3,4)\n",
    "\n"
   ]
  },
  {
   "cell_type": "code",
   "execution_count": null,
   "id": "fae4ab61-f756-486b-b34a-8e18258b2108",
   "metadata": {},
   "outputs": [],
   "source": [
    "#Explain the difference between a function definition and a function call.\n",
    "\n",
    "def add_num(a,b):\n",
    "    return a+b\n",
    "\n",
    "# above is func definition where we are defining the objective of the function\n",
    "\n",
    "# below is the method of calling the func which is known as func call \n",
    "add_num(3,4)\n"
   ]
  },
  {
   "cell_type": "code",
   "execution_count": null,
   "id": "c0727231-9ebe-49dc-badc-f47c490505fe",
   "metadata": {},
   "outputs": [],
   "source": [
    "#Write a Python program that defines a function to calculate the sum of two numbers and then calls the function.\n",
    "def add_num(a,b):\n",
    "    return a+b\n",
    "\n",
    "add_num(3,4)\n"
   ]
  },
  {
   "cell_type": "code",
   "execution_count": null,
   "id": "095350a5-dba1-4768-82bb-741b58faac07",
   "metadata": {},
   "outputs": [],
   "source": [
    "#What is a function signature, and what information does it typically include?\n",
    "\n",
    "def add_num(a,b):\n",
    "    return a+b\n",
    "\n",
    "#signature inculdes the arguments that functions takes, functions name and what does it will return \n",
    "\n"
   ]
  },
  {
   "cell_type": "code",
   "execution_count": 9,
   "id": "57c56b78-9b5b-4bd9-98e5-627d2ece6984",
   "metadata": {},
   "outputs": [
    {
     "data": {
      "text/plain": [
       "12"
      ]
     },
     "execution_count": 9,
     "metadata": {},
     "output_type": "execute_result"
    }
   ],
   "source": [
    "#Create a Python function that takes two arguments and returns their product.\n",
    "\n",
    "def product(a,b):\n",
    "    return a * b\n",
    "\n",
    "product(3,4)"
   ]
  },
  {
   "cell_type": "code",
   "execution_count": null,
   "id": "2bee000c-e71a-4adf-844f-abd042af4b3e",
   "metadata": {},
   "outputs": [],
   "source": [
    "#Explain the concepts of formal parameters and actual arguments in Python functions.\n",
    "\n",
    "def product(a,b):\n",
    "    return a * b\n",
    "\n",
    "# formal params are the aruguments of the functions they are act as placeholders for the data that will be entered\n",
    "\n",
    "# whereas actual params are shown below where you can see 3,4 are the parameters that we want operations to be performed  \n",
    "product(3,4)"
   ]
  },
  {
   "cell_type": "code",
   "execution_count": 11,
   "id": "22bad11b-560b-4598-83ee-465501a67792",
   "metadata": {},
   "outputs": [
    {
     "data": {
      "text/plain": [
       "12"
      ]
     },
     "execution_count": 11,
     "metadata": {},
     "output_type": "execute_result"
    }
   ],
   "source": [
    "#Write a Python program that defines a function with default argument values.\n",
    "\n",
    "def product(b, a = 3 ):\n",
    "    return a * b\n",
    "\n",
    "product(4)"
   ]
  },
  {
   "cell_type": "code",
   "execution_count": 13,
   "id": "61f775fe-0f54-4227-bdb5-3a8a461100cb",
   "metadata": {},
   "outputs": [
    {
     "name": "stdout",
     "output_type": "stream",
     "text": [
      "You are great, PWSKILLS!\n"
     ]
    }
   ],
   "source": [
    "#How do you use keyword arguments in Python function calls? Provide an example.\n",
    "\n",
    "def skills(name, message):\n",
    "    print(f\"{message}, {name}!\")\n",
    "\n",
    "# Using keyword arguments in function calls\n",
    "skills(name='PWSKILLS', message='You are great')"
   ]
  },
  {
   "cell_type": "code",
   "execution_count": 15,
   "id": "2d5ee863-b7a2-4978-8321-8e2d2788f5e5",
   "metadata": {},
   "outputs": [
    {
     "data": {
      "text/plain": [
       "21"
      ]
     },
     "execution_count": 15,
     "metadata": {},
     "output_type": "execute_result"
    }
   ],
   "source": [
    "#Create a Python function that accepts a variable number of arguments and calculates their sum.\n",
    "\n",
    "def calculate_sum(*args):\n",
    "    return sum(args)\n",
    "\n",
    "calculate_sum(1,2,3,4,5,6)\n"
   ]
  },
  {
   "cell_type": "code",
   "execution_count": 20,
   "id": "67c00c16-eade-49ea-a553-4f262afe96b9",
   "metadata": {},
   "outputs": [],
   "source": [
    "#What is the purpose of the `*args` and `**kwargs` syntax in function parameter lists?\n",
    "\n",
    "# *args is used when we want to enter multiple values which are not fixed everytime \n",
    "\n",
    "# **kwargs is used when we want to enter multiple variable values which are not fixed everytime, it is entered interms of dictionary form "
   ]
  },
  {
   "cell_type": "code",
   "execution_count": null,
   "id": "bdf6d4b5-b38d-4123-afb2-fc368afadb48",
   "metadata": {},
   "outputs": [],
   "source": [
    "#Describe the role of the `return` statement in Python functions and provide examples.\n",
    "\n",
    "#return helps us to return the output that is being coded after the return the keyword \n"
   ]
  },
  {
   "cell_type": "code",
   "execution_count": 30,
   "id": "103a4705-f6f9-4927-b2fc-73bcd3ecc240",
   "metadata": {},
   "outputs": [
    {
     "data": {
      "text/plain": [
       "30"
      ]
     },
     "execution_count": 30,
     "metadata": {},
     "output_type": "execute_result"
    }
   ],
   "source": [
    "# Explain the concept of variable scope in Python, including local and global variables.\n",
    "\n",
    "#Variable scope in Python refers to the visibility and accessibility of variables within different parts of a program\n",
    "\n",
    "#local variable\n",
    "\n",
    "def calculate_sum(a,b):\n",
    "    x = 10 # you can only access x locally \n",
    "    return (a + b) * (x) \n",
    "\n",
    "calculate_sum(1,2)\n",
    "\n",
    "\n",
    "x = 10 # you can only access x globally \n",
    "\n",
    "def calculate_sum(a,b):\n",
    "    return (a + b) * (x) \n",
    "\n",
    "calculate_sum(1,2)\n"
   ]
  },
  {
   "cell_type": "code",
   "execution_count": null,
   "id": "5bdc4531-9267-4546-b0c8-8037e8337cf6",
   "metadata": {},
   "outputs": [],
   "source": [
    "#Write a Python program that demonstrates the use of global variables within functions.\n",
    "x = 10 # you can only access x globally \n",
    "\n",
    "def calculate_sum(a,b):\n",
    "    return (a + b) * (x) \n",
    "\n",
    "calculate_sum(1,2)\n"
   ]
  },
  {
   "cell_type": "code",
   "execution_count": 35,
   "id": "361ff485-5a90-4404-a0a3-6a4fdcc74767",
   "metadata": {},
   "outputs": [
    {
     "data": {
      "text/plain": [
       "120"
      ]
     },
     "execution_count": 35,
     "metadata": {},
     "output_type": "execute_result"
    }
   ],
   "source": [
    "#Create a Python function that calculates the factorial of a number and returns it.\n",
    "\n",
    "num = 3\n",
    "\n",
    "def factorial(num):\n",
    "    facto = 1\n",
    "    for i in range(1, num + 1):\n",
    "        facto *= i\n",
    "    return facto\n",
    "\n",
    "result = factorial(5)\n",
    "result"
   ]
  },
  {
   "cell_type": "code",
   "execution_count": 36,
   "id": "da9cf7af-22eb-401a-8851-14dc431fe075",
   "metadata": {},
   "outputs": [
    {
     "name": "stdout",
     "output_type": "stream",
     "text": [
      "30\n"
     ]
    }
   ],
   "source": [
    "#How can you access variables defined outside a function from within the function?\n",
    "x = 10 # you can only access x globally \n",
    "\n",
    "def calculate_sum(a,b):\n",
    "    return (a + b) * (x) \n",
    "\n",
    "calculate_sum(1,2)\n",
    "\n",
    "x = 10  # Global variable\n",
    "\n",
    "def calculate_sum(a, b):\n",
    "    global x  \n",
    "    return (a + b) * x\n",
    "\n",
    "result = calculate_sum(1, 2)\n",
    "print(result)  \n"
   ]
  },
  {
   "cell_type": "code",
   "execution_count": null,
   "id": "e8936f5f-c1fe-46a8-b622-efdc36e5d8ed",
   "metadata": {},
   "outputs": [],
   "source": [
    "#What are lambda functions in Python, and when are they typically used?\n",
    "\n",
    "#lambda are very simple function that are used within the operations , they do not require def keyword also they are only accsible within that code\n",
    "# lambda function can take any no of arguments but they only allow single expression to be made\n"
   ]
  },
  {
   "cell_type": "code",
   "execution_count": 10,
   "id": "a853c70e-bb0d-419c-adbd-a57cefe66c06",
   "metadata": {},
   "outputs": [
    {
     "data": {
      "text/plain": [
       "[(1, 1), (1, 2), (2, 4), (4, 5), (9, 8)]"
      ]
     },
     "execution_count": 10,
     "metadata": {},
     "output_type": "execute_result"
    }
   ],
   "source": [
    "#Write a Python program that uses lambda functions to sort a list of tuples based on the second element.\n",
    "\n",
    "tuples = [(1,2),(2,4),(4,5),(9,8),(1,1)]\n",
    "\n",
    "sorted(tuples, key = lambda x : x[1])\n"
   ]
  },
  {
   "cell_type": "code",
   "execution_count": 12,
   "id": "d2dab8b3-528f-4160-8c78-562156f43a8b",
   "metadata": {},
   "outputs": [
    {
     "data": {
      "text/plain": [
       "10"
      ]
     },
     "execution_count": 12,
     "metadata": {},
     "output_type": "execute_result"
    }
   ],
   "source": [
    "#Create a Python function that takes a list of numbers and a function as arguments, applying the function to each element in the list.\n",
    "\n",
    "def add(a,b):\n",
    "    return a+b\n",
    "\n",
    "def apply_operation(lst):\n",
    "    return add(lst[0],lst[1])\n",
    "\n",
    "lst = [4,6,7,5,9]\n",
    "\n",
    "apply_operation(lst)"
   ]
  },
  {
   "cell_type": "code",
   "execution_count": null,
   "id": "62992fc6-82bd-4ddf-8676-98351c4731fb",
   "metadata": {},
   "outputs": [],
   "source": [
    "#Describe the role of built-in functions like `len()`, `max()`, and `min()` in Python.\n",
    "\n",
    "#len(): This function is used to determine the length or the number of elements in various \n",
    "    #data structures such as strings, lists, tuples, dictionaries, and sets\n",
    "\n",
    "# Max(): It returns the maximum value among the elements in an iterable or among the provided arguments.    \n",
    "    \n",
    "# Min(): returns the minimum value among the elements in an iterable or among the provided arguments based on their natural ordering    "
   ]
  },
  {
   "cell_type": "code",
   "execution_count": 18,
   "id": "dc5694df-16a9-4719-86cc-2fe70b27f9ee",
   "metadata": {},
   "outputs": [
    {
     "name": "stdout",
     "output_type": "stream",
     "text": [
      "[2, 5, 3]\n"
     ]
    }
   ],
   "source": [
    "#Write a Python program that uses the `map()` function to apply a function to each element of a list.\n",
    "\n",
    "lst = [1, 2]\n",
    "lst1 = [5, 2, 3, 4, 5]\n",
    "lst3 = [2, 3, 4]\n",
    "\n",
    "result = list(map(len, [lst, lst1, lst3]))\n",
    "print(result)\n"
   ]
  },
  {
   "cell_type": "code",
   "execution_count": null,
   "id": "2a03daff-293d-4050-b311-0e2bd984344c",
   "metadata": {},
   "outputs": [],
   "source": [
    "#How does the `filter()` function work in Python, and when would you use it?\n",
    "\n",
    "#this function is used to filter objects based on some condition it as extention to map and reduce  \n"
   ]
  },
  {
   "cell_type": "code",
   "execution_count": 21,
   "id": "bcd8fa94-2593-4541-9071-299f0d9d8d33",
   "metadata": {},
   "outputs": [
    {
     "data": {
      "text/plain": [
       "600"
      ]
     },
     "execution_count": 21,
     "metadata": {},
     "output_type": "execute_result"
    }
   ],
   "source": [
    "#Create a Python program that uses the `reduce()` function to find the product of all elements in a list.\n",
    "\n",
    "from functools import reduce\n",
    "\n",
    "lst1 = [5, 2, 3, 4, 5]\n",
    "\n",
    "reduce(lambda x,y : x*y, lst1)"
   ]
  },
  {
   "cell_type": "code",
   "execution_count": 22,
   "id": "43a32360-6118-46de-8dd4-803504324d72",
   "metadata": {},
   "outputs": [],
   "source": [
    "#Explain the purpose of docstrings in Python functions and how to write them.\n",
    "\n",
    "#they are used to to document the code/text , they can also be used to provide any infomration that user needs to reads within the code \n"
   ]
  },
  {
   "cell_type": "code",
   "execution_count": null,
   "id": "9a102b2e-49b4-4f15-b2cf-2d08f723a6d1",
   "metadata": {},
   "outputs": [],
   "source": [
    "#Describe some best practices for naming functions and variables in Python, including naming conventions and guidelines.\n",
    "\n",
    "#proper mentions of functions\n",
    "\n",
    "def calculate_sum() #good\n",
    "\n",
    "def cal() #bad\n",
    "\n",
    "#proper naming of variables\n",
    "average_list = (#code) #good\n",
    "    \n",
    "avg = (#code) #bad\n",
    "    \n",
    "#caps of variables \n",
    "def calculate_sum() #good\n",
    "\n",
    "def Calculate_sum() #bad\n",
    "\n",
    "    \n",
    "#use of actual function in naming\n",
    "    \n",
    "def sum() #bad\n",
    "    \n",
    "    \n"
   ]
  },
  {
   "cell_type": "code",
   "execution_count": null,
   "id": "8ad4da23-8151-4c67-9a6d-f63c2d394505",
   "metadata": {},
   "outputs": [],
   "source": []
  },
  {
   "cell_type": "code",
   "execution_count": null,
   "id": "35c14996-8097-4b08-919d-922382123f50",
   "metadata": {},
   "outputs": [],
   "source": []
  },
  {
   "cell_type": "code",
   "execution_count": null,
   "id": "c748c40f-cce4-4e13-97d7-9e2015166fbf",
   "metadata": {},
   "outputs": [],
   "source": []
  }
 ],
 "metadata": {
  "kernelspec": {
   "display_name": "Python 3 (ipykernel)",
   "language": "python",
   "name": "python3"
  },
  "language_info": {
   "codemirror_mode": {
    "name": "ipython",
    "version": 3
   },
   "file_extension": ".py",
   "mimetype": "text/x-python",
   "name": "python",
   "nbconvert_exporter": "python",
   "pygments_lexer": "ipython3",
   "version": "3.10.8"
  }
 },
 "nbformat": 4,
 "nbformat_minor": 5
}
