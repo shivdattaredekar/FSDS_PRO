{
 "cells": [
  {
   "cell_type": "code",
   "execution_count": null,
   "id": "b8b9d516-9c48-4c77-a2fa-b91ee4740074",
   "metadata": {},
   "outputs": [],
   "source": [
    "# 1. What is a Python library? Why do we use Python libraries?\n",
    "\n",
    "In library there are prewritten functions, classes that are useful for variouse opreation one wnats to perform on the data.\n",
    "Libraries are created specific task wise visualsation libs, libs for machine learning \n",
    "They are handy becasue they contain all the codes kept at one place and very useful and easy to call them out whenver we are working  \n",
    "\n"
   ]
  },
  {
   "cell_type": "code",
   "execution_count": null,
   "id": "7ab97236-7833-42c9-a6ab-18ba4bf77d06",
   "metadata": {},
   "outputs": [],
   "source": [
    "#2. What is the ^ifference between Numpy array an^ List?\n",
    "\n",
    "Numpy arrys can only store the data of same data type, whereas list can store multiple data types \n",
    "NumPy arrays are more memory efficient compared to Python lists, especially for large datasets, because they store data in contiguous memory blocks\n",
    "Python lists are slower for numerical computations compared to arrays \n",
    "NumPy arrays offer a wide range of mathematical functions and operations optimized for arrays, such as element-wise operations, linear algebra whereas list dont\n",
    "\n",
    "\n"
   ]
  },
  {
   "cell_type": "code",
   "execution_count": 9,
   "id": "bb6dcbfd-1375-4c50-9562-050736343380",
   "metadata": {},
   "outputs": [
    {
     "name": "stdout",
     "output_type": "stream",
     "text": [
      "(3, 4)\n",
      "12\n"
     ]
    }
   ],
   "source": [
    "# 3. Fin^ the shape, size an^ ^imension of the following array?\n",
    "\n",
    "import numpy as np\n",
    "\n",
    "A = [[1, 2, 3, 4],\n",
    "    [5, 6, 7, 8],\n",
    "    [9, 10, 11, 12]]\n",
    "\n",
    "print(np.array(A).shape)\n",
    "print(np.array(A).size)"
   ]
  },
  {
   "cell_type": "code",
   "execution_count": 11,
   "id": "ba830a8b-3ab6-47be-897a-e832d02363f5",
   "metadata": {},
   "outputs": [
    {
     "data": {
      "text/plain": [
       "array([1, 2, 3, 4])"
      ]
     },
     "execution_count": 11,
     "metadata": {},
     "output_type": "execute_result"
    }
   ],
   "source": [
    "#4. Write python co^e to access the first row of the following array?\n",
    "\n",
    "A = [[1, 2, 3, 4],\n",
    "    [5, 6, 7, 8],\n",
    "    [9, 10, 11, 12]]\n",
    "\n",
    "np.array(A)[0]"
   ]
  },
  {
   "cell_type": "code",
   "execution_count": 13,
   "id": "35ac09b6-6814-4c1a-a8a8-73c8ccd6f2fb",
   "metadata": {},
   "outputs": [
    {
     "data": {
      "text/plain": [
       "12"
      ]
     },
     "execution_count": 13,
     "metadata": {},
     "output_type": "execute_result"
    }
   ],
   "source": [
    "#5. How ^o you access the element at the thir^ row an^ fourth column from the given numpy array?\n",
    "A = [[1, 2, 3, 4],\n",
    "    [5, 6, 7, 8],\n",
    "    [9, 10, 11, 12]]\n",
    "\n",
    "np.array(A)[2,3]"
   ]
  },
  {
   "cell_type": "code",
   "execution_count": 20,
   "id": "69da8f22-bea7-40b5-97e3-f0bc16fe3a6b",
   "metadata": {},
   "outputs": [
    {
     "data": {
      "text/plain": [
       "array([[ 2,  4],\n",
       "       [ 6,  8],\n",
       "       [10, 12]])"
      ]
     },
     "execution_count": 20,
     "metadata": {},
     "output_type": "execute_result"
    }
   ],
   "source": [
    "#6.  Write co^e to extract all odd-indexed elements from the given numpy array?\n",
    "\n",
    "A = [[1, 2, 3, 4],\n",
    "    [5, 6, 7, 8],\n",
    "    [9, 10, 11, 12]]\n",
    "\n",
    "np.array(A)[:,1::2]"
   ]
  },
  {
   "cell_type": "code",
   "execution_count": 23,
   "id": "3d8ac654-6063-436f-95f9-367a6da06cbb",
   "metadata": {},
   "outputs": [
    {
     "data": {
      "text/plain": [
       "array([[0.01554278, 0.24344004, 0.20340594],\n",
       "       [0.21337519, 0.54439101, 0.89086457],\n",
       "       [0.13558615, 0.46173983, 0.46580407]])"
      ]
     },
     "execution_count": 23,
     "metadata": {},
     "output_type": "execute_result"
    }
   ],
   "source": [
    "#7. How can you generate a ran^om 3x3 matrix with values between 0 an^ 1?\n",
    "\n",
    "np.random.rand(3, 3)"
   ]
  },
  {
   "cell_type": "code",
   "execution_count": null,
   "id": "88d49f52-0082-474a-9c7e-f2273ab4ef58",
   "metadata": {},
   "outputs": [],
   "source": [
    "#8. Describe the difference between np.random.rand and np.random.randn?\n",
    "\n",
    "np.random.rand: generates numbers likely to be any value in the range [0, 1].\n",
    "\n",
    "np.random.randn: Generates random numbers from a standard normal distribution (mean = 0, standard deviation = 1).\n",
    "\n",
    "\n"
   ]
  },
  {
   "cell_type": "code",
   "execution_count": 25,
   "id": "7235813f-1c09-40a8-b0b7-410407f7b2b9",
   "metadata": {},
   "outputs": [
    {
     "name": "stdout",
     "output_type": "stream",
     "text": [
      "[[1, 2, 3, 4], [5, 6, 7, 8], [9, 10, 11, 12]]\n",
      "[[[ 1]\n",
      "  [ 2]\n",
      "  [ 3]\n",
      "  [ 4]]\n",
      "\n",
      " [[ 5]\n",
      "  [ 6]\n",
      "  [ 7]\n",
      "  [ 8]]\n",
      "\n",
      " [[ 9]\n",
      "  [10]\n",
      "  [11]\n",
      "  [12]]]\n"
     ]
    }
   ],
   "source": [
    "#9. Write co^e to increase the ^imension of the following array?\n",
    "\n",
    "A = [[1, 2, 3, 4],\n",
    "    [5, 6, 7, 8],\n",
    "    [9, 10, 11, 12]]\n",
    "\n",
    "\n",
    "# Increase dimension using np.expand_dims()\n",
    "A_expanded = np.expand_dims(A, axis=2)\n",
    "\n",
    "print(A)\n",
    "print(A_expanded)\n"
   ]
  },
  {
   "cell_type": "code",
   "execution_count": 27,
   "id": "806d05a9-2582-4a1f-9878-6e5865cacd3b",
   "metadata": {},
   "outputs": [
    {
     "name": "stdout",
     "output_type": "stream",
     "text": [
      "[[ 1  5  9]\n",
      " [ 2  6 10]\n",
      " [ 3  7 11]\n",
      " [ 4  8 12]]\n",
      "[[ 1  5  9]\n",
      " [ 2  6 10]\n",
      " [ 3  7 11]\n",
      " [ 4  8 12]]\n"
     ]
    }
   ],
   "source": [
    "#10. How to transpose the following array in NumPy?\n",
    "\n",
    "A = [[1, 2, 3, 4],\n",
    "    [5, 6, 7, 8],\n",
    "    [9, 10, 11, 12]]\n",
    "\n",
    "print(np.array(A).transpose())\n",
    "print(np.array(A).T)"
   ]
  },
  {
   "cell_type": "code",
   "execution_count": null,
   "id": "644c7df4-0fe2-4197-a379-1f8ea47a07b3",
   "metadata": {},
   "outputs": [],
   "source": [
    "11. Consi^er the following matrix:\n",
    "\n",
    "Matrix A2 [[1, 2, 3, 4] [5, 6, 7, 8],[9, 10, 11, 12]]\n",
    "\n",
    "Matrix B2 [[1, 2, 3, 4] [5, 6, 7, 8],[9, 10, 11, 12]]\n",
    "\n",
    "\n",
    "Perform the following operation using Python1\n",
    ",+ I(dex wiLe multiplicatio'\n",
    "]+ Mat\u001bix multiplicatio'\n",
    "\u001a+ Add both the mat\u001bicK\n",
    "-+ Subt\u001bact mat\u001bix B \u0014\u001bom \u0011\n",
    "\u0013+ Di\u0012ide Mat\u001bix B by A"
   ]
  },
  {
   "cell_type": "code",
   "execution_count": 28,
   "id": "77f949ee-a2be-4d75-a640-c66661ed91f7",
   "metadata": {},
   "outputs": [
    {
     "name": "stdout",
     "output_type": "stream",
     "text": [
      "[[  1   4   9  16]\n",
      " [ 25  36  49  64]\n",
      " [ 81 100 121 144]]\n",
      "[[ 30  70 110]\n",
      " [ 70 174 278]\n",
      " [110 278 446]]\n",
      "[[ 2  4  6  8]\n",
      " [10 12 14 16]\n",
      " [18 20 22 24]]\n",
      "[[0 0 0 0]\n",
      " [0 0 0 0]\n",
      " [0 0 0 0]]\n",
      "[[1. 1. 1. 1.]\n",
      " [1. 1. 1. 1.]\n",
      " [1. 1. 1. 1.]]\n"
     ]
    }
   ],
   "source": [
    "import numpy as np\n",
    "\n",
    "# Define matrices A2 and B2\n",
    "A2 = np.array([[1, 2, 3, 4],\n",
    "               [5, 6, 7, 8],\n",
    "               [9, 10, 11, 12]])\n",
    "\n",
    "B2 = np.array([[1, 2, 3, 4],\n",
    "               [5, 6, 7, 8],\n",
    "               [9, 10, 11, 12]])\n",
    "\n",
    "index_wise_multiplication = A2 * B2\n",
    "\n",
    "matrix_multiplication = np.dot(A2, B2.T)  \n",
    "\n",
    "matrix_addition = A2 + B2\n",
    "\n",
    "matrix_subtraction = A2 - B2\n",
    "\n",
    "matrix_division = B2 / A2\n",
    "\n",
    "print(index_wise_multiplication)\n",
    "print(matrix_multiplication)\n",
    "print(matrix_addition)\n",
    "print(matrix_subtraction)\n",
    "print(matrix_division)\n"
   ]
  },
  {
   "cell_type": "code",
   "execution_count": null,
   "id": "0b16e4cd-007e-4fbb-a42f-a04c6b516696",
   "metadata": {},
   "outputs": [],
   "source": [
    "#12.  Which function in Numpy can be use^ to swap the byte or^er of an array?\n",
    "np.ndarray.byteswap()"
   ]
  },
  {
   "cell_type": "code",
   "execution_count": 30,
   "id": "f53b76dc-8c6c-47bb-8800-4039031832cf",
   "metadata": {},
   "outputs": [
    {
     "name": "stdout",
     "output_type": "stream",
     "text": [
      "Original array:\n",
      "[1 2 3 4]\n",
      "\n",
      "Array with swapped byte order:\n",
      "[16777216 33554432 50331648 67108864]\n"
     ]
    }
   ],
   "source": [
    "#13.  What is the significance of the np.linalg.inv function?\n",
    " #ans it calculates the inverse of a given matrix\n",
    "    \n",
    "  "
   ]
  },
  {
   "cell_type": "code",
   "execution_count": 31,
   "id": "57e82866-0ffd-46a2-b47b-adc946a2570a",
   "metadata": {},
   "outputs": [
    {
     "name": "stdout",
     "output_type": "stream",
     "text": [
      "[1 2 3 4 5 6]\n",
      "[[1 2 3]\n",
      " [4 5 6]]\n"
     ]
    }
   ],
   "source": [
    "#14. What ^oes the np.reshape function do, and how is it use^?\n",
    "\n",
    "#It reshapes the array into the specified shape while keeping the same elements.\n",
    "\n",
    "arr = np.array([1, 2, 3, 4, 5, 6])\n",
    "\n",
    "reshaped_arr = np.reshape(arr, (2, 3))\n",
    "\n",
    "print(arr)\n",
    "print(reshaped_arr)\n"
   ]
  },
  {
   "cell_type": "code",
   "execution_count": 32,
   "id": "25162911-1c8a-4124-8f02-1248ec35b27c",
   "metadata": {},
   "outputs": [
    {
     "name": "stdout",
     "output_type": "stream",
     "text": [
      "[[1 2 3]\n",
      " [4 5 6]\n",
      " [7 8 9]]\n",
      "[2 2 2]\n",
      "[[ 3  4  5]\n",
      " [ 6  7  8]\n",
      " [ 9 10 11]]\n"
     ]
    }
   ],
   "source": [
    "#15. What is broadcasting in Numpy?\n",
    "\n",
    "#broadcasting is a powerful mechanism that allows arrays of different shapes to be combined in arithmetic operations. \n",
    "#It enables us to perform element-wise operations on arrays of different shapes without explicitly reshaping or duplicating the arrays.\n",
    "\n",
    "arr1 = np.array([[1, 2, 3],\n",
    "                 [4, 5, 6],\n",
    "                 [7, 8, 9]])\n",
    "\n",
    "arr2 = np.array([2, 2, 2])\n",
    "\n",
    "result = arr1 + arr2\n",
    "\n",
    "print(arr1)\n",
    "print(arr2)\n",
    "print(result)\n"
   ]
  },
  {
   "cell_type": "code",
   "execution_count": null,
   "id": "8eb504da-b7cd-460e-b4a2-9114bd2161ba",
   "metadata": {},
   "outputs": [],
   "source": []
  },
  {
   "cell_type": "code",
   "execution_count": null,
   "id": "370c23b1-28f2-4476-8956-51a047243104",
   "metadata": {},
   "outputs": [],
   "source": []
  },
  {
   "cell_type": "code",
   "execution_count": null,
   "id": "3b740710-413d-462b-b3e3-1c9f7a763342",
   "metadata": {},
   "outputs": [],
   "source": []
  },
  {
   "cell_type": "code",
   "execution_count": null,
   "id": "beaf5e5a-7151-4725-b202-fe7a55cd9b1b",
   "metadata": {},
   "outputs": [],
   "source": []
  },
  {
   "cell_type": "code",
   "execution_count": null,
   "id": "5047c94d-6e77-4d88-a2b8-300bb09e6fe8",
   "metadata": {},
   "outputs": [],
   "source": []
  },
  {
   "cell_type": "code",
   "execution_count": null,
   "id": "8fce96d3-b7b5-4497-ac3e-2b79191778cf",
   "metadata": {},
   "outputs": [],
   "source": []
  },
  {
   "cell_type": "code",
   "execution_count": null,
   "id": "e2d7fb0d-2f92-401b-8f4e-b23f0e5c02f7",
   "metadata": {},
   "outputs": [],
   "source": []
  },
  {
   "cell_type": "code",
   "execution_count": null,
   "id": "5107fbaf-1404-4b70-b3be-5cb64b195984",
   "metadata": {},
   "outputs": [],
   "source": []
  },
  {
   "cell_type": "code",
   "execution_count": null,
   "id": "04fc51d2-4467-4bd2-8944-d9c593e89af4",
   "metadata": {},
   "outputs": [],
   "source": []
  },
  {
   "cell_type": "code",
   "execution_count": null,
   "id": "0146091e-0b6c-44e8-9a1b-e81d367a2a47",
   "metadata": {},
   "outputs": [],
   "source": []
  },
  {
   "cell_type": "code",
   "execution_count": null,
   "id": "6e79f20a-8933-4b54-b322-0a727d371f0c",
   "metadata": {},
   "outputs": [],
   "source": []
  },
  {
   "cell_type": "code",
   "execution_count": null,
   "id": "00ffd89d-c576-4a44-aff6-691df732ee55",
   "metadata": {},
   "outputs": [],
   "source": []
  },
  {
   "cell_type": "code",
   "execution_count": null,
   "id": "0aa9779f-8aec-4be8-a52d-39741d9bc544",
   "metadata": {},
   "outputs": [],
   "source": []
  },
  {
   "cell_type": "code",
   "execution_count": null,
   "id": "ae709db6-f7bd-47b2-9b7e-ac595adeedce",
   "metadata": {},
   "outputs": [],
   "source": []
  },
  {
   "cell_type": "code",
   "execution_count": null,
   "id": "82eeb631-8f75-47b0-b294-3ecbe420b99e",
   "metadata": {},
   "outputs": [],
   "source": []
  },
  {
   "cell_type": "code",
   "execution_count": null,
   "id": "3b24d168-57ae-4e19-886e-42fd2d8be141",
   "metadata": {},
   "outputs": [],
   "source": []
  },
  {
   "cell_type": "code",
   "execution_count": null,
   "id": "4aa391e5-ba4a-4c51-b55c-3f299976252f",
   "metadata": {},
   "outputs": [],
   "source": []
  },
  {
   "cell_type": "code",
   "execution_count": null,
   "id": "3b9a5a8e-1dee-42a4-b68f-8d849ecb9c18",
   "metadata": {},
   "outputs": [],
   "source": []
  },
  {
   "cell_type": "code",
   "execution_count": null,
   "id": "871b9dc1-6b6e-49da-bf76-c7644ac0d290",
   "metadata": {},
   "outputs": [],
   "source": []
  },
  {
   "cell_type": "code",
   "execution_count": null,
   "id": "3f2cb066-10aa-41f6-9841-da2b8b599ae6",
   "metadata": {},
   "outputs": [],
   "source": []
  },
  {
   "cell_type": "code",
   "execution_count": null,
   "id": "066de065-e3a2-4e55-a8d6-ab4bea55ad23",
   "metadata": {},
   "outputs": [],
   "source": []
  }
 ],
 "metadata": {
  "kernelspec": {
   "display_name": "Python 3 (ipykernel)",
   "language": "python",
   "name": "python3"
  },
  "language_info": {
   "codemirror_mode": {
    "name": "ipython",
    "version": 3
   },
   "file_extension": ".py",
   "mimetype": "text/x-python",
   "name": "python",
   "nbconvert_exporter": "python",
   "pygments_lexer": "ipython3",
   "version": "3.10.8"
  }
 },
 "nbformat": 4,
 "nbformat_minor": 5
}
