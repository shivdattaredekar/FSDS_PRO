{
 "cells": [
  {
   "cell_type": "markdown",
   "id": "4485ceaf-437b-43ae-a67a-a0626a5be14c",
   "metadata": {},
   "source": [
    "## Assignment For Loop"
   ]
  },
  {
   "cell_type": "code",
   "execution_count": 2,
   "id": "1622e36c-b774-4eda-80a4-74b4765c601c",
   "metadata": {},
   "outputs": [
    {
     "name": "stdout",
     "output_type": "stream",
     "text": [
      "1\n",
      "2\n",
      "3\n",
      "4\n",
      "5\n",
      "6\n",
      "7\n",
      "8\n",
      "9\n",
      "10\n"
     ]
    }
   ],
   "source": [
    "#Write a Python program to print the numbers from 1 to 10 using a `for` loop.\n",
    "\n",
    "for i in range(1,11,1):\n",
    "    print(i)"
   ]
  },
  {
   "cell_type": "code",
   "execution_count": 14,
   "id": "6dfbef20-7aef-4232-8115-4a448d6ef898",
   "metadata": {},
   "outputs": [
    {
     "name": "stdout",
     "output_type": "stream",
     "text": [
      "15\n"
     ]
    }
   ],
   "source": [
    "#Create a program that calculates the sum of all numbers in a list using a `for` loop.\n",
    "\n",
    "list1=[1,2,3,4,5]\n",
    "\n",
    "addition=0\n",
    "\n",
    "for i in list1:\n",
    "    addition += i\n",
    "print(addition)\n",
    "\n"
   ]
  },
  {
   "cell_type": "code",
   "execution_count": 34,
   "id": "5f8f5bb6-89c3-4dba-ba8b-a8bb17b937c7",
   "metadata": {},
   "outputs": [
    {
     "name": "stdout",
     "output_type": "stream",
     "text": [
      "attadvihs\n"
     ]
    }
   ],
   "source": [
    "#Write a program to print the characters of a string in reverse order using a `for` loop.\n",
    "\n",
    "string='shivdatta'\n",
    "\n",
    "reverse=\"\"\n",
    "\n",
    "for i in reversed(string):\n",
    "    reverse+=i\n",
    "print(reverse)\n"
   ]
  },
  {
   "cell_type": "code",
   "execution_count": 74,
   "id": "a62b3831-e985-472e-89ec-250db0f5ff13",
   "metadata": {},
   "outputs": [
    {
     "name": "stdin",
     "output_type": "stream",
     "text": [
      "Enter a number:  4\n"
     ]
    },
    {
     "name": "stdout",
     "output_type": "stream",
     "text": [
      "24\n"
     ]
    }
   ],
   "source": [
    "#Develop a program that finds the factorial of a given number using a `for` loop.\n",
    "num = int(input(\"Enter a number: \"))\n",
    "\n",
    "factorial=1\n",
    "\n",
    "for i in range(1,num+1):\n",
    "    factorial*=i\n",
    "\n",
    "print(factorial)\n"
   ]
  },
  {
   "cell_type": "code",
   "execution_count": 78,
   "id": "5ef525b7-fdd4-4515-8d0f-801f93d362e8",
   "metadata": {},
   "outputs": [
    {
     "name": "stdin",
     "output_type": "stream",
     "text": [
      "Enter a number:  2\n"
     ]
    },
    {
     "name": "stdout",
     "output_type": "stream",
     "text": [
      "2\n",
      "4\n",
      "6\n",
      "8\n",
      "10\n",
      "12\n",
      "14\n",
      "16\n",
      "18\n",
      "20\n"
     ]
    }
   ],
   "source": [
    "#Create a program to print the multiplication table of a given number using a `for` loop.\n",
    "\n",
    "num = int(input(\"Enter a number: \"))\n",
    "\n",
    "table=0\n",
    "\n",
    "for i in range(1,11):\n",
    "    table=num*i\n",
    "    print(table)"
   ]
  },
  {
   "cell_type": "code",
   "execution_count": 91,
   "id": "75db29a0-155f-42d7-aebd-9089b1025cf5",
   "metadata": {},
   "outputs": [
    {
     "name": "stdout",
     "output_type": "stream",
     "text": [
      "5\n",
      "5\n"
     ]
    }
   ],
   "source": [
    "#Write a program that counts the number of even and odd numbers in a list using a `for` loop.\n",
    "\n",
    "list1=[1,2,3,4,5,6,7,8,9,10]\n",
    "\n",
    "count_even=0\n",
    "count_odd=0\n",
    "\n",
    "for i in list1:\n",
    "    if i%2==0:\n",
    "        count_even+=1\n",
    "    else:\n",
    "        count_odd+=1\n",
    "        \n",
    "print(count_even)\n",
    "print(count_odd)\n",
    "        \n",
    "    \n",
    "\n"
   ]
  },
  {
   "cell_type": "code",
   "execution_count": 96,
   "id": "b0f82bc5-ba6f-4257-9e67-935b0fc7a3b4",
   "metadata": {},
   "outputs": [
    {
     "name": "stdin",
     "output_type": "stream",
     "text": [
      "number 1:  1\n",
      "number 2:  5\n"
     ]
    },
    {
     "name": "stdout",
     "output_type": "stream",
     "text": [
      "1\n",
      "4\n",
      "9\n",
      "16\n",
      "25\n"
     ]
    }
   ],
   "source": [
    "#Develop a program that prints the squares of numbers from 1 to 5 using a `for` loop.\n",
    "\n",
    "num1 = int(input(\"number 1: \"))\n",
    "num2 = int(input(\"number 2: \"))\n",
    "\n",
    "table=0\n",
    "\n",
    "for i in range(num1,(num2)+1):\n",
    "    table=i*i\n",
    "    print(table)\n",
    "\n",
    "    "
   ]
  },
  {
   "cell_type": "code",
   "execution_count": 100,
   "id": "e8a6e80e-487f-40ba-abc5-4fb41a458a17",
   "metadata": {},
   "outputs": [
    {
     "name": "stdout",
     "output_type": "stream",
     "text": [
      "9\n"
     ]
    }
   ],
   "source": [
    "#Create a program to find the length of a string without using the `len()` function.\n",
    "\n",
    "string='Shivdatta'\n",
    "\n",
    "length=0\n",
    "\n",
    "for i in string:\n",
    "    length+=1\n",
    "print(length)\n",
    "\n"
   ]
  },
  {
   "cell_type": "code",
   "execution_count": 108,
   "id": "d0252123-78eb-4b00-8ee7-5b0c6a11fa9c",
   "metadata": {},
   "outputs": [
    {
     "name": "stdout",
     "output_type": "stream",
     "text": [
      "5.5\n"
     ]
    }
   ],
   "source": [
    "#Write a program that calculates the average of a list of numbers using a `for` loop.\n",
    "\n",
    "list1=[1,2,3,4,5,6,7,8,9,10]\n",
    "\n",
    "average=0\n",
    "\n",
    "for i in list1:\n",
    "    average+=i/len(list1)\n",
    "print(average)"
   ]
  },
  {
   "cell_type": "code",
   "execution_count": 107,
   "id": "8a444b06-524c-49f7-9b3f-69f97d8502a9",
   "metadata": {},
   "outputs": [
    {
     "data": {
      "text/plain": [
       "10"
      ]
     },
     "execution_count": 107,
     "metadata": {},
     "output_type": "execute_result"
    }
   ],
   "source": [
    "#Develop a program that prints the first `n` Fibonacci numbers using a `for` loop.\n",
    "\n",
    "n=int(input(\"insert a number\" :)\n",
    "      \n",
    "\n",
    "\n"
   ]
  },
  {
   "cell_type": "code",
   "execution_count": 44,
   "id": "7d5b320b-eab6-43a5-8a09-7a7a6c4ef27d",
   "metadata": {},
   "outputs": [
    {
     "name": "stdout",
     "output_type": "stream",
     "text": [
      "True\n"
     ]
    }
   ],
   "source": [
    "#Write a program to check if a given list contains any duplicates using a `for` loop.\n",
    "\n",
    "list1=[1,2,3,4,3,5,6,7,8,9,0]\n",
    "\n",
    "Duplicates=False\n",
    "\n",
    "for i in range(len(list1)):\n",
    "    for j in range(i+1,len(list1)):\n",
    "        if list1[i]==list1[j]:\n",
    "            Duplicates=True\n",
    "        if Duplicates:\n",
    "           break \n",
    "            \n",
    "print(Duplicates)\n",
    "        \n",
    "        "
   ]
  },
  {
   "cell_type": "code",
   "execution_count": 1,
   "id": "83ca315b-d638-42bf-aaa7-af327a285509",
   "metadata": {},
   "outputs": [
    {
     "name": "stdout",
     "output_type": "stream",
     "text": [
      "Prime numbers : 2, 3, 5, 7, 11, 13, 17, 19, 23, 29, 31, 37, 41, 43, 47\n"
     ]
    }
   ],
   "source": [
    "#Create a program that prints the prime numbers in a given range using a `for` loop.\n",
    " \n",
    "\n",
    "start = 1\n",
    "end = 50  \n",
    "prime_numbers = []  \n",
    "for num in range(start, end + 1):\n",
    "    if num > 1:\n",
    "        is_prime = True\n",
    "        for i in range(2, int(num ** 0.5) + 1):\n",
    "            if num % i == 0:\n",
    "                is_prime = False\n",
    "                break\n",
    "        if is_prime:\n",
    "            prime_numbers.append(num)\n",
    "            \n",
    "# Print the list \n",
    "print(\"Prime numbers :\", \", \".join(map(str, prime_numbers)))\n",
    "\n",
    "\n",
    "\n",
    "\n"
   ]
  },
  {
   "cell_type": "code",
   "execution_count": 3,
   "id": "750ace71-660d-41d6-b4ce-c39ff39bd346",
   "metadata": {},
   "outputs": [
    {
     "name": "stdout",
     "output_type": "stream",
     "text": [
      "3\n"
     ]
    }
   ],
   "source": [
    "#Develop a program that counts the number of vowels in a string using a `for` loop.\n",
    "\n",
    "vowels=['a','e','i','o','u']\n",
    "\n",
    "string='shivdatta'\n",
    "\n",
    "count=0\n",
    "\n",
    "for i in string:\n",
    "    if i in vowels:\n",
    "        count+=1\n",
    "\n",
    "print(count)\n",
    "\n",
    "\n"
   ]
  },
  {
   "cell_type": "code",
   "execution_count": 28,
   "id": "a4eb7e33-d98a-4cf3-a4c1-f91d76dc3915",
   "metadata": {},
   "outputs": [
    {
     "name": "stdout",
     "output_type": "stream",
     "text": [
      "9\n"
     ]
    }
   ],
   "source": [
    "#Write a program to find the maximum element in a 2D list using a nested `for` loop.\n",
    "\n",
    "list1 = [[1, 2, 3],[4, 5, 6],[7, 8, 9]]\n",
    "\n",
    "Max=0\n",
    "\n",
    "for i in list1:\n",
    "    for j in i:\n",
    "        if j>Max:\n",
    "            Max=j\n",
    "print(Max)\n"
   ]
  },
  {
   "cell_type": "code",
   "execution_count": 42,
   "id": "e39052f0-140b-45fd-b890-a4ecec0cb4f2",
   "metadata": {},
   "outputs": [
    {
     "name": "stdin",
     "output_type": "stream",
     "text": [
      " 3\n"
     ]
    },
    {
     "name": "stdout",
     "output_type": "stream",
     "text": [
      "[1, 2, 2, 1, 2, 2, 9, 8, 8, 7, 8]\n"
     ]
    }
   ],
   "source": [
    "#Create a program that removes all occurrences of a specific element from a list using a `for` loop.\n",
    "\n",
    "list1=[1,2,3,2,1,2,3,2,9,8,8,7,8]\n",
    "\n",
    "element=int(input())\n",
    "\n",
    "for i in list1:\n",
    "    if element in list1:\n",
    "        list1.remove(element)\n",
    "            \n",
    "print(list1)\n",
    "\n"
   ]
  },
  {
   "cell_type": "code",
   "execution_count": 75,
   "id": "c18ea2f9-39ca-4e29-b230-313fb0f69a5f",
   "metadata": {},
   "outputs": [
    {
     "name": "stdout",
     "output_type": "stream",
     "text": [
      "multiplication table for 1\n",
      "1*1=1\n",
      "1*2=2\n",
      "1*3=3\n",
      "1*4=4\n",
      "1*5=5\n",
      "1*6=6\n",
      "1*7=7\n",
      "1*8=8\n",
      "1*9=9\n",
      "1*10=10\n",
      "multiplication table for 2\n",
      "2*1=2\n",
      "2*2=4\n",
      "2*3=6\n",
      "2*4=8\n",
      "2*5=10\n",
      "2*6=12\n",
      "2*7=14\n",
      "2*8=16\n",
      "2*9=18\n",
      "2*10=20\n",
      "multiplication table for 3\n",
      "3*1=3\n",
      "3*2=6\n",
      "3*3=9\n",
      "3*4=12\n",
      "3*5=15\n",
      "3*6=18\n",
      "3*7=21\n",
      "3*8=24\n",
      "3*9=27\n",
      "3*10=30\n",
      "multiplication table for 4\n",
      "4*1=4\n",
      "4*2=8\n",
      "4*3=12\n",
      "4*4=16\n",
      "4*5=20\n",
      "4*6=24\n",
      "4*7=28\n",
      "4*8=32\n",
      "4*9=36\n",
      "4*10=40\n",
      "multiplication table for 5\n",
      "5*1=5\n",
      "5*2=10\n",
      "5*3=15\n",
      "5*4=20\n",
      "5*5=25\n",
      "5*6=30\n",
      "5*7=35\n",
      "5*8=40\n",
      "5*9=45\n",
      "5*10=50\n"
     ]
    }
   ],
   "source": [
    "#Develop a program that generates a multiplication table for numbers from 1 to 5 using a nested `for` loop.\n",
    "\n",
    "start=1\n",
    "end=5\n",
    "\n",
    "table=0\n",
    "\n",
    "for i in range(start,end+1):\n",
    "    print(f'multiplication table for {i}')\n",
    "    for j in range(1,11):\n",
    "        table=i*j\n",
    "        print(f'{i}*{j}={table}')\n",
    "\n"
   ]
  },
  {
   "cell_type": "code",
   "execution_count": 85,
   "id": "24b252c4-2843-4505-9057-56a9b418e979",
   "metadata": {},
   "outputs": [
    {
     "name": "stdout",
     "output_type": "stream",
     "text": [
      "[-5.0, 0.0, 7.222222222222222, 12.222222222222221, 13.333333333333332, 18.333333333333332, 19.444444444444443, 24.444444444444443, 25.555555555555554, 30.555555555555554, 31.666666666666664, 36.666666666666664, 37.77777777777778]\n"
     ]
    }
   ],
   "source": [
    "#Write a program that converts a list of Fahrenheit temperatures to Celsius using a `for` loop.\n",
    "\n",
    "Fahrenheit=[23,32,45,54,56,65,67,76,78,87,89,98,100]\n",
    "\n",
    "Celsius=[]\n",
    "\n",
    "for i in range(0,len(Fahrenheit)):\n",
    "    (Celsius.append((Fahrenheit[i] - 32) / 1.8))\n",
    "print(Celsius)\n"
   ]
  },
  {
   "cell_type": "code",
   "execution_count": 106,
   "id": "4a4926c5-1550-4062-9a80-b44e45fa4abd",
   "metadata": {},
   "outputs": [
    {
     "name": "stdout",
     "output_type": "stream",
     "text": [
      "[22, 33, 33, 44, 44, 4, 5, 323, 23, 546656, 6, 6]\n",
      "{546656, 33, 323, 4, 5, 6, 44, 22, 23}\n"
     ]
    }
   ],
   "source": [
    "#Create a program to print the common elements from two lists using a `for` loop.\n",
    "\n",
    "list1=[11,22,33,44,3,4,5,632,3,323,23,23244,546656,6]\n",
    "\n",
    "list2=[22,33,44,1,1212,6,7,8,9,6,23,33,44,545,546656,323,5,455,4,34,34]\n",
    "\n",
    "common=[]\n",
    "\n",
    "for i in range(0,len(list1)):\n",
    "    for j in range(0,len(list2)):\n",
    "         if list1[i]==list2[j]:\n",
    "                common.append(list1[i])\n",
    "print(common)\n",
    "\n",
    "print(set(common))"
   ]
  },
  {
   "cell_type": "code",
   "execution_count": 115,
   "id": "dc31ec1e-0387-490e-baa5-7d431790c54f",
   "metadata": {},
   "outputs": [
    {
     "name": "stdout",
     "output_type": "stream",
     "text": [
      "* \n",
      "* * \n",
      "* * * \n",
      "* * * * \n",
      "* * * * * \n",
      "* * * * * * \n"
     ]
    }
   ],
   "source": [
    "#Develop a program that prints the pattern of right-angled triangles using a `for` loop.Use ‘*’ to draw the pattern\n",
    "\n",
    "for i in range(0,6):\n",
    "    for j in range(i+1):\n",
    "        print('*',end=' ')\n",
    "    print()\n",
    "\n"
   ]
  },
  {
   "cell_type": "code",
   "execution_count": 124,
   "id": "2608065c-bb44-4a12-a92f-6e03827b15a8",
   "metadata": {},
   "outputs": [
    {
     "name": "stdin",
     "output_type": "stream",
     "text": [
      "number1:  8\n",
      "number2:  16\n"
     ]
    },
    {
     "name": "stdout",
     "output_type": "stream",
     "text": [
      "The GCD of 8 and 16 is 8\n"
     ]
    }
   ],
   "source": [
    "# #Write a program to find the greatest common divisor (GCD) of two numbers using a `for` loop.\n",
    "\n",
    "num1 = int(input(\"number1: \"))\n",
    "num2 = int(input(\"number2: \"))\n",
    "\n",
    "smaller = min(num1, num2)\n",
    "larger = max(num1, num2)\n",
    "\n",
    "gcd = 1\n",
    "\n",
    "for i in range(1, smaller + 1):\n",
    "    if smaller % i == 0 and larger % i == 0:\n",
    "        gcd = i\n",
    "\n",
    "print(f\"The GCD of {num1} and {num2} is {gcd}\")\n"
   ]
  },
  {
   "cell_type": "code",
   "execution_count": 13,
   "id": "ed3b1b5c-451d-48da-a682-67987c334561",
   "metadata": {},
   "outputs": [
    {
     "data": {
      "text/plain": [
       "21"
      ]
     },
     "execution_count": 13,
     "metadata": {},
     "output_type": "execute_result"
    }
   ],
   "source": [
    "#Create a program that calculates the sum of the digits of numbers in a list using a list comprehension\n",
    "\n",
    "lst=[1,2,3,4,5,6]\n",
    "\n",
    "x=sum([i for i in lst ])\n",
    "x"
   ]
  },
  {
   "cell_type": "code",
   "execution_count": 16,
   "id": "722da01e-0d2c-47a7-98ff-3be5c68c0ebd",
   "metadata": {},
   "outputs": [
    {
     "name": "stdout",
     "output_type": "stream",
     "text": [
      "[3, 7]\n"
     ]
    }
   ],
   "source": [
    "#Write a program to find the prime factors of a given number using a `for` loop and list comprehension\n",
    "\n",
    "n=21\n",
    "\n",
    "\n",
    "# Define a list comprehension to find prime factors\n",
    "x = [i for i in range(2, n + 1) if n % i == 0 and all(i % j != 0 for j in range(2, int(i**0.5) + 1))]\n",
    "\n",
    "print(x)\n"
   ]
  },
  {
   "cell_type": "code",
   "execution_count": 21,
   "id": "a8b34798-f44d-4c7c-af26-eafbd397ef51",
   "metadata": {},
   "outputs": [
    {
     "data": {
      "text/plain": [
       "[1, 2, 3, 4, 5, 6, 7]"
      ]
     },
     "execution_count": 21,
     "metadata": {},
     "output_type": "execute_result"
    }
   ],
   "source": [
    "#Develop a program that extracts unique elements from a list and stores them in a new list using a list comprehension\n",
    "\n",
    "lst=[1,2,3,4,5,6,7,6,5,4]\n",
    "\n",
    "lst1=[i for i in set(lst)]\n",
    "\n",
    "lst1\n",
    "\n"
   ]
  },
  {
   "cell_type": "code",
   "execution_count": 27,
   "id": "de9658e5-a7da-4cb6-bb13-f6735fccfde5",
   "metadata": {},
   "outputs": [
    {
     "name": "stdout",
     "output_type": "stream",
     "text": [
      "[1, 2, 3, 4, 5, 6, 7, 8, 9, 11, 22, 33, 44, 55, 66, 77, 88, 99, 101, 111, 121, 131, 141, 151, 161, 171, 181, 191, 202, 212, 222, 232, 242, 252, 262, 272, 282, 292, 303, 313, 323, 333, 343, 353, 363, 373, 383, 393]\n"
     ]
    }
   ],
   "source": [
    "#Create a program that generates a list of all palindromic numbers up to a specified limit using a list comprehension\n",
    "\n",
    "limit = 400 \n",
    "\n",
    "x = [i for i in range(1, limit + 1) if str(i) == str(i)[::-1]]\n",
    "\n",
    "# Print the list of palindromic numbers\n",
    "print(x)\n",
    "\n"
   ]
  },
  {
   "cell_type": "code",
   "execution_count": 55,
   "id": "83dba10d-27ee-4e18-b3b0-0ea09e6c05a9",
   "metadata": {},
   "outputs": [
    {
     "data": {
      "text/plain": [
       "[1, 2, 3, 4, 3, 4, 5, 4, 1, 1, 2]"
      ]
     },
     "execution_count": 55,
     "metadata": {},
     "output_type": "execute_result"
    }
   ],
   "source": [
    "#Write a program to flatten a nested list using list comprehension.\n",
    "\n",
    "lst=[1,2,3,4,[3,4,5],[4,1,1,2]]\n",
    "\n",
    "x=[i for i in lst for i in (i if type(i)==list else [i])]\n",
    "x\n"
   ]
  },
  {
   "cell_type": "code",
   "execution_count": 37,
   "id": "4e2b24bc-e6ed-4555-8d13-f9af59a3b00c",
   "metadata": {},
   "outputs": [
    {
     "name": "stdout",
     "output_type": "stream",
     "text": [
      "[20, 25]\n"
     ]
    }
   ],
   "source": [
    "#Develop a program that computes the sum of even and odd numbers in a list separately using list comprehension\n",
    "\n",
    "lst = [1, 2, 3, 4, 5, 6, 7, 8, 9]\n",
    "\n",
    "x = [sum([i for i in lst if i%2==0]),sum([i for i in lst if i%2!=0])]\n",
    "print(x)\n"
   ]
  },
  {
   "cell_type": "code",
   "execution_count": 44,
   "id": "c816bf6d-271f-4eb8-a5b3-6ed987e483ad",
   "metadata": {},
   "outputs": [
    {
     "data": {
      "text/plain": [
       "[1, 9, 25, 49, 81]"
      ]
     },
     "execution_count": 44,
     "metadata": {},
     "output_type": "execute_result"
    }
   ],
   "source": [
    "#Create a program that generates a list of squares of odd numbers between 1 and 10 using list comprehension\n",
    "\n",
    "start=1\n",
    "end=10\n",
    "\n",
    "x=[i*i for i in range(start,end+1) if i%2!=0 ]\n",
    "\n",
    "x"
   ]
  },
  {
   "cell_type": "code",
   "execution_count": 54,
   "id": "06ce42e1-426b-4607-8c3a-ff7efcf67c6d",
   "metadata": {},
   "outputs": [
    {
     "data": {
      "text/plain": [
       "{'shiv': 2, 'pwskills': 4, 'ram': 6, 'sham': 8}"
      ]
     },
     "execution_count": 54,
     "metadata": {},
     "output_type": "execute_result"
    }
   ],
   "source": [
    "#Write a program that combines two lists into a dictionary using list comprehension.\n",
    "\n",
    "lst1=['shiv','pwskills','ram','sham']\n",
    "\n",
    "lst2=[2,4,6,8]\n",
    "\n",
    "x={lst1[i]: lst2[i] for i in range(min(len(lst1), len(lst2)))}\n",
    "\n",
    "x"
   ]
  },
  {
   "cell_type": "code",
   "execution_count": 53,
   "id": "dd2326df-8dd9-4227-b9ca-804c5dbe5c67",
   "metadata": {},
   "outputs": [
    {
     "data": {
      "text/plain": [
       "4"
      ]
     },
     "execution_count": 53,
     "metadata": {},
     "output_type": "execute_result"
    }
   ],
   "source": [
    "min(len(lst1), len(lst2))"
   ]
  },
  {
   "cell_type": "code",
   "execution_count": 4,
   "id": "22888980-0401-4c7b-9e39-b2f81b83c140",
   "metadata": {},
   "outputs": [
    {
     "data": {
      "text/plain": [
       "['a', 'e', 'i']"
      ]
     },
     "execution_count": 4,
     "metadata": {},
     "output_type": "execute_result"
    }
   ],
   "source": [
    "#Develop a program that extracts the vowels from a string and stores them in a list using list comprehension.\n",
    "\n",
    "lst=['a','b','c','d','e','f','g','h','i','j','k','l']\n",
    "\n",
    "x=[i for i in lst if i in ['a','e','i','o','u']]\n",
    "x"
   ]
  },
  {
   "cell_type": "code",
   "execution_count": 20,
   "id": "68216909-d752-4130-9945-f69065bff218",
   "metadata": {},
   "outputs": [
    {
     "data": {
      "text/plain": [
       "[1, 2, 3, 4]"
      ]
     },
     "execution_count": 20,
     "metadata": {},
     "output_type": "execute_result"
    }
   ],
   "source": [
    "#Create a program that removes all non-numeric characters from a list of strings using list comprehension\n",
    "lst=[1,2,3,'a',4,'b','d']\n",
    "\n",
    "x=[i for i in lst  if type(i)==int]\n",
    "x\n"
   ]
  },
  {
   "cell_type": "code",
   "execution_count": 54,
   "id": "570c8eb1-6855-4ba2-9d8c-ccf07f32d6d5",
   "metadata": {},
   "outputs": [
    {
     "data": {
      "text/plain": [
       "[(3, 4, 5), (6, 8, 10)]"
      ]
     },
     "execution_count": 54,
     "metadata": {},
     "output_type": "execute_result"
    }
   ],
   "source": [
    "#Create a program that generates a list of all Pythagorean triplets up to a specified limit using list comprehension\n",
    "\n",
    "limit=10\n",
    "\n",
    "x=[(i,j,k) for i in range(1,limit+1) for j in range(i,limit+1) for k in range(j,limit+1)\n",
    "     if (k*k)==(i*i)+(j*j) ]\n",
    "x\n",
    "\n"
   ]
  },
  {
   "cell_type": "code",
   "execution_count": 56,
   "id": "9dd07701-42a4-400d-b472-5c0d9003da81",
   "metadata": {},
   "outputs": [
    {
     "data": {
      "text/plain": [
       "[('s', 1),\n",
       " ('s', 2),\n",
       " ('s', 3),\n",
       " ('s', 4),\n",
       " ('h', 1),\n",
       " ('h', 2),\n",
       " ('h', 3),\n",
       " ('h', 4),\n",
       " ('i', 1),\n",
       " ('i', 2),\n",
       " ('i', 3),\n",
       " ('i', 4),\n",
       " ('v', 1),\n",
       " ('v', 2),\n",
       " ('v', 3),\n",
       " ('v', 4)]"
      ]
     },
     "execution_count": 56,
     "metadata": {},
     "output_type": "execute_result"
    }
   ],
   "source": [
    "#Develop a program that generates a list of all possible combinations of two lists using list comprehension\n",
    "\n",
    "lst=['s','h','i','v']\n",
    "lst1=[1,2,3,4]\n",
    "\n",
    "x=[(i,j) for i in lst for j in lst1 ]\n",
    "x"
   ]
  },
  {
   "cell_type": "code",
   "execution_count": 136,
   "id": "cd0a8f3a-2a1e-475c-8bec-0bc904a527a0",
   "metadata": {},
   "outputs": [
    {
     "name": "stdout",
     "output_type": "stream",
     "text": [
      "6.6\n",
      "8.0\n",
      "8\n"
     ]
    }
   ],
   "source": [
    "#Write a program that calculates the mean, median, and mode of a list of numbers using list comprehension\n",
    "import numpy as np\n",
    "\n",
    "lst=[8,4,7,1,6,8,8,8,8,8]\n",
    "\n",
    "sorted_list=sorted(lst)\n",
    "index=len(sorted_list)//2\n",
    "\n",
    "mean=sum(lst)/len(lst)\n",
    "\n",
    "median=(sorted_list[index]+sorted_list[index-1])/2 if len(sorted_list)%2==0 else sorted_list[index]\n",
    "\n",
    "mode=max([(lst.count(i),i) for i in lst])[1]\n",
    "\n",
    "\n",
    "print(mean)\n",
    "print(median)\n",
    "print(mode)"
   ]
  },
  {
   "cell_type": "code",
   "execution_count": 2,
   "id": "d0464fc6-da3a-4bad-91fb-d5caae9c4306",
   "metadata": {},
   "outputs": [
    {
     "data": {
      "text/plain": [
       "[0, 1, 2, 3, 4]"
      ]
     },
     "execution_count": 2,
     "metadata": {},
     "output_type": "execute_result"
    }
   ],
   "source": [
    "#Create a program that generates Pascal's triangle up to a specified number of rows using list comprehension\n"
   ]
  },
  {
   "cell_type": "code",
   "execution_count": 17,
   "id": "fabfac0e-4e98-4626-b9d5-09bf22313bd1",
   "metadata": {},
   "outputs": [
    {
     "data": {
      "text/plain": [
       "[1, 2, 6, 6, 3]"
      ]
     },
     "execution_count": 17,
     "metadata": {},
     "output_type": "execute_result"
    }
   ],
   "source": [
    "#Develop a program that calculates the sum of the digits of a factorial of numbers from 1 to 5 using list comprehension\n",
    "x = [sum(int(j) for j in str(i)) for i in [1, 2, 6, 24, 120]]\n",
    "x\n"
   ]
  },
  {
   "cell_type": "code",
   "execution_count": 49,
   "id": "e7b60713-8d95-4f0a-aa96-349cb6dbeeba",
   "metadata": {},
   "outputs": [
    {
     "data": {
      "text/plain": [
       "'comprehension'"
      ]
     },
     "execution_count": 49,
     "metadata": {},
     "output_type": "execute_result"
    }
   ],
   "source": [
    "#Write a program that finds the longest word in a sentence using list comprehension.\n",
    "\n",
    "sentence='Write a program that finds the longest word in sentence using list comprehension'\n",
    "\n",
    "x=sentence.split()[[len(i) for i in sentence.split()].index(max([len(i) for i in sentence.split()]))]\n",
    "x\n"
   ]
  },
  {
   "cell_type": "code",
   "execution_count": 58,
   "id": "99e61d0d-d7de-4ec0-b7c3-979af51d5f75",
   "metadata": {},
   "outputs": [
    {
     "data": {
      "text/plain": [
       "['comprehension']"
      ]
     },
     "execution_count": 58,
     "metadata": {},
     "output_type": "execute_result"
    }
   ],
   "source": [
    "#Create a program that filters a list of strings to include only those with more than three vowels using list comprehension\n",
    "\n",
    "lst = [\"Create\",\"program\",\"that\",\"filters\",\"list\",\"strings\",\"include\",\"comprehension\"]\n",
    "\n",
    "\n",
    "x = [i for i in lst if sum(1 for j in i if j.lower() in \"aeiou\") > 3]\n",
    "\n",
    "x\n",
    "\n"
   ]
  },
  {
   "cell_type": "code",
   "execution_count": 68,
   "id": "f20b9531-4c32-47d7-9a34-89560e3f8d91",
   "metadata": {},
   "outputs": [
    {
     "data": {
      "text/plain": [
       "13501"
      ]
     },
     "execution_count": 68,
     "metadata": {},
     "output_type": "execute_result"
    }
   ],
   "source": [
    "#Develop a program that calculates the sum of the digits of numbers from 1 to 1000 using list comprehension\n",
    "start=1\n",
    "end=1000\n",
    "\n",
    "x=[sum(int(j) for j in str(i)) for i in range(start, end+1) ]\n",
    "\n",
    "total=sum(x)\n",
    "total\n",
    "\n"
   ]
  },
  {
   "cell_type": "code",
   "execution_count": null,
   "id": "d3943570-55e6-49fb-a72c-a343392b539d",
   "metadata": {},
   "outputs": [],
   "source": []
  },
  {
   "cell_type": "code",
   "execution_count": null,
   "id": "9ddf12cd-af04-4130-afe7-b74e9168014d",
   "metadata": {},
   "outputs": [],
   "source": []
  }
 ],
 "metadata": {
  "kernelspec": {
   "display_name": "Python 3 (ipykernel)",
   "language": "python",
   "name": "python3"
  },
  "language_info": {
   "codemirror_mode": {
    "name": "ipython",
    "version": 3
   },
   "file_extension": ".py",
   "mimetype": "text/x-python",
   "name": "python",
   "nbconvert_exporter": "python",
   "pygments_lexer": "ipython3",
   "version": "3.10.8"
  }
 },
 "nbformat": 4,
 "nbformat_minor": 5
}
