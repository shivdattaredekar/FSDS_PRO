{
 "cells": [
  {
   "cell_type": "markdown",
   "id": "26842618-a1ab-483a-b2e8-07aac47d3e08",
   "metadata": {},
   "source": [
    "### TOPIC: Python Basics Variable"
   ]
  },
  {
   "cell_type": "code",
   "execution_count": 27,
   "id": "c77b0cce-88d1-4b46-9722-8c34a0f89c1b",
   "metadata": {},
   "outputs": [
    {
     "name": "stdout",
     "output_type": "stream",
     "text": [
      "1\n",
      "2\n",
      "2\n",
      "1\n"
     ]
    }
   ],
   "source": [
    "#Que 1\n",
    "\n",
    "X=1\n",
    "Y=2\n",
    "print(X)\n",
    "print(Y)\n",
    "\n",
    "\n",
    "X=X+Y\n",
    "Y=X-Y\n",
    "X=X-Y\n",
    "\n",
    "print(X)\n",
    "print(Y)"
   ]
  },
  {
   "cell_type": "code",
   "execution_count": 24,
   "id": "3a292be2-3a50-412b-bda5-cd2201bd3620",
   "metadata": {},
   "outputs": [
    {
     "name": "stdin",
     "output_type": "stream",
     "text": [
      "width of rectangle:  2\n",
      "length of rectangle:  2\n"
     ]
    },
    {
     "name": "stdout",
     "output_type": "stream",
     "text": [
      "Area of rectangle: 4.0\n"
     ]
    }
   ],
   "source": [
    "#Que 2\n",
    "\n",
    "#are of rectangle\n",
    "\n",
    "width=float(input(\"width of rectangle: \"))\n",
    "length=float(input(\"length of rectangle: \"))\n",
    "\n",
    "area=width*length\n",
    "\n",
    "print(\"Area of rectangle:\",area)\n",
    "\n"
   ]
  },
  {
   "cell_type": "code",
   "execution_count": 26,
   "id": "0172517c-5e67-4189-9b43-72bc2c5808e5",
   "metadata": {},
   "outputs": [
    {
     "name": "stdin",
     "output_type": "stream",
     "text": [
      "Enter temperature in Celsius:  1\n"
     ]
    },
    {
     "name": "stdout",
     "output_type": "stream",
     "text": [
      " 33.8 degrees Fahrenheit.\n"
     ]
    }
   ],
   "source": [
    "#Que 3\n",
    "celsius = float(input(\"Enter temperature in Celsius: \"))\n",
    "\n",
    "#  Celsius to Fahrenheit\n",
    "fahrenheit = (celsius * 9/5) + 32\n",
    "\n",
    "# result\n",
    "print(f\" {fahrenheit} degrees Fahrenheit.\")\n"
   ]
  },
  {
   "cell_type": "markdown",
   "id": "a852d744-d51d-4871-8cf7-e54f58ad86af",
   "metadata": {},
   "source": [
    "### TOPIC: String Based Questions"
   ]
  },
  {
   "cell_type": "code",
   "execution_count": 30,
   "id": "73f8c8b6-ba31-4641-bd88-7f2c9d54e715",
   "metadata": {},
   "outputs": [
    {
     "name": "stdin",
     "output_type": "stream",
     "text": [
      " PW is great\n"
     ]
    },
    {
     "name": "stdout",
     "output_type": "stream",
     "text": [
      "length of string: 11\n"
     ]
    }
   ],
   "source": [
    "#que1\n",
    "\n",
    "string=str(input())\n",
    "\n",
    "print(\"length of string:\",len(string))\n"
   ]
  },
  {
   "cell_type": "code",
   "execution_count": 35,
   "id": "17f38871-90df-4646-ac69-381e5a7a2d36",
   "metadata": {},
   "outputs": [
    {
     "name": "stdin",
     "output_type": "stream",
     "text": [
      " PW is great\n"
     ]
    },
    {
     "name": "stdout",
     "output_type": "stream",
     "text": [
      "3\n"
     ]
    }
   ],
   "source": [
    "#que 2\n",
    "\n",
    "\n",
    "sentence = input(\"\")\n",
    "\n",
    "vowels = \"aeiou\"\n",
    "\n",
    "count=0\n",
    "\n",
    "for i in sentence:\n",
    "    if i in vowels:\n",
    "        count+=1\n",
    "\n",
    "print(count)"
   ]
  },
  {
   "cell_type": "code",
   "execution_count": 37,
   "id": "db8972eb-b399-4fd4-8e22-c7f97c3f9d21",
   "metadata": {},
   "outputs": [
    {
     "name": "stdout",
     "output_type": "stream",
     "text": [
      "ecneics ataD\n"
     ]
    }
   ],
   "source": [
    "#Que 3\n",
    "\n",
    "string='Data science'\n",
    "\n",
    "print(string[::-1])\n",
    "\n"
   ]
  },
  {
   "cell_type": "code",
   "execution_count": 40,
   "id": "6905072c-6f3e-4fcd-bcfb-ec949c8ed47b",
   "metadata": {},
   "outputs": [
    {
     "name": "stdin",
     "output_type": "stream",
     "text": [
      " madam\n"
     ]
    },
    {
     "name": "stdout",
     "output_type": "stream",
     "text": [
      "string is palindrome\n"
     ]
    }
   ],
   "source": [
    "#Que 4\n",
    "\n",
    "string=str(input())\n",
    "\n",
    "if string==string[::-1]:\n",
    "           print(\"string is palindrome\")\n",
    "else:\n",
    "           print(\"string is not palindrome\")\n",
    "           \n",
    "           "
   ]
  },
  {
   "cell_type": "code",
   "execution_count": 42,
   "id": "82b130bf-633a-4435-8d18-45110316d72d",
   "metadata": {},
   "outputs": [
    {
     "name": "stdin",
     "output_type": "stream",
     "text": [
      " Pw is a great class\n"
     ]
    },
    {
     "name": "stdout",
     "output_type": "stream",
     "text": [
      "Pwisagreatclass\n"
     ]
    }
   ],
   "source": [
    "string=str(input())\n",
    "\n",
    "string=string.replace(\" \", \"\")\n",
    "\n",
    "print(string)"
   ]
  },
  {
   "cell_type": "code",
   "execution_count": null,
   "id": "984da7a0-c5ad-43c9-a5b9-bace1180b6dd",
   "metadata": {},
   "outputs": [],
   "source": []
  },
  {
   "cell_type": "code",
   "execution_count": null,
   "id": "2baa0478-41b1-451b-9f8f-d60489c7a2dc",
   "metadata": {},
   "outputs": [],
   "source": []
  },
  {
   "cell_type": "code",
   "execution_count": null,
   "id": "f2dde51d-de37-483c-a288-fffaf0c7fd54",
   "metadata": {},
   "outputs": [],
   "source": []
  },
  {
   "cell_type": "code",
   "execution_count": null,
   "id": "13fc04fa-f92f-4766-88f7-213d79bb58f2",
   "metadata": {},
   "outputs": [],
   "source": []
  }
 ],
 "metadata": {
  "kernelspec": {
   "display_name": "Python 3 (ipykernel)",
   "language": "python",
   "name": "python3"
  },
  "language_info": {
   "codemirror_mode": {
    "name": "ipython",
    "version": 3
   },
   "file_extension": ".py",
   "mimetype": "text/x-python",
   "name": "python",
   "nbconvert_exporter": "python",
   "pygments_lexer": "ipython3",
   "version": "3.10.8"
  }
 },
 "nbformat": 4,
 "nbformat_minor": 5
}
