{
 "cells": [
  {
   "cell_type": "code",
   "execution_count": 2,
   "id": "1ef15be7-f952-47f0-baad-c3724fdfdcaa",
   "metadata": {},
   "outputs": [
    {
     "name": "stdout",
     "output_type": "stream",
     "text": [
      "True\n"
     ]
    }
   ],
   "source": [
    "#1. Given an array, check if it contains any duplicates or not.\n",
    "\n",
    "def duplicates(arr):\n",
    "    for i in arr:\n",
    "        if i in arr[i:] :\n",
    "                return True\n",
    "        else :\n",
    "                return False \n",
    "\n",
    "# Driver code\n",
    "arr = [1, 2, 4, 2,1,23 ,3,5, 9]\n",
    "\n",
    "result = duplicates(arr)\n",
    "\n",
    "print(result)\n"
   ]
  },
  {
   "cell_type": "code",
   "execution_count": 6,
   "id": "ba38e0d6-bc5c-4c72-9c5a-5ec58a1620bb",
   "metadata": {},
   "outputs": [
    {
     "name": "stdout",
     "output_type": "stream",
     "text": [
      "[5, 6, 7, 1, 2, 3, 4]\n"
     ]
    }
   ],
   "source": [
    "#2. Given an array and an integer k, rotate the array to the right by k steps.\n",
    "\n",
    "def reverse(arr, start, end):\n",
    "    while start < end:\n",
    "        arr[start], arr[end] = arr[end], arr[start]\n",
    "        start += 1\n",
    "        end -= 1\n",
    "\n",
    "\n",
    "def rotate_array(arr, k):\n",
    "    n = len(arr)\n",
    "\n",
    "    k = k % n\n",
    "\n",
    "    reverse(arr, 0, n - 1)\n",
    "\n",
    "    reverse(arr, 0, k - 1)\n",
    "\n",
    "    reverse(arr, k, n - 1)\n",
    "\n",
    "arr = [1, 2, 3, 4, 5, 6, 7]\n",
    "k = 3\n",
    "rotate_array(arr, k)\n",
    "print(arr)\n"
   ]
  },
  {
   "cell_type": "code",
   "execution_count": 32,
   "id": "e154c83d-67d1-4092-8728-cb7d31f02af6",
   "metadata": {},
   "outputs": [
    {
     "name": "stdout",
     "output_type": "stream",
     "text": [
      "[12, 9, 7, 5, 4, 2]\n"
     ]
    }
   ],
   "source": [
    "#3. Reverse the given array in-place, means without using any extra data structure.\n",
    "\n",
    "\n",
    "def reverse_array(array, start_index, end_index):\n",
    "    if start_index < end_index:\n",
    "        array[start_index], array[end_index] = array[end_index], array[start_index]\n",
    "\n",
    "        reverse_array(array, start_index + 1, end_index - 1)\n",
    "\n",
    "# Driver code:\n",
    "arr = [2, 4, 5, 7, 9, 12]\n",
    "reverse_array(arr, 0, len(arr) - 1)\n",
    "print(arr)\n",
    "\n",
    "    "
   ]
  },
  {
   "cell_type": "code",
   "execution_count": 49,
   "id": "b73c1b5c-21ca-4a67-828b-de2b7dbcec5b",
   "metadata": {},
   "outputs": [
    {
     "data": {
      "text/plain": [
       "20"
      ]
     },
     "execution_count": 49,
     "metadata": {},
     "output_type": "execute_result"
    }
   ],
   "source": [
    "#4. Given an array of integers, find the maximum element in an array\n",
    "arr = [10, 5, 20, 8, 15]\n",
    "Output = 20\n",
    "\n",
    "def max_element(arr):\n",
    "    max_ele = arr[0]\n",
    "    for i in arr:\n",
    "        if  i > max_ele:\n",
    "            max_ele = i\n",
    "            return max_ele\n",
    "\n",
    "\n",
    "max_element(arr)        \n"
   ]
  },
  {
   "cell_type": "code",
   "execution_count": 4,
   "id": "2fc887cb-b932-41fc-9358-6f02dd0df973",
   "metadata": {},
   "outputs": [
    {
     "name": "stdout",
     "output_type": "stream",
     "text": [
      "[1, 2, 3, 4, 5]\n"
     ]
    }
   ],
   "source": [
    "def remove_duplicates(arr):\n",
    "    n = len(arr)\n",
    "\n",
    "    if n <= 1:\n",
    "        return arr\n",
    "\n",
    "    unique_index = 1\n",
    "\n",
    "    for i in range(1, n):\n",
    "        if arr[i] != arr[i - 1]:\n",
    "            arr[unique_index] = arr[i]\n",
    "            unique_index += 1\n",
    "\n",
    "    return arr[:unique_index]\n",
    "\n",
    "arr = [1, 1, 2, 2, 2, 3, 3, 4, 4, 4, 5, 5]\n",
    "result = remove_duplicates(arr)\n",
    "print(result)\n"
   ]
  },
  {
   "cell_type": "code",
   "execution_count": null,
   "id": "eed7503b-a87b-4383-bee2-bf6d2341f366",
   "metadata": {},
   "outputs": [],
   "source": [
    "\n",
    "\n",
    "\n",
    "\n",
    "\n",
    "\n",
    "\n"
   ]
  }
 ],
 "metadata": {
  "kernelspec": {
   "display_name": "Python 3 (ipykernel)",
   "language": "python",
   "name": "python3"
  },
  "language_info": {
   "codemirror_mode": {
    "name": "ipython",
    "version": 3
   },
   "file_extension": ".py",
   "mimetype": "text/x-python",
   "name": "python",
   "nbconvert_exporter": "python",
   "pygments_lexer": "ipython3",
   "version": "3.10.8"
  }
 },
 "nbformat": 4,
 "nbformat_minor": 5
}
